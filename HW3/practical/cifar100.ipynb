{
  "cells": [
    {
      "cell_type": "markdown",
      "metadata": {
        "id": "_JjB0dTd54WG"
      },
      "source": [
        "# Homework 3: optimization of a CNN model\n",
        "The task of this homework is to optimize a CNN model for the CIFAR-100. You are free to define the architecture of the model, and the training procedure. The only contraints are:\n",
        "- It must be a `torch.nn.Module` object\n",
        "- The number of trained parameters must be less than 1 million\n",
        "- The test dataset must not be used for any step of training. It is better if don't even import it.\n",
        "- The final training notebook should run on Google Colab within a maximum 1 hour approximately.\n",
        "\n",
        "For the grading, you must use the `evaluate` function defined below. It takes a model as input, and returns the test accuracy as output.\n",
        "\n",
        "As a guideline, you are expected to **discuss** and motivate your choices regarding:\n",
        "- Model architecture\n",
        "- Hyperparameters (learning rate, batch size, etc)\n",
        "- Regularization methods\n",
        "- Optimizer\n",
        "- Validation scheme\n",
        "\n",
        "A code without any explanation of the choices will not be accepted. Test accuracy is not the only measure of success for this homework.\n",
        "\n",
        "Remember that most of the train process is randomized, store your model's weights after training and load it before the evaluation!"
      ]
    },
    {
      "cell_type": "markdown",
      "metadata": {
        "id": "GfNvNIxz54WI"
      },
      "source": [
        "## Example"
      ]
    },
    {
      "cell_type": "markdown",
      "metadata": {
        "id": "bp5Mgthn54WJ"
      },
      "source": [
        "### Loading packages and libraries"
      ]
    },
    {
      "cell_type": "code",
      "execution_count": 1,
      "metadata": {
        "colab": {
          "base_uri": "https://localhost:8080/"
        },
        "id": "uWHU_pQG54WJ",
        "outputId": "87faeac8-3324-416d-c323-dcf278e51924"
      },
      "outputs": [
        {
          "output_type": "stream",
          "name": "stdout",
          "text": [
            "Downloading https://www.cs.toronto.edu/~kriz/cifar-100-python.tar.gz to ./data/cifar-100-python.tar.gz\n"
          ]
        },
        {
          "output_type": "stream",
          "name": "stderr",
          "text": [
            "100%|██████████| 169M/169M [00:18<00:00, 9.14MB/s]\n"
          ]
        },
        {
          "output_type": "stream",
          "name": "stdout",
          "text": [
            "Extracting ./data/cifar-100-python.tar.gz to ./data\n",
            "Using device: cuda\n",
            "Files already downloaded and verified\n"
          ]
        }
      ],
      "source": [
        "import torch\n",
        "import torchvision\n",
        "from evaluate import evaluate\n",
        "\n",
        "# Import the best device available\n",
        "device = torch.device('cuda' if torch.cuda.is_available() else 'mps' if torch.mps.is_available() else 'cpu')\n",
        "print('Using device:', device)\n",
        "\n",
        "# load the data\n",
        "train_dataset = torchvision.datasets.CIFAR100(root='./data', train=True, download=True, transform=torchvision.transforms.ToTensor())"
      ]
    },
    {
      "cell_type": "markdown",
      "metadata": {
        "id": "uXBRG6qX54WL"
      },
      "source": [
        "### Example of a simple CNN model"
      ]
    },
    {
      "cell_type": "code",
      "execution_count": 2,
      "metadata": {
        "colab": {
          "base_uri": "https://localhost:8080/"
        },
        "id": "u_zvq0_l54WL",
        "outputId": "01e79b5e-a6e3-4810-b2e2-37878ea3322d"
      },
      "outputs": [
        {
          "output_type": "stream",
          "name": "stdout",
          "text": [
            "Model parameters:  556708\n"
          ]
        }
      ],
      "source": [
        "class TinyNet(torch.nn.Module):\n",
        "    def __init__(self):\n",
        "        super(TinyNet, self).__init__()\n",
        "        self.conv1 = torch.nn.Conv2d(3, 32, kernel_size=3, stride=1, padding=1)\n",
        "        self.conv2 = torch.nn.Conv2d(32, 64, kernel_size=3, stride=1, padding=1)\n",
        "        self.fc1 = torch.nn.Linear(8*8*64, 128)\n",
        "        self.fc2 = torch.nn.Linear(128, 100)\n",
        "\n",
        "    def forward(self, x):\n",
        "        x = torch.nn.functional.relu(self.conv1(x))\n",
        "        x = torch.nn.functional.max_pool2d(x, 2)\n",
        "        x = torch.nn.functional.relu(self.conv2(x))\n",
        "        x = torch.nn.functional.max_pool2d(x, 2)\n",
        "        x = x.view(-1, 8*8*64)\n",
        "        x = torch.nn.functional.relu(self.fc1(x))\n",
        "        x = self.fc2(x)\n",
        "        return x\n",
        "\n",
        "print(\"Model parameters: \", sum(p.numel() for p in TinyNet().parameters()))"
      ]
    },
    {
      "cell_type": "markdown",
      "metadata": {
        "id": "72vikBOB54WL"
      },
      "source": [
        "### Example of basic training"
      ]
    },
    {
      "cell_type": "code",
      "execution_count": 3,
      "metadata": {
        "colab": {
          "base_uri": "https://localhost:8080/"
        },
        "id": "owDg_SS654WL",
        "outputId": "526c5bcc-8c25-4aff-ddcf-ec46d7d08f74"
      },
      "outputs": [
        {
          "output_type": "stream",
          "name": "stdout",
          "text": [
            "Epoch [1/10], Loss: 4.5927\n",
            "Epoch [2/10], Loss: 4.5898\n",
            "Epoch [3/10], Loss: 4.5984\n",
            "Epoch [4/10], Loss: 4.5864\n",
            "Epoch [5/10], Loss: 4.5467\n",
            "Epoch [6/10], Loss: 4.5617\n",
            "Epoch [7/10], Loss: 4.4748\n",
            "Epoch [8/10], Loss: 4.2494\n",
            "Epoch [9/10], Loss: 4.2803\n",
            "Epoch [10/10], Loss: 3.9809\n"
          ]
        }
      ],
      "source": [
        "\n",
        "model = TinyNet()\n",
        "model.to(device)\n",
        "criterion = torch.nn.CrossEntropyLoss()\n",
        "optimizer = torch.optim.SGD(model.parameters())\n",
        "\n",
        "train_loader = torch.utils.data.DataLoader(train_dataset, batch_size=32, shuffle=True)\n",
        "for epoch in range(10):\n",
        "    for i, (images, labels) in enumerate(train_loader):\n",
        "        images, labels = images.to(device), labels.to(device)\n",
        "        optimizer.zero_grad()\n",
        "        outputs = model(images)\n",
        "        loss = criterion(outputs, labels)\n",
        "        loss.backward()\n",
        "        optimizer.step()\n",
        "\n",
        "    print('Epoch [{}/{}], Loss: {:.4f}'.format(epoch+1, 10, loss.item()))\n"
      ]
    },
    {
      "cell_type": "code",
      "execution_count": 4,
      "metadata": {
        "colab": {
          "base_uri": "https://localhost:8080/"
        },
        "id": "kE9zuete54WM",
        "outputId": "340bf0cc-749f-43ae-e2c4-b1b29ec65e15"
      },
      "outputs": [
        {
          "output_type": "stream",
          "name": "stdout",
          "text": [
            "The model has 556708 parameters\n",
            "\u001b[1m\u001b[91mAccuracy on the test set: 6.36%\u001b[0m\n"
          ]
        }
      ],
      "source": [
        "# save the model on a file\n",
        "torch.save(model.state_dict(), 'tiny_net.pt')\n",
        "\n",
        "loaded_model = TinyNet()\n",
        "loaded_model.load_state_dict(torch.load('tiny_net.pt', weights_only=True))\n",
        "evaluate(loaded_model)"
      ]
    },
    {
      "cell_type": "markdown",
      "metadata": {
        "id": "OH6RSfuA54WM"
      },
      "source": [
        "- Res net\n",
        "- bottleneck building block for deeper nets with fast training\n",
        "- idenitity shortcut\n",
        "- scheduler for learning rate. study if a plateau is present and in case reduce the lr at plateau\n",
        "- weight initialization using kaming he initialization (works better than xavier)\n",
        "- regularization using weight decay: no dropout becauase when using BN it can be avoided\n",
        "- optimizer: sdg or adam"
      ]
    },
    {
      "cell_type": "markdown",
      "source": [],
      "metadata": {
        "id": "ICDeUCbnFXWW"
      }
    },
    {
      "cell_type": "code",
      "source": [
        "from typing import Optional\n",
        "from torch import nn\n",
        "from torch.utils.data import DataLoader\n",
        "import torchvision.transforms as transforms\n",
        "import torch.nn.functional as F\n",
        "from training_utils import *"
      ],
      "metadata": {
        "id": "ygyDOpRMFocS"
      },
      "execution_count": 5,
      "outputs": []
    },
    {
      "cell_type": "code",
      "source": [
        "DEVICE = None\n",
        "if torch.cuda.is_available():\n",
        "    # Requires NVIDIA GPU with CUDA installed\n",
        "    DEVICE = torch.device(\"cuda\")\n",
        "elif torch.mps.is_available():\n",
        "    # Requires Apple computer with M1 or later chip\n",
        "    DEVICE = torch.device(\"mps\")\n",
        "else:\n",
        "    # Not recommended, because it's slow. Move to Google Colab!\n",
        "    DEVICE = torch.device(\"cpu\")\n",
        "\n",
        "print(DEVICE)"
      ],
      "metadata": {
        "colab": {
          "base_uri": "https://localhost:8080/"
        },
        "id": "F7gT3AxaHPTf",
        "outputId": "8a52e5fc-417a-4e06-ceeb-3fa2d5d125d1"
      },
      "execution_count": 6,
      "outputs": [
        {
          "output_type": "stream",
          "name": "stdout",
          "text": [
            "cuda\n"
          ]
        }
      ]
    },
    {
      "cell_type": "code",
      "source": [
        "transform = torchvision.transforms.ToTensor()\n",
        "\n",
        "BATCH_SIZE = 128\n",
        "\n",
        "# load the train dataset\n",
        "train_dataset = torchvision.datasets.CIFAR100(\n",
        "    root='./data/',\n",
        "    train=True,\n",
        "    download=True,\n",
        "    transform=transform)\n",
        "\n",
        "# Split the dataset into 40k-10k samples for training-validation.\n",
        "from torch.utils.data import random_split\n",
        "train_dataset,  valid_dataset = random_split(\n",
        "    train_dataset,\n",
        "    lengths=[40000, 10000],\n",
        "    generator=torch.Generator().manual_seed(42)\n",
        ")\n",
        "\n",
        "train_dataloader = DataLoader(\n",
        "    dataset=train_dataset,\n",
        "    batch_size=BATCH_SIZE,\n",
        "    shuffle=True,\n",
        "    num_workers=2)\n",
        "\n",
        "valid_dataloader = DataLoader(\n",
        "    dataset=valid_dataset,\n",
        "    batch_size=BATCH_SIZE,\n",
        "    shuffle=False,\n",
        "    num_workers=2)"
      ],
      "metadata": {
        "colab": {
          "base_uri": "https://localhost:8080/"
        },
        "id": "LyManlvVSKkR",
        "outputId": "f5ae20a7-5032-4d31-fef8-a8b9cc44328e"
      },
      "execution_count": 12,
      "outputs": [
        {
          "output_type": "stream",
          "name": "stdout",
          "text": [
            "Files already downloaded and verified\n"
          ]
        }
      ]
    },
    {
      "cell_type": "markdown",
      "source": [
        "I define a fit function as the one used in the tp"
      ],
      "metadata": {
        "id": "Sso9U7UtFlAy"
      }
    },
    {
      "cell_type": "code",
      "source": [
        "def fit(\n",
        "    model: nn.Module,\n",
        "    train_dataloader: DataLoader,\n",
        "    optimizer: torch.optim.Optimizer,\n",
        "    epochs: int,\n",
        "    device: torch.device,\n",
        "    scheduler_lr: Optional[torch.optim.lr_scheduler._LRScheduler] = None,\n",
        "    val_dataloader: Optional[DataLoader] = None\n",
        "):\n",
        "    \"\"\"\n",
        "    the fit method simply calls the train_epoch() method for a\n",
        "    specified number of epochs.\n",
        "    \"\"\"\n",
        "\n",
        "    # keep track of the losses in order to visualize them later\n",
        "    train_losses = []\n",
        "    val_losses = []\n",
        "    val_accuracies = []\n",
        "\n",
        "    for epoch in range(epochs):\n",
        "        # Train\n",
        "        train_loss = train_epoch(\n",
        "            model=model,\n",
        "            train_dataloader=train_dataloader,\n",
        "            optimizer=optimizer,\n",
        "            device=device,\n",
        "        )\n",
        "        train_losses.append(train_loss)\n",
        "        # Validate\n",
        "        if val_dataloader is not None:\n",
        "            val_loss, val_accuracy = predict(\n",
        "                model=model, test_dataloader=val_dataloader, device=device, verbose=False\n",
        "            )\n",
        "            val_losses.append(val_loss)\n",
        "            val_accuracies.append(val_accuracy)\n",
        "            print(\n",
        "                f\"Epoch {epoch}: Train Loss={train_loss:.4f}, Val Loss={val_loss:.4f}, Val Accuracy={val_accuracy:.0f}%\"\n",
        "            )\n",
        "        else:\n",
        "            print(f\"Epoch {epoch}: Train Loss={train_loss:.4f}\")\n",
        "        # LR scheduler\n",
        "        if scheduler_lr is not None:\n",
        "            scheduler_lr.step(metrics=val_loss)\n",
        "\n",
        "    return train_losses, val_losses, val_accuracies"
      ],
      "metadata": {
        "id": "yC91-AavFV9g"
      },
      "execution_count": 8,
      "outputs": []
    },
    {
      "cell_type": "markdown",
      "source": [
        "The architecture I choose is a ResNet. ResNets as we have seen in class are very good network to perform image classification tasks.\n",
        "The one I choose is a residual block ResNEt with a skip connection.\n",
        " Skip connection is important because it allows to have deep networks, which offer better performance, without the problem of the vanishing gradient."
      ],
      "metadata": {
        "id": "0JksOCq_GkI4"
      }
    },
    {
      "cell_type": "markdown",
      "source": [
        "I define the residual block of the ResNet.\n",
        "My block is a 3-layer block with a bottleneck. I choose this structure because it allows to hava e deep network but still with manageble training times.\n",
        "Each layer is made up of a convolution, a batch normalization and a ReLu used as activation function, in this order.\n",
        "The three covolutions used are the following:\n",
        "- 1x1 convolution layer to reduce dimensions\n",
        "- 3x3 (bottleneck) convolution layer on the reduced dimension\n",
        "- 1x1 convolution to restore the dimension"
      ],
      "metadata": {
        "id": "8kkDLmfeGH-U"
      }
    },
    {
      "cell_type": "code",
      "source": [
        "class ResidualBlock(nn.Module):\n",
        "    def __init__(self, in_planes, planes, stride=1):\n",
        "        super().__init__()\n",
        "\n",
        "        self.conv1 = nn.Conv2d(\n",
        "            in_channels=in_planes,\n",
        "            out_channels=planes,\n",
        "            kernel_size=3,\n",
        "            stride=stride,\n",
        "            padding=1,\n",
        "            bias=False\n",
        "        )\n",
        "        self.bn1 = nn.BatchNorm2d(planes)\n",
        "\n",
        "        self.conv2 = nn.Conv2d(\n",
        "            in_channels=planes,\n",
        "            out_channels=planes,\n",
        "            kernel_size=3,\n",
        "            stride=1,\n",
        "            padding=1,\n",
        "            bias=False\n",
        "        )\n",
        "        self.bn2 = nn.BatchNorm2d(planes)\n",
        "\n",
        "        # Skip connection to match dimensions when necessary\n",
        "        self.skip = nn.Sequential()\n",
        "        if stride > 1 or in_planes != planes:\n",
        "            self.skip = nn.Sequential(\n",
        "                nn.Conv2d(\n",
        "                    in_channels=in_planes,\n",
        "                    out_channels=planes,\n",
        "                    kernel_size=1,\n",
        "                    stride=stride,\n",
        "                    bias=False\n",
        "                ),\n",
        "                nn.BatchNorm2d(planes)\n",
        "            )\n",
        "\n",
        "    def forward(self, x):\n",
        "        out = self.conv1(x)\n",
        "        out = self.bn1(out)\n",
        "        out = F.relu(out)\n",
        "\n",
        "        out = self.conv2(out)\n",
        "        out = self.bn2(out)\n",
        "        out += self.skip(x)\n",
        "        out = F.relu(out)\n",
        "        return out"
      ],
      "metadata": {
        "id": "M-4bHASHHiP3"
      },
      "execution_count": 9,
      "outputs": []
    },
    {
      "cell_type": "markdown",
      "source": [
        "Now I write the network."
      ],
      "metadata": {
        "id": "N7c-RqxJMUzc"
      }
    },
    {
      "cell_type": "code",
      "source": [
        "class ResNet(nn.Module):\n",
        "    def __init__(self, block, num_blocks, num_classes=100):\n",
        "        super().__init__()\n",
        "        self.in_planes = 16  # Initial number of filters\n",
        "\n",
        "        # First layer: 3x3 Convolution\n",
        "        self.conv1 = nn.Conv2d(3, 16, kernel_size=3, stride=1, padding=1, bias=False)\n",
        "        self.bn1 = nn.BatchNorm2d(16)\n",
        "\n",
        "        # Residual layers\n",
        "        self.layer1 = self._make_layer(block, 16, num_blocks[0], stride=1)\n",
        "        self.layer2 = self._make_layer(block, 32, num_blocks[1], stride=2)\n",
        "        self.layer3 = self._make_layer(block, 64, num_blocks[2], stride=2)\n",
        "\n",
        "        # Global Average Pooling and Fully Connected Layer\n",
        "        self.linear = nn.Linear(self.in_planes, num_classes)\n",
        "\n",
        "        # Initialize weights\n",
        "        self._initialize_weights()\n",
        "\n",
        "    def _make_layer(self, block, planes, num_blocks, stride):\n",
        "        strides = [stride] + [1] * (num_blocks - 1)\n",
        "        layers = []\n",
        "        for stride in strides:\n",
        "            layers.append(block(self.in_planes, planes, stride))\n",
        "            self.in_planes = planes\n",
        "        return nn.Sequential(*layers)\n",
        "\n",
        "    def _initialize_weights(self):\n",
        "        for m in self.modules():\n",
        "            if isinstance(m, nn.Conv2d):\n",
        "                torch.nn.init.kaiming_normal_(m.weight, mode='fan_out', nonlinearity='relu')\n",
        "            elif isinstance(m, nn.BatchNorm2d):\n",
        "                torch.nn.init.constant_(m.weight, 1)\n",
        "                torch.nn.init.constant_(m.bias, 0)\n",
        "            elif isinstance(m, nn.Linear):\n",
        "                torch.nn.init.kaiming_normal_(m.weight, mode='fan_out', nonlinearity='relu')\n",
        "                torch.nn.init.constant_(m.bias, 0)\n",
        "\n",
        "    def forward(self, x):\n",
        "        out = F.relu(self.bn1(self.conv1(x)))\n",
        "        out = self.layer1(out)\n",
        "        out = self.layer2(out)\n",
        "        out = self.layer3(out)\n",
        "        if out.size(2) > 1 and out.size(3) > 1:\n",
        "          out = F.avg_pool2d(out, out.size(3))  # Global Average Pooling only if size is >1\n",
        "        else:\n",
        "          out = F.adaptive_avg_pool2d(out, (1, 1))  # fallback to adaptive avg pooling if size is too small\n",
        "\n",
        "        out = out.view(out.size(0), -1)\n",
        "        out = self.linear(out)\n",
        "        return out\n",
        "\n",
        "print(\"Model parameters: \", sum(p.numel() for p in ResNet(block=ResidualBlock, num_blocks=[12,10,10]).parameters()))\n",
        "\n"
      ],
      "metadata": {
        "colab": {
          "base_uri": "https://localhost:8080/"
        },
        "id": "FqM6MWkfMaOm",
        "outputId": "01080730-649e-4b45-ab4b-681d682272da"
      },
      "execution_count": 21,
      "outputs": [
        {
          "output_type": "stream",
          "name": "stdout",
          "text": [
            "Model parameters:  968180\n"
          ]
        }
      ]
    },
    {
      "cell_type": "code",
      "source": [
        "%env CUDA_LAUNCH_BLOCKING=1\n",
        "\n",
        "model = ResNet(block=ResidualBlock, num_blocks=[12, 12, 12]).to(DEVICE)\n",
        "print(\"ciao\")\n",
        "optimizer = torch.optim.Adam(model.parameters(), lr=0.01, weight_decay=0.0001)\n",
        "scheduler_lr = torch.optim.lr_scheduler.ReduceLROnPlateau(optimizer, factor=0.1, patience=5)\n",
        "\n",
        "train_losses, valid_losses, valid_accs =   fit(\n",
        "        model,\n",
        "        train_dataloader = train_dataloader,\n",
        "        optimizer = optimizer,\n",
        "        epochs = 100,\n",
        "        device = DEVICE,\n",
        "        val_dataloader = valid_dataloader,\n",
        "        scheduler_lr = scheduler_lr\n",
        "    )\n",
        "plot_loss( train_losses )\n"
      ],
      "metadata": {
        "colab": {
          "base_uri": "https://localhost:8080/",
          "height": 1000
        },
        "id": "m0MkwLvkRj02",
        "outputId": "094cc085-c3ae-459e-e05e-f76d01eeb7bd"
      },
      "execution_count": 13,
      "outputs": [
        {
          "output_type": "stream",
          "name": "stdout",
          "text": [
            "env: CUDA_LAUNCH_BLOCKING=1\n",
            "ciao\n",
            "Epoch 0: Train Loss=4.3845, Val Loss=4.3026, Val Accuracy=4%\n",
            "Epoch 1: Train Loss=3.9310, Val Loss=4.0459, Val Accuracy=8%\n",
            "Epoch 2: Train Loss=3.5948, Val Loss=3.5751, Val Accuracy=14%\n",
            "Epoch 3: Train Loss=3.3146, Val Loss=3.3469, Val Accuracy=17%\n",
            "Epoch 4: Train Loss=3.0280, Val Loss=3.2115, Val Accuracy=22%\n",
            "Epoch 5: Train Loss=2.7427, Val Loss=2.8012, Val Accuracy=27%\n",
            "Epoch 6: Train Loss=2.5118, Val Loss=2.8996, Val Accuracy=28%\n",
            "Epoch 7: Train Loss=2.3456, Val Loss=2.9493, Val Accuracy=28%\n",
            "Epoch 8: Train Loss=2.2126, Val Loss=2.5365, Val Accuracy=35%\n",
            "Epoch 9: Train Loss=2.1088, Val Loss=2.3424, Val Accuracy=39%\n",
            "Epoch 10: Train Loss=2.0382, Val Loss=2.4115, Val Accuracy=37%\n",
            "Epoch 11: Train Loss=1.9621, Val Loss=2.3713, Val Accuracy=38%\n",
            "Epoch 12: Train Loss=1.9203, Val Loss=2.4450, Val Accuracy=37%\n",
            "Epoch 13: Train Loss=1.8659, Val Loss=2.4753, Val Accuracy=37%\n",
            "Epoch 14: Train Loss=1.8268, Val Loss=5.9717, Val Accuracy=19%\n",
            "Epoch 15: Train Loss=1.7878, Val Loss=2.2883, Val Accuracy=39%\n",
            "Epoch 16: Train Loss=1.7746, Val Loss=2.2770, Val Accuracy=40%\n",
            "Epoch 17: Train Loss=1.7467, Val Loss=2.3662, Val Accuracy=41%\n",
            "Epoch 18: Train Loss=1.7153, Val Loss=2.3314, Val Accuracy=40%\n",
            "Epoch 19: Train Loss=1.6949, Val Loss=2.4102, Val Accuracy=38%\n",
            "Epoch 20: Train Loss=1.6715, Val Loss=2.1999, Val Accuracy=43%\n",
            "Epoch 21: Train Loss=1.6545, Val Loss=2.1157, Val Accuracy=44%\n",
            "Epoch 22: Train Loss=1.6327, Val Loss=2.0673, Val Accuracy=44%\n",
            "Epoch 23: Train Loss=1.6186, Val Loss=2.3402, Val Accuracy=39%\n",
            "Epoch 24: Train Loss=1.6045, Val Loss=2.2938, Val Accuracy=40%\n",
            "Epoch 25: Train Loss=1.5915, Val Loss=2.5397, Val Accuracy=36%\n",
            "Epoch 26: Train Loss=1.5758, Val Loss=2.0958, Val Accuracy=43%\n",
            "Epoch 27: Train Loss=1.5703, Val Loss=2.4638, Val Accuracy=39%\n",
            "Epoch 28: Train Loss=1.5458, Val Loss=2.3322, Val Accuracy=40%\n",
            "Epoch 29: Train Loss=1.1942, Val Loss=1.6591, Val Accuracy=54%\n",
            "Epoch 30: Train Loss=1.0703, Val Loss=1.6482, Val Accuracy=55%\n",
            "Epoch 31: Train Loss=1.0102, Val Loss=1.6525, Val Accuracy=55%\n",
            "Epoch 32: Train Loss=0.9637, Val Loss=1.6704, Val Accuracy=54%\n",
            "Epoch 33: Train Loss=0.9258, Val Loss=1.6799, Val Accuracy=54%\n",
            "Epoch 34: Train Loss=0.8893, Val Loss=1.7044, Val Accuracy=54%\n",
            "Epoch 35: Train Loss=0.8505, Val Loss=1.7348, Val Accuracy=54%\n",
            "Epoch 36: Train Loss=0.8166, Val Loss=1.7547, Val Accuracy=54%\n",
            "Epoch 37: Train Loss=0.7227, Val Loss=1.7199, Val Accuracy=55%\n",
            "Epoch 38: Train Loss=0.7030, Val Loss=1.7277, Val Accuracy=55%\n",
            "Epoch 39: Train Loss=0.6977, Val Loss=1.7327, Val Accuracy=55%\n",
            "Epoch 40: Train Loss=0.6883, Val Loss=1.7391, Val Accuracy=54%\n",
            "Epoch 41: Train Loss=0.6848, Val Loss=1.7400, Val Accuracy=55%\n",
            "Epoch 42: Train Loss=0.6784, Val Loss=1.7424, Val Accuracy=55%\n",
            "Epoch 43: Train Loss=0.6633, Val Loss=1.7398, Val Accuracy=55%\n",
            "Epoch 44: Train Loss=0.6644, Val Loss=1.7434, Val Accuracy=54%\n",
            "Epoch 45: Train Loss=0.6622, Val Loss=1.7494, Val Accuracy=54%\n",
            "Epoch 46: Train Loss=0.6613, Val Loss=1.7480, Val Accuracy=55%\n",
            "Epoch 47: Train Loss=0.6598, Val Loss=1.7494, Val Accuracy=54%\n",
            "Epoch 48: Train Loss=0.6610, Val Loss=1.7475, Val Accuracy=54%\n",
            "Epoch 49: Train Loss=0.6610, Val Loss=1.7434, Val Accuracy=55%\n",
            "Epoch 50: Train Loss=0.6589, Val Loss=1.7419, Val Accuracy=55%\n",
            "Epoch 51: Train Loss=0.6589, Val Loss=1.7502, Val Accuracy=54%\n",
            "Epoch 52: Train Loss=0.6580, Val Loss=1.7495, Val Accuracy=54%\n",
            "Epoch 53: Train Loss=0.6579, Val Loss=1.7481, Val Accuracy=55%\n",
            "Epoch 54: Train Loss=0.6597, Val Loss=1.7429, Val Accuracy=55%\n",
            "Epoch 55: Train Loss=0.6591, Val Loss=1.7484, Val Accuracy=54%\n"
          ]
        },
        {
          "output_type": "error",
          "ename": "KeyboardInterrupt",
          "evalue": "",
          "traceback": [
            "\u001b[0;31m---------------------------------------------------------------------------\u001b[0m",
            "\u001b[0;31mKeyboardInterrupt\u001b[0m                         Traceback (most recent call last)",
            "\u001b[0;32m<ipython-input-13-39a5d2c64455>\u001b[0m in \u001b[0;36m<cell line: 8>\u001b[0;34m()\u001b[0m\n\u001b[1;32m      6\u001b[0m \u001b[0mscheduler_lr\u001b[0m \u001b[0;34m=\u001b[0m \u001b[0mtorch\u001b[0m\u001b[0;34m.\u001b[0m\u001b[0moptim\u001b[0m\u001b[0;34m.\u001b[0m\u001b[0mlr_scheduler\u001b[0m\u001b[0;34m.\u001b[0m\u001b[0mReduceLROnPlateau\u001b[0m\u001b[0;34m(\u001b[0m\u001b[0moptimizer\u001b[0m\u001b[0;34m,\u001b[0m \u001b[0mfactor\u001b[0m\u001b[0;34m=\u001b[0m\u001b[0;36m0.1\u001b[0m\u001b[0;34m,\u001b[0m \u001b[0mpatience\u001b[0m\u001b[0;34m=\u001b[0m\u001b[0;36m5\u001b[0m\u001b[0;34m)\u001b[0m\u001b[0;34m\u001b[0m\u001b[0;34m\u001b[0m\u001b[0m\n\u001b[1;32m      7\u001b[0m \u001b[0;34m\u001b[0m\u001b[0m\n\u001b[0;32m----> 8\u001b[0;31m train_losses, valid_losses, valid_accs =   fit(\n\u001b[0m\u001b[1;32m      9\u001b[0m         \u001b[0mmodel\u001b[0m\u001b[0;34m,\u001b[0m\u001b[0;34m\u001b[0m\u001b[0;34m\u001b[0m\u001b[0m\n\u001b[1;32m     10\u001b[0m         \u001b[0mtrain_dataloader\u001b[0m \u001b[0;34m=\u001b[0m \u001b[0mtrain_dataloader\u001b[0m\u001b[0;34m,\u001b[0m\u001b[0;34m\u001b[0m\u001b[0;34m\u001b[0m\u001b[0m\n",
            "\u001b[0;32m<ipython-input-8-2ef9c0980cb8>\u001b[0m in \u001b[0;36mfit\u001b[0;34m(model, train_dataloader, optimizer, epochs, device, scheduler_lr, val_dataloader)\u001b[0m\n\u001b[1;32m     20\u001b[0m     \u001b[0;32mfor\u001b[0m \u001b[0mepoch\u001b[0m \u001b[0;32min\u001b[0m \u001b[0mrange\u001b[0m\u001b[0;34m(\u001b[0m\u001b[0mepochs\u001b[0m\u001b[0;34m)\u001b[0m\u001b[0;34m:\u001b[0m\u001b[0;34m\u001b[0m\u001b[0;34m\u001b[0m\u001b[0m\n\u001b[1;32m     21\u001b[0m         \u001b[0;31m# Train\u001b[0m\u001b[0;34m\u001b[0m\u001b[0;34m\u001b[0m\u001b[0m\n\u001b[0;32m---> 22\u001b[0;31m         train_loss = train_epoch(\n\u001b[0m\u001b[1;32m     23\u001b[0m             \u001b[0mmodel\u001b[0m\u001b[0;34m=\u001b[0m\u001b[0mmodel\u001b[0m\u001b[0;34m,\u001b[0m\u001b[0;34m\u001b[0m\u001b[0;34m\u001b[0m\u001b[0m\n\u001b[1;32m     24\u001b[0m             \u001b[0mtrain_dataloader\u001b[0m\u001b[0;34m=\u001b[0m\u001b[0mtrain_dataloader\u001b[0m\u001b[0;34m,\u001b[0m\u001b[0;34m\u001b[0m\u001b[0;34m\u001b[0m\u001b[0m\n",
            "\u001b[0;32m/content/training_utils.py\u001b[0m in \u001b[0;36mtrain_epoch\u001b[0;34m(model, train_dataloader, optimizer, device)\u001b[0m\n\u001b[1;32m     43\u001b[0m \u001b[0;34m\u001b[0m\u001b[0m\n\u001b[1;32m     44\u001b[0m         \u001b[0;31m# print statistics\u001b[0m\u001b[0;34m\u001b[0m\u001b[0;34m\u001b[0m\u001b[0m\n\u001b[0;32m---> 45\u001b[0;31m         \u001b[0mrunning_loss\u001b[0m \u001b[0;34m+=\u001b[0m \u001b[0mloss\u001b[0m\u001b[0;34m.\u001b[0m\u001b[0mitem\u001b[0m\u001b[0;34m(\u001b[0m\u001b[0;34m)\u001b[0m\u001b[0;34m\u001b[0m\u001b[0;34m\u001b[0m\u001b[0m\n\u001b[0m\u001b[1;32m     46\u001b[0m \u001b[0;34m\u001b[0m\u001b[0m\n\u001b[1;32m     47\u001b[0m     \u001b[0;32mreturn\u001b[0m \u001b[0mrunning_loss\u001b[0m \u001b[0;34m/\u001b[0m \u001b[0mlen\u001b[0m\u001b[0;34m(\u001b[0m\u001b[0mtrain_dataloader\u001b[0m\u001b[0;34m)\u001b[0m\u001b[0;34m\u001b[0m\u001b[0;34m\u001b[0m\u001b[0m\n",
            "\u001b[0;31mKeyboardInterrupt\u001b[0m: "
          ]
        }
      ]
    },
    {
      "cell_type": "code",
      "source": [
        "evaluate(model)"
      ],
      "metadata": {
        "id": "bbjnCoIqBPQr",
        "outputId": "0090b8d8-8a3e-4181-b211-912d8513e6db",
        "colab": {
          "base_uri": "https://localhost:8080/"
        }
      },
      "execution_count": 14,
      "outputs": [
        {
          "output_type": "stream",
          "name": "stdout",
          "text": [
            "The model has 1157940 parameters\n",
            "The model has too many parameters! Not allowed to evaluate.\n"
          ]
        }
      ]
    },
    {
      "cell_type": "markdown",
      "source": [
        "- Try to change regularization parameter\n",
        "- Try SGD optmizier with momentum\n",
        "- Remove the per pixel mean before feeding the images into the network\n",
        "- Retry the bottleneck architecture."
      ],
      "metadata": {
        "id": "uZsY5DQ-A7XL"
      }
    },
    {
      "cell_type": "code",
      "source": [],
      "metadata": {
        "id": "_kwFdD6iBMam"
      },
      "execution_count": null,
      "outputs": []
    }
  ],
  "metadata": {
    "kernelspec": {
      "display_name": "Python 3",
      "name": "python3"
    },
    "language_info": {
      "codemirror_mode": {
        "name": "ipython",
        "version": 3
      },
      "file_extension": ".py",
      "mimetype": "text/x-python",
      "name": "python",
      "nbconvert_exporter": "python",
      "pygments_lexer": "ipython3",
      "version": "3.12.7"
    },
    "colab": {
      "provenance": [],
      "gpuType": "T4"
    },
    "accelerator": "GPU"
  },
  "nbformat": 4,
  "nbformat_minor": 0
}