{
  "cells": [
    {
      "cell_type": "markdown",
      "metadata": {
        "id": "_JjB0dTd54WG"
      },
      "source": [
        "# Homework 3: optimization of a CNN model\n",
        "The task of this homework is to optimize a CNN model for the CIFAR-100. You are free to define the architecture of the model, and the training procedure. The only contraints are:\n",
        "- It must be a `torch.nn.Module` object\n",
        "- The number of trained parameters must be less than 1 million\n",
        "- The test dataset must not be used for any step of training. It is better if don't even import it.\n",
        "- The final training notebook should run on Google Colab within a maximum 1 hour approximately.\n",
        "\n",
        "For the grading, you must use the `evaluate` function defined below. It takes a model as input, and returns the test accuracy as output.\n",
        "\n",
        "As a guideline, you are expected to **discuss** and motivate your choices regarding:\n",
        "- Model architecture\n",
        "- Hyperparameters (learning rate, batch size, etc)\n",
        "- Regularization methods\n",
        "- Optimizer\n",
        "- Validation scheme\n",
        "\n",
        "A code without any explanation of the choices will not be accepted. Test accuracy is not the only measure of success for this homework.\n",
        "\n",
        "Remember that most of the train process is randomized, store your model's weights after training and load it before the evaluation!"
      ]
    },
    {
      "cell_type": "markdown",
      "metadata": {
        "id": "GfNvNIxz54WI"
      },
      "source": [
        "## Example"
      ]
    },
    {
      "cell_type": "markdown",
      "metadata": {
        "id": "bp5Mgthn54WJ"
      },
      "source": [
        "### Loading packages and libraries"
      ]
    },
    {
      "cell_type": "code",
      "execution_count": 3,
      "metadata": {
        "colab": {
          "base_uri": "https://localhost:8080/"
        },
        "id": "uWHU_pQG54WJ",
        "outputId": "80126483-9cc5-4e84-a2eb-5e1859d7cc5a"
      },
      "outputs": [
        {
          "output_type": "stream",
          "name": "stdout",
          "text": [
            "Using device: cuda\n",
            "Files already downloaded and verified\n"
          ]
        }
      ],
      "source": [
        "import torch\n",
        "import torchvision\n",
        "from evaluate import evaluate\n",
        "\n",
        "# Import the best device available\n",
        "device = torch.device('cuda' if torch.cuda.is_available() else 'mps' if torch.mps.is_available() else 'cpu')\n",
        "print('Using device:', device)\n",
        "\n",
        "# load the data\n",
        "train_dataset = torchvision.datasets.CIFAR100(root='./data', train=True, download=True, transform=torchvision.transforms.ToTensor())"
      ]
    },
    {
      "cell_type": "markdown",
      "metadata": {
        "id": "uXBRG6qX54WL"
      },
      "source": [
        "### Example of a simple CNN model"
      ]
    },
    {
      "cell_type": "code",
      "execution_count": null,
      "metadata": {
        "colab": {
          "base_uri": "https://localhost:8080/"
        },
        "id": "u_zvq0_l54WL",
        "outputId": "01e79b5e-a6e3-4810-b2e2-37878ea3322d"
      },
      "outputs": [
        {
          "name": "stdout",
          "output_type": "stream",
          "text": [
            "Model parameters:  556708\n"
          ]
        }
      ],
      "source": [
        "class TinyNet(torch.nn.Module):\n",
        "    def __init__(self):\n",
        "        super(TinyNet, self).__init__()\n",
        "        self.conv1 = torch.nn.Conv2d(3, 32, kernel_size=3, stride=1, padding=1)\n",
        "        self.conv2 = torch.nn.Conv2d(32, 64, kernel_size=3, stride=1, padding=1)\n",
        "        self.fc1 = torch.nn.Linear(8*8*64, 128)\n",
        "        self.fc2 = torch.nn.Linear(128, 100)\n",
        "\n",
        "    def forward(self, x):\n",
        "        x = torch.nn.functional.relu(self.conv1(x))\n",
        "        x = torch.nn.functional.max_pool2d(x, 2)\n",
        "        x = torch.nn.functional.relu(self.conv2(x))\n",
        "        x = torch.nn.functional.max_pool2d(x, 2)\n",
        "        x = x.view(-1, 8*8*64)\n",
        "        x = torch.nn.functional.relu(self.fc1(x))\n",
        "        x = self.fc2(x)\n",
        "        return x\n",
        "\n",
        "print(\"Model parameters: \", sum(p.numel() for p in TinyNet().parameters()))"
      ]
    },
    {
      "cell_type": "markdown",
      "metadata": {
        "id": "72vikBOB54WL"
      },
      "source": [
        "### Example of basic training"
      ]
    },
    {
      "cell_type": "code",
      "execution_count": null,
      "metadata": {
        "colab": {
          "base_uri": "https://localhost:8080/"
        },
        "id": "owDg_SS654WL",
        "outputId": "526c5bcc-8c25-4aff-ddcf-ec46d7d08f74"
      },
      "outputs": [
        {
          "name": "stdout",
          "output_type": "stream",
          "text": [
            "Epoch [1/10], Loss: 4.5927\n",
            "Epoch [2/10], Loss: 4.5898\n",
            "Epoch [3/10], Loss: 4.5984\n",
            "Epoch [4/10], Loss: 4.5864\n",
            "Epoch [5/10], Loss: 4.5467\n",
            "Epoch [6/10], Loss: 4.5617\n",
            "Epoch [7/10], Loss: 4.4748\n",
            "Epoch [8/10], Loss: 4.2494\n",
            "Epoch [9/10], Loss: 4.2803\n",
            "Epoch [10/10], Loss: 3.9809\n"
          ]
        }
      ],
      "source": [
        "\n",
        "model = TinyNet()\n",
        "model.to(device)\n",
        "criterion = torch.nn.CrossEntropyLoss()\n",
        "optimizer = torch.optim.SGD(model.parameters())\n",
        "\n",
        "train_loader = torch.utils.data.DataLoader(train_dataset, batch_size=32, shuffle=True)\n",
        "for epoch in range(10):\n",
        "    for i, (images, labels) in enumerate(train_loader):\n",
        "        images, labels = images.to(device), labels.to(device)\n",
        "        optimizer.zero_grad()\n",
        "        outputs = model(images)\n",
        "        loss = criterion(outputs, labels)\n",
        "        loss.backward()\n",
        "        optimizer.step()\n",
        "\n",
        "    print('Epoch [{}/{}], Loss: {:.4f}'.format(epoch+1, 10, loss.item()))\n"
      ]
    },
    {
      "cell_type": "code",
      "execution_count": null,
      "metadata": {
        "colab": {
          "base_uri": "https://localhost:8080/"
        },
        "id": "kE9zuete54WM",
        "outputId": "340bf0cc-749f-43ae-e2c4-b1b29ec65e15"
      },
      "outputs": [
        {
          "name": "stdout",
          "output_type": "stream",
          "text": [
            "The model has 556708 parameters\n",
            "\u001b[1m\u001b[91mAccuracy on the test set: 6.36%\u001b[0m\n"
          ]
        }
      ],
      "source": [
        "# save the model on a file\n",
        "torch.save(model.state_dict(), 'tiny_net.pt')\n",
        "\n",
        "loaded_model = TinyNet()\n",
        "loaded_model.load_state_dict(torch.load('tiny_net.pt', weights_only=True))\n",
        "evaluate(loaded_model)"
      ]
    },
    {
      "cell_type": "markdown",
      "metadata": {
        "id": "OH6RSfuA54WM"
      },
      "source": [
        "- Res net\n",
        "- bottleneck building block for deeper nets with fast training\n",
        "- idenitity shortcut\n",
        "- scheduler for learning rate. study if a plateau is present and in case reduce the lr at plateau\n",
        "- weight initialization using kaming he initialization (works better than xavier)\n",
        "- regularization using weight decay: no dropout becauase when using BN it can be avoided\n",
        "- optimizer: sdg or adam"
      ]
    },
    {
      "cell_type": "code",
      "execution_count": 4,
      "metadata": {
        "id": "ygyDOpRMFocS"
      },
      "outputs": [],
      "source": [
        "from typing import Optional\n",
        "from torch import nn\n",
        "from torch.utils.data import DataLoader\n",
        "import torchvision.transforms as transforms\n",
        "import torch.nn.functional as F\n",
        "import numpy as np\n",
        "import matplotlib.pyplot as plt"
      ]
    },
    {
      "cell_type": "code",
      "execution_count": 5,
      "metadata": {
        "colab": {
          "base_uri": "https://localhost:8080/"
        },
        "id": "F7gT3AxaHPTf",
        "outputId": "7a5e28ae-021f-4ad5-9976-3da21c85ac25"
      },
      "outputs": [
        {
          "output_type": "stream",
          "name": "stdout",
          "text": [
            "cuda\n"
          ]
        }
      ],
      "source": [
        "DEVICE = None\n",
        "if torch.cuda.is_available():\n",
        "    # Requires NVIDIA GPU with CUDA installed\n",
        "    DEVICE = torch.device(\"cuda\")\n",
        "elif torch.mps.is_available():\n",
        "    # Requires Apple computer with M1 or later chip\n",
        "    DEVICE = torch.device(\"mps\")\n",
        "else:\n",
        "    # Not recommended, because it's slow. Move to Google Colab!\n",
        "    DEVICE = torch.device(\"cpu\")\n",
        "\n",
        "print(DEVICE)"
      ]
    },
    {
      "cell_type": "markdown",
      "metadata": {
        "id": "XEk_uAkoPg-P"
      },
      "source": [
        "As a first thing I prepare my data. At first I import it without any particular preprocessing. For batch size I use 128 as it can guarantee me good results without an excessive increase of the training time. This size will be kept fixed, i.e. it will not be among the hyperparameters tuned.\n",
        "\n",
        "I import the training dataset and I split it in training and validation. 4000 samples are used for training and 1000 for validation. The test dataset is not imported to avoid data leakage."
      ]
    },
    {
      "cell_type": "code",
      "execution_count": 6,
      "metadata": {
        "colab": {
          "base_uri": "https://localhost:8080/"
        },
        "id": "LyManlvVSKkR",
        "outputId": "ef90987c-011d-4f4b-de8e-64de83daf6a4"
      },
      "outputs": [
        {
          "output_type": "stream",
          "name": "stdout",
          "text": [
            "Files already downloaded and verified\n"
          ]
        }
      ],
      "source": [
        "transform = torchvision.transforms.ToTensor()\n",
        "\n",
        "BATCH_SIZE = 128\n",
        "\n",
        "# load the train dataset\n",
        "train_dataset = torchvision.datasets.CIFAR100(\n",
        "    root='./data/',\n",
        "    train=True,\n",
        "    download=True,\n",
        "    transform=transform)\n",
        "\n",
        "# Split the dataset into 40k-10k samples for training-validation.\n",
        "from torch.utils.data import random_split\n",
        "train_dataset,  valid_dataset = random_split(\n",
        "    train_dataset,\n",
        "    lengths=[40000, 10000],\n",
        "    generator=torch.Generator().manual_seed(42)\n",
        ")\n",
        "\n",
        "train_dataloader = DataLoader(\n",
        "    dataset=train_dataset,\n",
        "    batch_size=BATCH_SIZE,\n",
        "    shuffle=True,\n",
        "    num_workers=2)\n",
        "\n",
        "valid_dataloader = DataLoader(\n",
        "    dataset=valid_dataset,\n",
        "    batch_size=BATCH_SIZE,\n",
        "    shuffle=False,\n",
        "    num_workers=2)"
      ]
    },
    {
      "cell_type": "markdown",
      "metadata": {
        "id": "Sso9U7UtFlAy"
      },
      "source": [
        "The I define a fit function. This will be used to train the model and it is analog to the one used in the TP."
      ]
    },
    {
      "cell_type": "code",
      "execution_count": 7,
      "metadata": {
        "id": "yC91-AavFV9g"
      },
      "outputs": [],
      "source": [
        "def train_epoch(\n",
        "    model: nn.Module,\n",
        "    train_dataloader: DataLoader,\n",
        "    optimizer: torch.optim.Optimizer,\n",
        "    device: torch.device,\n",
        "):\n",
        "    \"\"\"\n",
        "    This function implements the core components of any Neural Network training regiment.\n",
        "    In our stochastic setting our code follows a very specific \"path\". First, we load the batch\n",
        "    a single batch and zero the optimizer. Then we perform the forward pass, compute the gradients and perform the backward pass. And ...repeat!\n",
        "    \"\"\"\n",
        "\n",
        "    running_loss = 0.0\n",
        "    model = model.to(device)\n",
        "    model.train()\n",
        "    for batch_idx, (data, target) in enumerate(train_dataloader):\n",
        "        # move data and target to device\n",
        "        data, target = data.to(device), target.to(device)\n",
        "\n",
        "        # zero the parameter gradients\n",
        "        optimizer.zero_grad()\n",
        "\n",
        "        # do the forward pass\n",
        "        output = model(data)\n",
        "\n",
        "        # compute the loss\n",
        "        loss = F.cross_entropy(output, target)\n",
        "\n",
        "        # compute the gradients\n",
        "        loss.backward()\n",
        "\n",
        "        # perform the gradient step\n",
        "        optimizer.step()\n",
        "\n",
        "        # print statistics\n",
        "        running_loss += loss.item()\n",
        "\n",
        "    return running_loss / len(train_dataloader)\n",
        "\n",
        "def predict(\n",
        "    model: nn.Module, test_dataloader: DataLoader, device: torch.device, verbose=True\n",
        "):\n",
        "    model.eval()\n",
        "    test_loss = 0\n",
        "    correct = 0\n",
        "    with torch.no_grad():\n",
        "        for data, target in test_dataloader:\n",
        "            data, target = data.to(device), target.to(device)\n",
        "            output = model(data)\n",
        "            loss = F.cross_entropy(output, target, reduction=\"sum\")\n",
        "            test_loss += loss.item()\n",
        "            pred = output.data.max(1, keepdim=True)[1]\n",
        "            correct += pred.eq(target.data.view_as(pred)).sum()\n",
        "\n",
        "    test_loss /= len(test_dataloader.dataset)\n",
        "    accuracy = 100.0 * correct / len(test_dataloader.dataset)\n",
        "\n",
        "    if verbose:\n",
        "        print(\n",
        "            f\"Test set: Avg. loss: {test_loss:.4f}, Accuracy: {correct}/{len(test_dataloader.dataset)} ({accuracy:.0f}%)\"\n",
        "        )\n",
        "\n",
        "    return test_loss, accuracy\n",
        "\n",
        "def fit(\n",
        "    model: nn.Module,\n",
        "    train_dataloader: DataLoader,\n",
        "    optimizer: torch.optim.Optimizer,\n",
        "    epochs: int,\n",
        "    device: torch.device,\n",
        "    scheduler_lr: Optional[torch.optim.lr_scheduler.ReduceLROnPlateau] = None,\n",
        "    val_dataloader: Optional[DataLoader] = None\n",
        "):\n",
        "    \"\"\"\n",
        "    Train the model and adjust learning rate dynamically using ReduceLROnPlateau.\n",
        "\n",
        "    If the validation loss stagnates for 3 reductions, revert the learning rate\n",
        "    to its original value by multiplying by 1000.\n",
        "    \"\"\"\n",
        "    # Keep track of losses for visualization\n",
        "    train_losses = []\n",
        "    val_losses = []\n",
        "    val_accuracies = []\n",
        "\n",
        "    # Tracking learning rate changes\n",
        "    num_lr_reductions = 0\n",
        "    stagnant_reduction_start_lr = None\n",
        "    accuracy_at_reduction = None\n",
        "\n",
        "    stagnant_epochs = 0\n",
        "    for epoch in range(epochs):\n",
        "        # Train\n",
        "        train_loss = train_epoch(\n",
        "            model=model,\n",
        "            train_dataloader=train_dataloader,\n",
        "            optimizer=optimizer,\n",
        "            device=device\n",
        "        )\n",
        "        train_losses.append(train_loss)\n",
        "\n",
        "        # Validate\n",
        "        if val_dataloader is not None:\n",
        "            val_loss, val_accuracy = predict(\n",
        "                model=model, test_dataloader=val_dataloader, device=device, verbose=False\n",
        "            )\n",
        "            val_losses.append(val_loss)\n",
        "            val_accuracies.append(val_accuracy)\n",
        "            print(\n",
        "                f\"Epoch {epoch}: Train Loss={train_loss:.4f}, Val Loss={val_loss:.4f}, Val Accuracy={val_accuracy:.0f}%\"\n",
        "            )\n",
        "        else:\n",
        "            print(f\"Epoch {epoch}: Train Loss={train_loss:.4f}\")\n",
        "\n",
        "        if scheduler_lr is not None:\n",
        "            current_lr = optimizer.param_groups[0]['lr']\n",
        "            scheduler_lr.step(metrics=val_loss)\n",
        "            new_lr = optimizer.param_groups[0]['lr']\n",
        "            if new_lr < current_lr:\n",
        "              print(f\"Learning rate reduced to {new_lr:.6f}\")\n",
        "\n",
        "    return train_losses, val_losses, val_accuracies"
      ]
    },
    {
      "cell_type": "code",
      "execution_count": 8,
      "metadata": {
        "id": "_tcfxFkl_vmv"
      },
      "outputs": [],
      "source": [
        "\n",
        "def plot_train_val_loss(train_losses, val_losses, ylim=None, loscale=False):\n",
        "    plt.plot(train_losses, color='red', label='Training Loss')\n",
        "    plt.plot(val_losses, color='blue', label='Validation Loss')\n",
        "    plt.xlabel(\"Epochs\")\n",
        "    plt.ylabel(\"Loss\")\n",
        "    plt.ylim(ylim)\n",
        "    plt.grid()\n",
        "    plt.legend()\n",
        "    if loscale:\n",
        "        plt.yscale(\"log\")\n",
        "    plt.title(\"Loss progression across epochs\")"
      ]
    },
    {
      "cell_type": "markdown",
      "metadata": {
        "id": "0JksOCq_GkI4"
      },
      "source": [
        "The network I choose is a ResNet. As we have seen in the lecture, ResNets are very good network to perform image classification tasks because of their skip connection that prevents gradient vanishing in very deep networks.\n",
        "\n",
        "For the residual block I use two convolutional layers. The first layer performs also subsampling defined by a stride parameter. For the kernel size I keep it fixed at 3, which is a reasonable number given that images of the CIFAR100 dataset have 32x32 pixels.\n",
        "\n",
        "After every convolutional layer I apply a batch normalization (BN). As we have seen both in class and during the TP, BN allows to use a higher learning rate without overshooting and thus reaching convergence faster. Moreover, it is an additional way to prevent vanishing gradients and, more in general, unstable ones.\n",
        "\n",
        "As activation function I use the ReLu, that is widely used for image classification problems.\n",
        "\n",
        "The network is then built using this residual block.\n",
        "\n",
        "As a first thing, I pass the image through a 16 filters convolutional layer (with its batch normalization and activation function). Then I instantiate the residual blocks packing them in residual layers.\n",
        "\n",
        "The first layer has 16 filters, the second 32 and the third 64. The number of blocks per layer are 12, 11 and 10 respectively. As said at the beginning, I want to exploit the depth of the network as much as possible, so I use an over 30 layer resNet, respecting the upper bound of 1 million parameters.\n",
        "\n",
        "Finally I use an average pooling and a fully connected layer.\n",
        "\n",
        "To increase performance, I do a weight initialization using Kaiming He normal initialization that we have seen is class is one of the best weight initialization strategy. For the batch normalization and the fully connected layer I do not use any bias.\n",
        "\n",
        "As of now, I do not use any dropout layer to prevent overfitting. It has been shown that they can safely be safely avoided when using batch normalization. The only form of regulation I use is weight decay as hyperparameter of the optimizer."
      ]
    },
    {
      "cell_type": "code",
      "execution_count": 9,
      "metadata": {
        "id": "M-4bHASHHiP3"
      },
      "outputs": [],
      "source": [
        "class ResidualBlock(nn.Module):\n",
        "    def __init__(self, in_planes, planes, stride=1):\n",
        "        super().__init__()\n",
        "\n",
        "        self.conv1 = nn.Conv2d(\n",
        "            in_channels=in_planes,\n",
        "            out_channels=planes,\n",
        "            kernel_size=3,\n",
        "            stride=stride,\n",
        "            padding=1,\n",
        "            bias=False\n",
        "        )\n",
        "        self.bn1 = nn.BatchNorm2d(planes)\n",
        "\n",
        "        self.conv2 = nn.Conv2d(\n",
        "            in_channels=planes,\n",
        "            out_channels=planes,\n",
        "            kernel_size=3,\n",
        "            stride=1,\n",
        "            padding=1,\n",
        "            bias=False\n",
        "        )\n",
        "        self.bn2 = nn.BatchNorm2d(planes)\n",
        "\n",
        "        # Skip connection to match dimensions when necessary\n",
        "        self.skip = nn.Sequential()\n",
        "        if stride > 1 or in_planes != planes:\n",
        "            self.skip = nn.Sequential(\n",
        "                nn.Conv2d(\n",
        "                    in_channels=in_planes,\n",
        "                    out_channels=planes,\n",
        "                    kernel_size=1,\n",
        "                    stride=stride,\n",
        "                    bias=False\n",
        "                ),\n",
        "                nn.BatchNorm2d(planes)\n",
        "            )\n",
        "\n",
        "    def forward(self, x):\n",
        "        out = self.conv1(x)\n",
        "        out = self.bn1(out)\n",
        "        out = F.relu(out)\n",
        "\n",
        "        out = self.conv2(out)\n",
        "        out = self.bn2(out)\n",
        "        out += self.skip(x)\n",
        "        out = F.relu(out)\n",
        "        return out"
      ]
    },
    {
      "cell_type": "markdown",
      "metadata": {
        "id": "N7c-RqxJMUzc"
      },
      "source": [
        "Now I write the network."
      ]
    },
    {
      "cell_type": "code",
      "execution_count": 10,
      "metadata": {
        "colab": {
          "base_uri": "https://localhost:8080/"
        },
        "id": "FqM6MWkfMaOm",
        "outputId": "798ec5d1-bc21-4179-ee54-779dd3cfe4af"
      },
      "outputs": [
        {
          "output_type": "stream",
          "name": "stdout",
          "text": [
            "Model parameters:  986740\n"
          ]
        }
      ],
      "source": [
        "class ResNet(nn.Module):\n",
        "    def __init__(self, block, num_blocks, num_classes=100):\n",
        "        super().__init__()\n",
        "        self.in_planes = 16  # Initial number of filters\n",
        "\n",
        "        # First layer: 3x3 Convolution\n",
        "        self.conv1 = nn.Conv2d(3, 16, kernel_size=3, stride=1, padding=1, bias=False)\n",
        "        self.bn1 = nn.BatchNorm2d(16)\n",
        "\n",
        "        # Residual layers\n",
        "        self.layer1 = self._make_layer(block, 16, num_blocks[0], stride=1)\n",
        "        self.layer2 = self._make_layer(block, 32, num_blocks[1], stride=2)\n",
        "        self.layer3 = self._make_layer(block, 64, num_blocks[2], stride=2)\n",
        "\n",
        "        # Global Average Pooling and Fully Connected Layer\n",
        "        self.linear = nn.Linear(64, num_classes)\n",
        "\n",
        "        # Initialize weights\n",
        "        self._initialize_weights()\n",
        "\n",
        "    def _make_layer(self, block, planes, num_blocks, stride):\n",
        "        strides = [stride] + [1] * (num_blocks - 1)\n",
        "        layers = []\n",
        "        for stride in strides:\n",
        "            layers.append(block(self.in_planes, planes, stride))\n",
        "            self.in_planes = planes\n",
        "        return nn.Sequential(*layers)\n",
        "\n",
        "    def _initialize_weights(self):\n",
        "        for m in self.modules():\n",
        "            if isinstance(m, nn.Conv2d):\n",
        "                torch.nn.init.kaiming_normal_(m.weight, mode='fan_out', nonlinearity='relu')\n",
        "            elif isinstance(m, nn.BatchNorm2d):\n",
        "                torch.nn.init.constant_(m.weight, 1)\n",
        "                torch.nn.init.constant_(m.bias, 0)\n",
        "            elif isinstance(m, nn.Linear):\n",
        "                torch.nn.init.kaiming_normal_(m.weight, mode='fan_out', nonlinearity='relu')\n",
        "                torch.nn.init.constant_(m.bias, 0)\n",
        "\n",
        "    def forward(self, x):\n",
        "        out = F.relu(self.bn1(self.conv1(x)))\n",
        "        out = self.layer1(out)\n",
        "        out = self.layer2(out)\n",
        "        out = self.layer3(out)\n",
        "        if out.size(2) > 1 and out.size(3) > 1:\n",
        "          out = F.avg_pool2d(out, out.size(3))  # Global Average Pooling only if size is >1\n",
        "        else:\n",
        "          out = F.adaptive_avg_pool2d(out, (1, 1))  # fallback to adaptive avg pooling if size is too small\n",
        "\n",
        "        out = out.view(out.size(0), -1)\n",
        "        out = self.linear(out)\n",
        "        return out\n",
        "\n",
        "print(\"Model parameters: \", sum(p.numel() for p in ResNet(block=ResidualBlock, num_blocks=[12,11,10]).parameters()))\n",
        "\n"
      ]
    },
    {
      "cell_type": "markdown",
      "metadata": {
        "id": "ePt499mdPg-S"
      },
      "source": [
        "To train the model I need an optimizer. Additionally I use also a learning rate scheduler. This allows me to modulate the learning rate according to the state of my loss function. This will help me to reach convergence to a low loss value.\n",
        "\n",
        "As optimizer I initally use stochastic gradient descent.\n",
        "As learning rate scheduler I use ReduceLRonPlateu of torch, that detects when we have a plateau in the loss function and reduces the learning rate to have a more precise gradient descent step. The advantage of this scheduler is that it adapts to the condition of the loss function. Moreover, it reduces the learning rate only when it is needed, thus allowing faster convergence.\n",
        "\n",
        "To correctly tune the hyperparameters a cross validation would be needed, but this would require to train the network for all combinations of them. Since this is really expensive in terms of computing power, I opt to choose some reasonable initial conditions to use as a baseline solution, then based on the results obtained, I will adjust them to directly address the issues I see.\n",
        "\n",
        "I start with a learning rate of 0.01 a weight decay of 0.001 and momentum of 0.9 in the SDG optimizer. For the scheduler, I use a reduction rate of 0.1 and a patience of 3 epochs (because of the limit on the training time, I do not want to be stuck in a plateau for a lot of epochs).\n",
        "\n",
        "I begin training with 50 epochs."
      ]
    },
    {
      "cell_type": "code",
      "execution_count": 11,
      "metadata": {
        "colab": {
          "base_uri": "https://localhost:8080/",
          "height": 1000
        },
        "id": "m0MkwLvkRj02",
        "outputId": "54c15875-8eb9-4506-fd12-037f604aafb6"
      },
      "outputs": [
        {
          "output_type": "stream",
          "name": "stdout",
          "text": [
            "Epoch 0: Train Loss=4.4837, Val Loss=4.0854, Val Accuracy=8%\n",
            "Epoch 1: Train Loss=3.8756, Val Loss=3.7719, Val Accuracy=12%\n",
            "Epoch 2: Train Loss=3.5514, Val Loss=3.8003, Val Accuracy=13%\n",
            "Epoch 3: Train Loss=3.2795, Val Loss=3.3043, Val Accuracy=20%\n",
            "Epoch 4: Train Loss=3.0383, Val Loss=3.0736, Val Accuracy=24%\n",
            "Epoch 5: Train Loss=2.8316, Val Loss=3.0623, Val Accuracy=24%\n",
            "Epoch 6: Train Loss=2.6408, Val Loss=2.8178, Val Accuracy=29%\n",
            "Epoch 7: Train Loss=2.4561, Val Loss=2.7347, Val Accuracy=31%\n",
            "Epoch 8: Train Loss=2.3101, Val Loss=2.7075, Val Accuracy=31%\n",
            "Epoch 9: Train Loss=2.1669, Val Loss=2.6385, Val Accuracy=33%\n",
            "Epoch 10: Train Loss=2.0415, Val Loss=2.5702, Val Accuracy=34%\n",
            "Epoch 11: Train Loss=1.9256, Val Loss=2.7069, Val Accuracy=33%\n",
            "Epoch 12: Train Loss=1.8149, Val Loss=2.6920, Val Accuracy=33%\n",
            "Epoch 13: Train Loss=1.7154, Val Loss=2.5192, Val Accuracy=37%\n",
            "Epoch 14: Train Loss=1.6355, Val Loss=2.6201, Val Accuracy=36%\n",
            "Epoch 15: Train Loss=1.5420, Val Loss=2.4172, Val Accuracy=38%\n",
            "Epoch 16: Train Loss=1.4660, Val Loss=2.6245, Val Accuracy=36%\n",
            "Epoch 17: Train Loss=1.4071, Val Loss=2.4691, Val Accuracy=38%\n",
            "Epoch 18: Train Loss=1.3391, Val Loss=2.6087, Val Accuracy=38%\n",
            "Epoch 19: Train Loss=1.2659, Val Loss=2.3884, Val Accuracy=41%\n",
            "Epoch 20: Train Loss=1.2032, Val Loss=2.5596, Val Accuracy=39%\n",
            "Epoch 21: Train Loss=1.1515, Val Loss=2.7499, Val Accuracy=38%\n",
            "Epoch 22: Train Loss=1.1069, Val Loss=2.6295, Val Accuracy=38%\n",
            "Epoch 23: Train Loss=1.0411, Val Loss=2.6801, Val Accuracy=38%\n",
            "Learning rate reduced to 0.001000\n",
            "Epoch 24: Train Loss=0.5846, Val Loss=2.1524, Val Accuracy=46%\n",
            "Epoch 25: Train Loss=0.4230, Val Loss=2.1987, Val Accuracy=46%\n",
            "Epoch 26: Train Loss=0.3510, Val Loss=2.2613, Val Accuracy=46%\n",
            "Epoch 27: Train Loss=0.3052, Val Loss=2.3007, Val Accuracy=46%\n",
            "Epoch 28: Train Loss=0.2659, Val Loss=2.3371, Val Accuracy=46%\n",
            "Learning rate reduced to 0.000100\n",
            "Epoch 29: Train Loss=0.2259, Val Loss=2.3497, Val Accuracy=45%\n",
            "Epoch 30: Train Loss=0.2209, Val Loss=2.3513, Val Accuracy=45%\n",
            "Epoch 31: Train Loss=0.2166, Val Loss=2.3613, Val Accuracy=45%\n",
            "Epoch 32: Train Loss=0.2129, Val Loss=2.3643, Val Accuracy=45%\n",
            "Learning rate reduced to 0.000010\n",
            "Epoch 33: Train Loss=0.2086, Val Loss=2.3566, Val Accuracy=45%\n",
            "Epoch 34: Train Loss=0.2103, Val Loss=2.3662, Val Accuracy=45%\n",
            "Epoch 35: Train Loss=0.2095, Val Loss=2.3608, Val Accuracy=45%\n",
            "Epoch 36: Train Loss=0.2091, Val Loss=2.3581, Val Accuracy=45%\n",
            "Learning rate reduced to 0.000001\n",
            "Epoch 37: Train Loss=0.2081, Val Loss=2.3545, Val Accuracy=45%\n",
            "Epoch 38: Train Loss=0.2096, Val Loss=2.3658, Val Accuracy=45%\n",
            "Epoch 39: Train Loss=0.2093, Val Loss=2.3645, Val Accuracy=45%\n",
            "Epoch 40: Train Loss=0.2097, Val Loss=2.3597, Val Accuracy=45%\n",
            "Learning rate reduced to 0.000000\n",
            "Epoch 41: Train Loss=0.2091, Val Loss=2.3570, Val Accuracy=45%\n",
            "Epoch 42: Train Loss=0.2084, Val Loss=2.3588, Val Accuracy=45%\n",
            "Epoch 43: Train Loss=0.2083, Val Loss=2.3583, Val Accuracy=45%\n",
            "Epoch 44: Train Loss=0.2089, Val Loss=2.3640, Val Accuracy=45%\n",
            "Learning rate reduced to 0.000000\n",
            "Epoch 45: Train Loss=0.2083, Val Loss=2.3655, Val Accuracy=45%\n",
            "Epoch 46: Train Loss=0.2078, Val Loss=2.3588, Val Accuracy=45%\n",
            "Epoch 47: Train Loss=0.2079, Val Loss=2.3558, Val Accuracy=45%\n",
            "Epoch 48: Train Loss=0.2078, Val Loss=2.3578, Val Accuracy=45%\n",
            "Epoch 49: Train Loss=0.2088, Val Loss=2.3635, Val Accuracy=45%\n"
          ]
        },
        {
          "output_type": "display_data",
          "data": {
            "text/plain": [
              "<Figure size 640x480 with 1 Axes>"
            ],
            "image/png": "[encoded data removed]"
          },
          "metadata": {}
        }
      ],
      "source": [
        "model = ResNet(block=ResidualBlock, num_blocks=[12, 11, 10]).to(DEVICE)\n",
        "\n",
        "optimizer = torch.optim.SGD(model.parameters(), lr=0.01, weight_decay=0.001, momentum=0.9)\n",
        "scheduler_lr = torch.optim.lr_scheduler.ReduceLROnPlateau(optimizer, factor=0.1, patience=3)\n",
        "\n",
        "train_losses, valid_losses, valid_accs =   fit(\n",
        "        model,\n",
        "        train_dataloader = train_dataloader,\n",
        "        optimizer = optimizer,\n",
        "        epochs = 50,\n",
        "        device = DEVICE,\n",
        "        val_dataloader = valid_dataloader,\n",
        "        scheduler_lr = scheduler_lr\n",
        "    )\n",
        "\n",
        "plot_train_val_loss(train_losses, valid_losses)\n"
      ]
    },
    {
      "cell_type": "markdown",
      "metadata": {
        "id": "2GVjFLD3Pg-T"
      },
      "source": [
        "The first solution obtained reaches a plateau with a validation accuracy of 45%. More interesting than that is to notice the difference between the training and validation loss, which is a clear case of overfitting.\n",
        "\n",
        "To address overfitting, I use data augmentation. By slightly modyfying the images of the training set, I introduce more variety in the set which helps the model to generalize better and to perform better on unseen data.\n",
        "I use just simple transformations such as crop, horizontal flip, rotation and color jitter, which I apply only to the training set because I want to leave the validation set as it is."
      ]
    },
    {
      "cell_type": "code",
      "execution_count": 12,
      "metadata": {
        "colab": {
          "base_uri": "https://localhost:8080/"
        },
        "id": "4Gigyapp7sG-",
        "outputId": "404f73e1-d394-42a2-f292-7ceb920faea2"
      },
      "outputs": [
        {
          "output_type": "stream",
          "name": "stdout",
          "text": [
            "Files already downloaded and verified\n"
          ]
        }
      ],
      "source": [
        "\n",
        "# Define a new transform with data augmentation for training\n",
        "train_transform = transforms.Compose([\n",
        "    transforms.RandomCrop(32, padding=4),  # Random crop with padding\n",
        "    transforms.RandomHorizontalFlip(),    # Randomly flip images horizontally\n",
        "    transforms.RandomRotation(15),       # Randomly rotate images\n",
        "    transforms.ColorJitter(brightness=0.2, contrast=0.2, saturation=0.2, hue=0.1),  # Color augmentation\n",
        "    transforms.ToTensor()\n",
        "])\n",
        "\n",
        "# No data augmentation for validation\n",
        "val_transform = transforms.Compose([\n",
        "    transforms.ToTensor()\n",
        "])\n",
        "\n",
        "# Fetch data and apply the new transformer\n",
        "BATCH_SIZE = 128\n",
        "\n",
        "# load the train dataset\n",
        "augmented_dataset = torchvision.datasets.CIFAR100(\n",
        "    root='./data/',\n",
        "    train=True,\n",
        "    download=True,\n",
        "    transform=train_transform)\n",
        "\n",
        "# Split both the augmented and not augmented dataset,\n",
        "# but take the training from the augmented and the validation from the not augmented\n",
        "\n",
        "from torch.utils.data import random_split\n",
        "train_dataset, valid_dataset_aug = random_split(\n",
        "    augmented_dataset,\n",
        "    lengths=[40000, 10000],\n",
        "    generator=torch.Generator().manual_seed(42)\n",
        ")\n",
        "\n",
        "valid_dataset = torch.utils.data.Subset(\n",
        "    torchvision.datasets.CIFAR100(\n",
        "        root='./data',\n",
        "        train=True,\n",
        "        transform=val_transform),\n",
        "    valid_dataset_aug.indices)\n",
        "\n",
        "train_dataloader = DataLoader(\n",
        "    dataset=train_dataset,\n",
        "    batch_size=BATCH_SIZE,\n",
        "    shuffle=True,\n",
        "    num_workers=2)\n",
        "\n",
        "valid_dataloader = DataLoader(\n",
        "    dataset=valid_dataset,\n",
        "    batch_size=BATCH_SIZE,\n",
        "    shuffle=False,\n",
        "    num_workers=2)\n"
      ]
    },
    {
      "cell_type": "code",
      "execution_count": 13,
      "metadata": {
        "colab": {
          "base_uri": "https://localhost:8080/",
          "height": 1000
        },
        "id": "dmwXVod_AIvP",
        "outputId": "8ded038c-9583-4fad-f8cf-0f5d981e0379"
      },
      "outputs": [
        {
          "output_type": "stream",
          "name": "stdout",
          "text": [
            "Epoch 0: Train Loss=4.4802, Val Loss=4.1775, Val Accuracy=6%\n",
            "Epoch 1: Train Loss=4.0602, Val Loss=4.0516, Val Accuracy=8%\n",
            "Epoch 2: Train Loss=3.8258, Val Loss=3.7899, Val Accuracy=12%\n",
            "Epoch 3: Train Loss=3.6274, Val Loss=3.5430, Val Accuracy=16%\n",
            "Epoch 4: Train Loss=3.4545, Val Loss=3.3125, Val Accuracy=19%\n",
            "Epoch 5: Train Loss=3.3048, Val Loss=3.1730, Val Accuracy=22%\n",
            "Epoch 6: Train Loss=3.1579, Val Loss=3.0763, Val Accuracy=24%\n",
            "Epoch 7: Train Loss=3.0140, Val Loss=3.0380, Val Accuracy=25%\n",
            "Epoch 8: Train Loss=2.8948, Val Loss=2.8598, Val Accuracy=28%\n",
            "Epoch 9: Train Loss=2.7733, Val Loss=2.6140, Val Accuracy=32%\n",
            "Epoch 10: Train Loss=2.6494, Val Loss=2.6205, Val Accuracy=32%\n",
            "Epoch 11: Train Loss=2.5622, Val Loss=2.6831, Val Accuracy=33%\n",
            "Epoch 12: Train Loss=2.4726, Val Loss=2.5557, Val Accuracy=34%\n",
            "Epoch 13: Train Loss=2.3987, Val Loss=2.5327, Val Accuracy=35%\n",
            "Epoch 14: Train Loss=2.3198, Val Loss=2.5475, Val Accuracy=36%\n",
            "Epoch 15: Train Loss=2.2540, Val Loss=2.7856, Val Accuracy=33%\n",
            "Epoch 16: Train Loss=2.1926, Val Loss=2.2518, Val Accuracy=40%\n",
            "Epoch 17: Train Loss=2.1303, Val Loss=2.2838, Val Accuracy=41%\n",
            "Epoch 18: Train Loss=2.0933, Val Loss=2.1051, Val Accuracy=43%\n",
            "Epoch 19: Train Loss=2.0284, Val Loss=2.1215, Val Accuracy=44%\n",
            "Epoch 20: Train Loss=1.9940, Val Loss=2.0890, Val Accuracy=45%\n",
            "Epoch 21: Train Loss=1.9482, Val Loss=2.0590, Val Accuracy=45%\n",
            "Epoch 22: Train Loss=1.9088, Val Loss=2.0520, Val Accuracy=45%\n",
            "Epoch 23: Train Loss=1.8667, Val Loss=2.0969, Val Accuracy=44%\n",
            "Epoch 24: Train Loss=1.8453, Val Loss=2.0910, Val Accuracy=45%\n",
            "Epoch 25: Train Loss=1.8081, Val Loss=2.1915, Val Accuracy=44%\n",
            "Epoch 26: Train Loss=1.7762, Val Loss=1.9270, Val Accuracy=48%\n",
            "Epoch 27: Train Loss=1.7511, Val Loss=1.8937, Val Accuracy=49%\n",
            "Epoch 28: Train Loss=1.7172, Val Loss=1.9119, Val Accuracy=49%\n",
            "Epoch 29: Train Loss=1.6967, Val Loss=2.0538, Val Accuracy=46%\n",
            "Epoch 30: Train Loss=1.6744, Val Loss=1.8259, Val Accuracy=50%\n",
            "Epoch 31: Train Loss=1.6443, Val Loss=1.7765, Val Accuracy=51%\n",
            "Epoch 32: Train Loss=1.6301, Val Loss=1.8909, Val Accuracy=50%\n",
            "Epoch 33: Train Loss=1.6023, Val Loss=1.7857, Val Accuracy=52%\n",
            "Epoch 34: Train Loss=1.5932, Val Loss=2.2039, Val Accuracy=45%\n",
            "Epoch 35: Train Loss=1.5717, Val Loss=1.9354, Val Accuracy=49%\n",
            "Learning rate reduced to 0.001000\n",
            "Epoch 36: Train Loss=1.3255, Val Loss=1.4367, Val Accuracy=60%\n",
            "Epoch 37: Train Loss=1.2468, Val Loss=1.4134, Val Accuracy=60%\n",
            "Epoch 38: Train Loss=1.2232, Val Loss=1.4116, Val Accuracy=61%\n",
            "Epoch 39: Train Loss=1.2050, Val Loss=1.3958, Val Accuracy=61%\n",
            "Epoch 40: Train Loss=1.1957, Val Loss=1.4002, Val Accuracy=61%\n",
            "Epoch 41: Train Loss=1.1766, Val Loss=1.3938, Val Accuracy=61%\n",
            "Epoch 42: Train Loss=1.1622, Val Loss=1.3883, Val Accuracy=61%\n",
            "Epoch 43: Train Loss=1.1500, Val Loss=1.3882, Val Accuracy=61%\n",
            "Epoch 44: Train Loss=1.1434, Val Loss=1.3991, Val Accuracy=61%\n",
            "Epoch 45: Train Loss=1.1310, Val Loss=1.3946, Val Accuracy=61%\n",
            "Epoch 46: Train Loss=1.1272, Val Loss=1.3756, Val Accuracy=62%\n",
            "Epoch 47: Train Loss=1.1193, Val Loss=1.3917, Val Accuracy=62%\n",
            "Epoch 48: Train Loss=1.1142, Val Loss=1.4059, Val Accuracy=61%\n",
            "Epoch 49: Train Loss=1.1037, Val Loss=1.3892, Val Accuracy=62%\n",
            "Epoch 50: Train Loss=1.0925, Val Loss=1.4005, Val Accuracy=62%\n",
            "Learning rate reduced to 0.000100\n",
            "Epoch 51: Train Loss=1.0654, Val Loss=1.3665, Val Accuracy=62%\n",
            "Epoch 52: Train Loss=1.0472, Val Loss=1.3594, Val Accuracy=63%\n",
            "Epoch 53: Train Loss=1.0440, Val Loss=1.3561, Val Accuracy=63%\n",
            "Epoch 54: Train Loss=1.0372, Val Loss=1.3599, Val Accuracy=62%\n",
            "Epoch 55: Train Loss=1.0384, Val Loss=1.3576, Val Accuracy=62%\n",
            "Epoch 56: Train Loss=1.0416, Val Loss=1.3544, Val Accuracy=63%\n",
            "Epoch 57: Train Loss=1.0382, Val Loss=1.3560, Val Accuracy=62%\n",
            "Epoch 58: Train Loss=1.0360, Val Loss=1.3507, Val Accuracy=63%\n",
            "Epoch 59: Train Loss=1.0338, Val Loss=1.3515, Val Accuracy=63%\n",
            "Epoch 60: Train Loss=1.0369, Val Loss=1.3528, Val Accuracy=63%\n",
            "Epoch 61: Train Loss=1.0309, Val Loss=1.3535, Val Accuracy=63%\n",
            "Epoch 62: Train Loss=1.0330, Val Loss=1.3556, Val Accuracy=63%\n",
            "Learning rate reduced to 0.000010\n",
            "Epoch 63: Train Loss=1.0250, Val Loss=1.3521, Val Accuracy=63%\n",
            "Epoch 64: Train Loss=1.0318, Val Loss=1.3506, Val Accuracy=63%\n",
            "Epoch 65: Train Loss=1.0281, Val Loss=1.3512, Val Accuracy=63%\n",
            "Epoch 66: Train Loss=1.0287, Val Loss=1.3529, Val Accuracy=63%\n",
            "Epoch 67: Train Loss=1.0238, Val Loss=1.3497, Val Accuracy=63%\n",
            "Epoch 68: Train Loss=1.0260, Val Loss=1.3494, Val Accuracy=63%\n",
            "Epoch 69: Train Loss=1.0261, Val Loss=1.3500, Val Accuracy=63%\n"
          ]
        },
        {
          "output_type": "display_data",
          "data": {
            "text/plain": [
              "<Figure size 640x480 with 1 Axes>"
            ],
            "image/png": "[encoded data removed]"
          },
          "metadata": {}
        }
      ],
      "source": [
        "\n",
        "model = ResNet(block=ResidualBlock, num_blocks=[12, 11, 10]).to(DEVICE)\n",
        "\n",
        "optimizer = torch.optim.SGD(model.parameters(), lr=0.01, weight_decay=0.001, momentum=0.9)\n",
        "scheduler_lr = torch.optim.lr_scheduler.ReduceLROnPlateau(optimizer, factor=0.1, patience=3)\n",
        "\n",
        "train_losses, valid_losses, valid_accs =   fit(\n",
        "        model,\n",
        "        train_dataloader = train_dataloader,\n",
        "        optimizer = optimizer,\n",
        "        epochs = 70,\n",
        "        device = DEVICE,\n",
        "        val_dataloader = valid_dataloader,\n",
        "        scheduler_lr = scheduler_lr\n",
        "    )\n",
        "plot_train_val_loss(train_losses, valid_losses)"
      ]
    },
    {
      "cell_type": "markdown",
      "metadata": {
        "id": "c-asq3oSPg-U"
      },
      "source": [
        "Above there is the plot of training and validation losses. Results show that data augmentation was effective: overfitting is considerably reduced and the validation accuracy now reaches 63%."
      ]
    },
    {
      "cell_type": "markdown",
      "metadata": {
        "id": "Y8XkcCLrPg-U"
      },
      "source": [
        "Now the aim is to tune the hyperparameters to increase the model accuracy.\n",
        "\n",
        "Looking at the plot, the loss function is well decreasing, then it reaches a plateau that it doesn't manage to escape.\n",
        "\n",
        "The first modification I do is to start from a learning rate of 0.1 instead of 0.01. Since at the beginning the loss is correctly decreasing, I could use this higher learning rate to make the loss decrease faster where it manages do find a downward path. Then, if it gets stuck in a plateau, the scheduler will intervene to reduce the learning rate."
      ]
    },
    {
      "cell_type": "code",
      "execution_count": null,
      "metadata": {
        "colab": {
          "base_uri": "https://localhost:8080/",
          "height": 1000
        },
        "id": "qTMFfWx7amNK",
        "outputId": "3236d6eb-4745-4917-83b4-411fb058f528"
      },
      "outputs": [
        {
          "name": "stderr",
          "output_type": "stream",
          "text": [
            "/usr/local/lib/python3.10/dist-packages/torch/optim/lr_scheduler.py:62: UserWarning: The verbose parameter is deprecated. Please use get_last_lr() to access the learning rate.\n",
            "  warnings.warn(\n"
          ]
        },
        {
          "name": "stdout",
          "output_type": "stream",
          "text": [
            "Epoch 0: Train Loss=4.6423, Val Loss=4.5460, Val Accuracy=1%\n",
            "Epoch 1: Train Loss=4.2953, Val Loss=4.4769, Val Accuracy=5%\n",
            "Epoch 2: Train Loss=4.0224, Val Loss=3.8753, Val Accuracy=10%\n",
            "Epoch 3: Train Loss=3.8125, Val Loss=3.7332, Val Accuracy=12%\n",
            "Epoch 4: Train Loss=3.5934, Val Loss=3.5512, Val Accuracy=15%\n",
            "Epoch 5: Train Loss=3.4121, Val Loss=3.4552, Val Accuracy=17%\n",
            "Epoch 6: Train Loss=3.2302, Val Loss=3.0763, Val Accuracy=23%\n",
            "Epoch 7: Train Loss=3.0760, Val Loss=3.0222, Val Accuracy=25%\n",
            "Epoch 8: Train Loss=2.9645, Val Loss=2.9578, Val Accuracy=26%\n",
            "Epoch 9: Train Loss=2.8818, Val Loss=2.8503, Val Accuracy=29%\n",
            "Epoch 10: Train Loss=2.8001, Val Loss=3.0135, Val Accuracy=26%\n",
            "Epoch 11: Train Loss=2.7334, Val Loss=2.8398, Val Accuracy=29%\n",
            "Epoch 12: Train Loss=2.6746, Val Loss=2.9103, Val Accuracy=29%\n",
            "Epoch 13: Train Loss=2.6198, Val Loss=3.0771, Val Accuracy=25%\n",
            "Epoch 14: Train Loss=2.5802, Val Loss=2.8830, Val Accuracy=30%\n",
            "Epoch 15: Train Loss=2.5426, Val Loss=2.9238, Val Accuracy=29%\n",
            "Learning rate reduced to 0.010000\n",
            "Epoch 16: Train Loss=2.0881, Val Loss=1.8839, Val Accuracy=48%\n",
            "Epoch 17: Train Loss=1.9428, Val Loss=1.8117, Val Accuracy=50%\n",
            "Epoch 18: Train Loss=1.8837, Val Loss=1.8217, Val Accuracy=50%\n",
            "Epoch 19: Train Loss=1.8392, Val Loss=1.8471, Val Accuracy=50%\n",
            "Epoch 20: Train Loss=1.8021, Val Loss=1.7999, Val Accuracy=50%\n",
            "Epoch 21: Train Loss=1.7728, Val Loss=1.7556, Val Accuracy=52%\n",
            "Epoch 22: Train Loss=1.7450, Val Loss=1.7468, Val Accuracy=52%\n",
            "Epoch 23: Train Loss=1.7261, Val Loss=1.7673, Val Accuracy=52%\n",
            "Epoch 24: Train Loss=1.7018, Val Loss=1.7740, Val Accuracy=51%\n",
            "Epoch 25: Train Loss=1.6869, Val Loss=1.7329, Val Accuracy=52%\n",
            "Epoch 26: Train Loss=1.6754, Val Loss=1.6875, Val Accuracy=54%\n",
            "Epoch 27: Train Loss=1.6577, Val Loss=1.7415, Val Accuracy=53%\n",
            "Epoch 28: Train Loss=1.6392, Val Loss=1.7109, Val Accuracy=53%\n",
            "Epoch 29: Train Loss=1.6172, Val Loss=1.6556, Val Accuracy=54%\n",
            "Epoch 30: Train Loss=1.6087, Val Loss=1.7473, Val Accuracy=52%\n",
            "Epoch 31: Train Loss=1.5952, Val Loss=1.7561, Val Accuracy=53%\n",
            "Epoch 32: Train Loss=1.5781, Val Loss=1.7105, Val Accuracy=53%\n",
            "Epoch 33: Train Loss=1.5697, Val Loss=1.6478, Val Accuracy=55%\n",
            "Epoch 34: Train Loss=1.5583, Val Loss=1.6223, Val Accuracy=55%\n",
            "Epoch 35: Train Loss=1.5464, Val Loss=1.7028, Val Accuracy=54%\n",
            "Epoch 36: Train Loss=1.5373, Val Loss=1.7906, Val Accuracy=52%\n",
            "Epoch 37: Train Loss=1.5255, Val Loss=1.7897, Val Accuracy=52%\n",
            "Epoch 38: Train Loss=1.5084, Val Loss=1.7019, Val Accuracy=53%\n",
            "Learning rate reduced to 0.001000\n",
            "Epoch 39: Train Loss=1.3016, Val Loss=1.3659, Val Accuracy=61%\n",
            "Epoch 40: Train Loss=1.2238, Val Loss=1.3550, Val Accuracy=62%\n",
            "Epoch 41: Train Loss=1.1958, Val Loss=1.3465, Val Accuracy=62%\n",
            "Epoch 42: Train Loss=1.1764, Val Loss=1.3480, Val Accuracy=62%\n",
            "Epoch 43: Train Loss=1.1580, Val Loss=1.3452, Val Accuracy=62%\n",
            "Epoch 44: Train Loss=1.1418, Val Loss=1.3416, Val Accuracy=62%\n",
            "Epoch 45: Train Loss=1.1328, Val Loss=1.3442, Val Accuracy=63%\n",
            "Epoch 46: Train Loss=1.1213, Val Loss=1.3410, Val Accuracy=62%\n",
            "Epoch 47: Train Loss=1.1116, Val Loss=1.3354, Val Accuracy=63%\n",
            "Epoch 48: Train Loss=1.1042, Val Loss=1.3311, Val Accuracy=63%\n",
            "Epoch 49: Train Loss=1.1002, Val Loss=1.3280, Val Accuracy=63%\n",
            "Epoch 50: Train Loss=1.0858, Val Loss=1.3312, Val Accuracy=63%\n",
            "Epoch 51: Train Loss=1.0807, Val Loss=1.3334, Val Accuracy=63%\n",
            "Epoch 52: Train Loss=1.0715, Val Loss=1.3308, Val Accuracy=63%\n",
            "Epoch 53: Train Loss=1.0605, Val Loss=1.3417, Val Accuracy=63%\n",
            "Learning rate reduced to 0.000100\n",
            "Epoch 54: Train Loss=1.0312, Val Loss=1.3171, Val Accuracy=63%\n",
            "Epoch 55: Train Loss=1.0245, Val Loss=1.3121, Val Accuracy=63%\n",
            "Epoch 56: Train Loss=1.0208, Val Loss=1.3104, Val Accuracy=63%\n",
            "Epoch 57: Train Loss=1.0180, Val Loss=1.3108, Val Accuracy=63%\n",
            "Epoch 58: Train Loss=1.0113, Val Loss=1.3060, Val Accuracy=64%\n",
            "Epoch 59: Train Loss=1.0117, Val Loss=1.3102, Val Accuracy=64%\n",
            "Epoch 60: Train Loss=1.0112, Val Loss=1.3091, Val Accuracy=64%\n",
            "Epoch 61: Train Loss=1.0110, Val Loss=1.3118, Val Accuracy=63%\n",
            "Epoch 62: Train Loss=1.0075, Val Loss=1.3166, Val Accuracy=64%\n",
            "Learning rate reduced to 0.000010\n",
            "Epoch 63: Train Loss=1.0042, Val Loss=1.3131, Val Accuracy=64%\n",
            "Epoch 64: Train Loss=0.9989, Val Loss=1.3080, Val Accuracy=64%\n",
            "Epoch 65: Train Loss=1.0013, Val Loss=1.3088, Val Accuracy=64%\n",
            "Epoch 66: Train Loss=0.9970, Val Loss=1.3118, Val Accuracy=64%\n",
            "Learning rate reduced to 0.000001\n",
            "Epoch 67: Train Loss=0.9964, Val Loss=1.3130, Val Accuracy=64%\n",
            "Epoch 68: Train Loss=1.0041, Val Loss=1.3093, Val Accuracy=64%\n",
            "Epoch 69: Train Loss=1.0026, Val Loss=1.3074, Val Accuracy=64%\n"
          ]
        },
        {
          "data": {
            "image/png": "[encoded data removed]",
            "text/plain": [
              "<Figure size 640x480 with 1 Axes>"
            ]
          },
          "metadata": {},
          "output_type": "display_data"
        }
      ],
      "source": [
        "model = ResNet(block=ResidualBlock, num_blocks=[12, 11, 10]).to(DEVICE)\n",
        "\n",
        "optimizer = torch.optim.SGD(model.parameters(), lr=0.1, weight_decay=0.001, momentum=0.9)\n",
        "scheduler_lr = torch.optim.lr_scheduler.ReduceLROnPlateau(optimizer, factor=0.1, patience=3, threshold=1e-3, verbose=True)\n",
        "\n",
        "train_losses, valid_losses, valid_accs =   fit(\n",
        "        model,\n",
        "        train_dataloader = train_dataloader,\n",
        "        optimizer = optimizer,\n",
        "        epochs = 70,\n",
        "        device = DEVICE,\n",
        "        val_dataloader = valid_dataloader,\n",
        "        scheduler_lr = scheduler_lr\n",
        "    )\n",
        "torch.save(model.state_dict(), 'resNet_dataAug.pt')\n",
        "plot_train_val_loss(train_losses, valid_losses)"
      ]
    },
    {
      "cell_type": "markdown",
      "metadata": {
        "id": "gEl1DTODPg-V"
      },
      "source": [
        "As we can see from the plot, now the decreasing is not smooth as before, but it is more in steps.\n",
        "\n",
        "By noticing that, I try a different approach: I want to have more frequent changes of the learning rate but with a lower decreasing factor. To achieve that, I change the decrease factor of the scheduler to 0.5 and the patience to 2 epochs instead of 3.\n",
        "\n",
        "The idea is to explore a broader range of learning rates, without having a steep decrease to a rate that may be too low and could lead at a stagnation because of the slower convergence"
      ]
    },
    {
      "cell_type": "code",
      "execution_count": null,
      "metadata": {
        "colab": {
          "base_uri": "https://localhost:8080/",
          "height": 1000
        },
        "id": "VYhftoQf5yLI",
        "outputId": "4bcd48be-29c0-4acc-e27a-f38ab9a96cea"
      },
      "outputs": [
        {
          "name": "stderr",
          "output_type": "stream",
          "text": [
            "/usr/local/lib/python3.10/dist-packages/torch/optim/lr_scheduler.py:62: UserWarning: The verbose parameter is deprecated. Please use get_last_lr() to access the learning rate.\n",
            "  warnings.warn(\n"
          ]
        },
        {
          "name": "stdout",
          "output_type": "stream",
          "text": [
            "Epoch 0: Train Loss=4.6236, Val Loss=4.5618, Val Accuracy=2%\n",
            "Epoch 1: Train Loss=4.2851, Val Loss=4.4207, Val Accuracy=6%\n",
            "Epoch 2: Train Loss=3.9555, Val Loss=3.8161, Val Accuracy=11%\n",
            "Epoch 3: Train Loss=3.6559, Val Loss=3.5636, Val Accuracy=15%\n",
            "Epoch 4: Train Loss=3.3614, Val Loss=3.3741, Val Accuracy=19%\n",
            "Epoch 5: Train Loss=3.1363, Val Loss=3.1634, Val Accuracy=22%\n",
            "Epoch 6: Train Loss=2.9303, Val Loss=2.9191, Val Accuracy=27%\n",
            "Epoch 7: Train Loss=2.7833, Val Loss=3.2228, Val Accuracy=24%\n",
            "Epoch 8: Train Loss=2.6561, Val Loss=3.2927, Val Accuracy=24%\n",
            "Epoch 9: Train Loss=2.5679, Val Loss=2.5988, Val Accuracy=33%\n",
            "Epoch 10: Train Loss=2.4897, Val Loss=3.1472, Val Accuracy=26%\n",
            "Epoch 11: Train Loss=2.4506, Val Loss=2.9333, Val Accuracy=29%\n",
            "Epoch 12: Train Loss=2.4095, Val Loss=2.8213, Val Accuracy=31%\n",
            "Learning rate reduced to 0.050000\n",
            "Epoch 13: Train Loss=2.1126, Val Loss=2.3053, Val Accuracy=40%\n",
            "Epoch 14: Train Loss=2.0617, Val Loss=2.2081, Val Accuracy=43%\n",
            "Epoch 15: Train Loss=2.0551, Val Loss=2.1710, Val Accuracy=43%\n",
            "Epoch 16: Train Loss=2.0216, Val Loss=2.2158, Val Accuracy=42%\n",
            "Epoch 17: Train Loss=2.0237, Val Loss=2.0811, Val Accuracy=44%\n",
            "Epoch 18: Train Loss=1.9993, Val Loss=2.0600, Val Accuracy=45%\n",
            "Epoch 19: Train Loss=1.9773, Val Loss=2.0491, Val Accuracy=45%\n",
            "Epoch 20: Train Loss=1.9567, Val Loss=2.1480, Val Accuracy=43%\n",
            "Epoch 21: Train Loss=1.9478, Val Loss=2.3234, Val Accuracy=40%\n",
            "Epoch 22: Train Loss=1.9319, Val Loss=2.0442, Val Accuracy=45%\n",
            "Epoch 23: Train Loss=1.9170, Val Loss=2.0290, Val Accuracy=46%\n",
            "Epoch 24: Train Loss=1.9080, Val Loss=2.1168, Val Accuracy=44%\n",
            "Epoch 25: Train Loss=1.8929, Val Loss=2.2869, Val Accuracy=42%\n",
            "Epoch 26: Train Loss=1.8887, Val Loss=2.2830, Val Accuracy=41%\n",
            "Learning rate reduced to 0.025000\n",
            "Epoch 27: Train Loss=1.6295, Val Loss=2.0871, Val Accuracy=47%\n",
            "Epoch 28: Train Loss=1.5919, Val Loss=1.7136, Val Accuracy=53%\n",
            "Epoch 29: Train Loss=1.5903, Val Loss=1.8293, Val Accuracy=51%\n",
            "Epoch 30: Train Loss=1.5886, Val Loss=1.8155, Val Accuracy=51%\n",
            "Epoch 31: Train Loss=1.5762, Val Loss=1.6956, Val Accuracy=54%\n",
            "Epoch 32: Train Loss=1.5761, Val Loss=1.7359, Val Accuracy=53%\n",
            "Epoch 33: Train Loss=1.5730, Val Loss=1.9800, Val Accuracy=48%\n",
            "Epoch 34: Train Loss=1.5707, Val Loss=1.7648, Val Accuracy=53%\n",
            "Learning rate reduced to 0.012500\n",
            "Epoch 35: Train Loss=1.3599, Val Loss=1.4662, Val Accuracy=60%\n",
            "Epoch 36: Train Loss=1.3181, Val Loss=1.4557, Val Accuracy=59%\n",
            "Epoch 37: Train Loss=1.3079, Val Loss=1.5740, Val Accuracy=57%\n",
            "Epoch 38: Train Loss=1.3088, Val Loss=1.4707, Val Accuracy=59%\n",
            "Epoch 39: Train Loss=1.3017, Val Loss=1.6158, Val Accuracy=56%\n",
            "Learning rate reduced to 0.006250\n",
            "Epoch 40: Train Loss=1.1446, Val Loss=1.3290, Val Accuracy=63%\n",
            "Epoch 41: Train Loss=1.1089, Val Loss=1.4220, Val Accuracy=61%\n",
            "Epoch 42: Train Loss=1.0972, Val Loss=1.3643, Val Accuracy=62%\n",
            "Epoch 43: Train Loss=1.0970, Val Loss=1.3700, Val Accuracy=62%\n",
            "Learning rate reduced to 0.003125\n",
            "Epoch 44: Train Loss=0.9935, Val Loss=1.2429, Val Accuracy=65%\n",
            "Epoch 45: Train Loss=0.9606, Val Loss=1.2453, Val Accuracy=65%\n",
            "Epoch 46: Train Loss=0.9545, Val Loss=1.2381, Val Accuracy=65%\n",
            "Epoch 47: Train Loss=0.9388, Val Loss=1.2370, Val Accuracy=66%\n",
            "Epoch 48: Train Loss=0.9338, Val Loss=1.2424, Val Accuracy=65%\n",
            "Epoch 49: Train Loss=0.9281, Val Loss=1.2261, Val Accuracy=66%\n",
            "Epoch 50: Train Loss=0.9240, Val Loss=1.2710, Val Accuracy=65%\n",
            "Epoch 51: Train Loss=0.9149, Val Loss=1.3065, Val Accuracy=65%\n",
            "Epoch 52: Train Loss=0.9079, Val Loss=1.2498, Val Accuracy=65%\n",
            "Learning rate reduced to 0.001563\n",
            "Epoch 53: Train Loss=0.8353, Val Loss=1.1925, Val Accuracy=67%\n",
            "Epoch 54: Train Loss=0.8236, Val Loss=1.2012, Val Accuracy=67%\n",
            "Epoch 55: Train Loss=0.8045, Val Loss=1.1924, Val Accuracy=67%\n",
            "Epoch 56: Train Loss=0.8059, Val Loss=1.2194, Val Accuracy=67%\n",
            "Learning rate reduced to 0.000781\n",
            "Epoch 57: Train Loss=0.7608, Val Loss=1.1738, Val Accuracy=67%\n",
            "Epoch 58: Train Loss=0.7522, Val Loss=1.1795, Val Accuracy=68%\n",
            "Epoch 59: Train Loss=0.7377, Val Loss=1.1806, Val Accuracy=67%\n",
            "Epoch 60: Train Loss=0.7378, Val Loss=1.1799, Val Accuracy=67%\n",
            "Learning rate reduced to 0.000391\n",
            "Epoch 61: Train Loss=0.7115, Val Loss=1.1761, Val Accuracy=67%\n",
            "Epoch 62: Train Loss=0.7119, Val Loss=1.1763, Val Accuracy=68%\n",
            "Epoch 63: Train Loss=0.7034, Val Loss=1.1698, Val Accuracy=68%\n",
            "Epoch 64: Train Loss=0.6997, Val Loss=1.1797, Val Accuracy=68%\n",
            "Epoch 65: Train Loss=0.6943, Val Loss=1.1688, Val Accuracy=68%\n",
            "Epoch 66: Train Loss=0.6974, Val Loss=1.1716, Val Accuracy=68%\n",
            "Learning rate reduced to 0.000195\n",
            "Epoch 67: Train Loss=0.6916, Val Loss=1.1697, Val Accuracy=68%\n",
            "Epoch 68: Train Loss=0.6834, Val Loss=1.1677, Val Accuracy=68%\n",
            "Epoch 69: Train Loss=0.6819, Val Loss=1.1674, Val Accuracy=68%\n"
          ]
        },
        {
          "data": {
            "image/png": "[encoded data removed]",
            "text/plain": [
              "<Figure size 640x480 with 1 Axes>"
            ]
          },
          "metadata": {},
          "output_type": "display_data"
        }
      ],
      "source": [
        "model = ResNet(block=ResidualBlock, num_blocks=[12, 11, 10]).to(DEVICE)\n",
        "\n",
        "optimizer = torch.optim.SGD(model.parameters(), lr=0.1, weight_decay=0.001, momentum=0.9, nesterov=True)\n",
        "scheduler_lr = torch.optim.lr_scheduler.ReduceLROnPlateau(optimizer, factor=0.5, patience=2, threshold=1e-3, verbose=True)\n",
        "\n",
        "train_losses, valid_losses, valid_accs =   fit(\n",
        "        model,\n",
        "        train_dataloader = train_dataloader,\n",
        "        optimizer = optimizer,\n",
        "        epochs = 70,\n",
        "        device = DEVICE,\n",
        "        val_dataloader = valid_dataloader,\n",
        "        scheduler_lr = scheduler_lr\n",
        "    )\n",
        "torch.save(model.state_dict(), 'resNet_dataAug_nesterov_0p5SchedulerFactor.pt')\n",
        "plot_train_val_loss(train_losses, valid_losses)"
      ]
    },
    {
      "cell_type": "markdown",
      "metadata": {
        "id": "pGQx6AWmPg-W"
      },
      "source": [
        "The results obtained show that there has been a slight improvement, reaching a validation accuracy of 68%.\n",
        "\n",
        "At this point I take this as the best model and I asses its performance on the test set."
      ]
    },
    {
      "cell_type": "code",
      "execution_count": null,
      "metadata": {
        "colab": {
          "base_uri": "https://localhost:8080/"
        },
        "id": "zX0PjZLy3fKJ",
        "outputId": "3726079e-7757-43ea-8c09-05cecb1cb785"
      },
      "outputs": [
        {
          "name": "stdout",
          "output_type": "stream",
          "text": [
            "The model has 986740 parameters\n",
            "\u001b[1m\u001b[91mAccuracy on the test set: 69.32%\u001b[0m\n"
          ]
        }
      ],
      "source": [
        "loaded_model = ResNet(block=ResidualBlock, num_blocks=[12, 11, 10])\n",
        "loaded_model.load_state_dict(torch.load('resNet_dataAug_nesterov_0p5SchedulerFactor.pt', weights_only=True))\n",
        "evaluate(loaded_model)"
      ]
    },
    {
      "cell_type": "markdown",
      "metadata": {
        "id": "Z3VUznDtmJMJ"
      },
      "source": [
        "Additional: reduce overfitting.\n",
        "\n",
        "As we can notice from all the plots, after a certain number of epochs the training loos decreases more than the validation loss and it reaches a plateau later and at a lower value. It would be nice to make the validation loss follow better the training loss, to make it decrease more.\n",
        "\n",
        "To do that I implement a dropout solution that counteracts overfitting. The soolution chosen howevere is not a classical dropout, but a layer called dropblock.\n",
        "\n",
        "Dropblock has been introduced in CITATION as a form of dropout specific for CNN. The idea is that, instead of using a dropout technique on the last fully connected layer we put the dropblock right after a convolutional layer and a certain block of the image will be discarded from the training according to a certain probability.\n",
        "\n",
        "In my implementation I put the droblock inside the residual block in between the two convolutions and in the complete net after the first convolution."
      ]
    },
    {
      "cell_type": "code",
      "execution_count": null,
      "metadata": {
        "id": "It7yxcfdJoT-"
      },
      "outputs": [],
      "source": [
        "class ResidualBlock_drop(nn.Module):\n",
        "    def __init__(self, in_planes, planes, stride=1):\n",
        "        super().__init__()\n",
        "\n",
        "        self.conv1 = nn.Conv2d(\n",
        "            in_channels=in_planes,\n",
        "            out_channels=planes,\n",
        "            kernel_size=3,\n",
        "            stride=stride,\n",
        "            padding=1,\n",
        "            bias=False\n",
        "        )\n",
        "        self.bn1 = nn.BatchNorm2d(planes)\n",
        "\n",
        "        self.conv2 = nn.Conv2d(\n",
        "            in_channels=planes,\n",
        "            out_channels=planes,\n",
        "            kernel_size=3,\n",
        "            stride=1,\n",
        "            padding=1,\n",
        "            bias=False\n",
        "        )\n",
        "        self.bn2 = nn.BatchNorm2d(planes)\n",
        "\n",
        "        # Dropblock\n",
        "        self.dropblock = torchvision.ops.DropBlock2d(p=0.1, block_size=7)\n",
        "\n",
        "        # Skip connection to match dimensions when necessary\n",
        "        self.skip = nn.Sequential()\n",
        "        if stride > 1 or in_planes != planes:\n",
        "            self.skip = nn.Sequential(\n",
        "                nn.Conv2d(\n",
        "                    in_channels=in_planes,\n",
        "                    out_channels=planes,\n",
        "                    kernel_size=1,\n",
        "                    stride=stride,\n",
        "                    bias=False\n",
        "                ),\n",
        "                nn.BatchNorm2d(planes)\n",
        "            )\n",
        "\n",
        "    def forward(self, x):\n",
        "        out = self.conv1(x)\n",
        "        out = self.bn1(out)\n",
        "        out = F.relu(out)\n",
        "        out = self.dropblock(out)\n",
        "        out = self.conv2(out)\n",
        "        out = self.bn2(out)\n",
        "        out += self.skip(x)\n",
        "        out = F.relu(out)\n",
        "        return out"
      ]
    },
    {
      "cell_type": "code",
      "execution_count": null,
      "metadata": {
        "id": "KSuhE5zePg-X"
      },
      "outputs": [],
      "source": [
        "class ResNet_drop(nn.Module):\n",
        "    def __init__(self, block, num_blocks, num_classes=100):\n",
        "        super().__init__()\n",
        "        self.in_planes = 16  # Initial number of filters\n",
        "\n",
        "        # First layer: 3x3 Convolution\n",
        "        self.conv1 = nn.Conv2d(3, 16, kernel_size=3, stride=1, padding=1, bias=False)\n",
        "        self.bn1 = nn.BatchNorm2d(16)\n",
        "\n",
        "        # Residual layers\n",
        "        self.layer1 = self._make_layer(block, 16, num_blocks[0], stride=1)\n",
        "        self.layer2 = self._make_layer(block, 32, num_blocks[1], stride=2)\n",
        "        self.layer3 = self._make_layer(block, 64, num_blocks[2], stride=2)\n",
        "\n",
        "        # Global Average Pooling and Fully Connected Layer\n",
        "        self.linear = nn.Linear(64, num_classes)\n",
        "\n",
        "        # Dropblock\n",
        "        self.dropblock = torchvision.ops.DropBlock2d(p=0.1, block_size=7)\n",
        "\n",
        "        # Initialize weights\n",
        "        self._initialize_weights()\n",
        "\n",
        "    def _make_layer(self, block, planes, num_blocks, stride):\n",
        "        strides = [stride] + [1] * (num_blocks - 1)\n",
        "        layers = []\n",
        "        for stride in strides:\n",
        "            layers.append(block(self.in_planes, planes, stride))\n",
        "            self.in_planes = planes\n",
        "        return nn.Sequential(*layers)\n",
        "\n",
        "    def _initialize_weights(self):\n",
        "        for m in self.modules():\n",
        "            if isinstance(m, nn.Conv2d):\n",
        "                torch.nn.init.kaiming_normal_(m.weight, mode='fan_out', nonlinearity='relu')\n",
        "            elif isinstance(m, nn.BatchNorm2d):\n",
        "                torch.nn.init.constant_(m.weight, 1)\n",
        "                torch.nn.init.constant_(m.bias, 0)\n",
        "            elif isinstance(m, nn.Linear):\n",
        "                torch.nn.init.kaiming_normal_(m.weight, mode='fan_out', nonlinearity='relu')\n",
        "                torch.nn.init.constant_(m.bias, 0)\n",
        "\n",
        "    def forward(self, x):\n",
        "        out = F.relu(self.bn1(self.conv1(x)))\n",
        "        out = self.dropblock(out)\n",
        "        out = self.layer1(out)\n",
        "        out = self.layer2(out)\n",
        "        out = self.layer3(out)\n",
        "        if out.size(2) > 1 and out.size(3) > 1:\n",
        "          out = F.avg_pool2d(out, out.size(3))  # Global Average Pooling only if size is >1\n",
        "        else:\n",
        "          out = F.adaptive_avg_pool2d(out, (1, 1))  # fallback to adaptive avg pooling if size is too small\n",
        "\n",
        "        out = out.view(out.size(0), -1)\n",
        "        out = self.linear(out)\n",
        "        return out\n",
        "\n",
        "print(\"Model parameters: \", sum(p.numel() for p in ResNet(block=ResidualBlock, num_blocks=[12,11,10]).parameters()))\n",
        "\n"
      ]
    },
    {
      "cell_type": "code",
      "execution_count": null,
      "metadata": {
        "colab": {
          "base_uri": "https://localhost:8080/",
          "height": 1000
        },
        "id": "vRFlGWHamww6",
        "outputId": "9903cb38-9202-4d22-ea18-32eae465ac0a"
      },
      "outputs": [
        {
          "name": "stderr",
          "output_type": "stream",
          "text": [
            "/usr/local/lib/python3.10/dist-packages/torch/optim/lr_scheduler.py:62: UserWarning: The verbose parameter is deprecated. Please use get_last_lr() to access the learning rate.\n",
            "  warnings.warn(\n"
          ]
        },
        {
          "name": "stdout",
          "output_type": "stream",
          "text": [
            "Epoch 0: Train Loss=4.4449, Val Loss=4.1515, Val Accuracy=5%\n",
            "Epoch 1: Train Loss=4.0936, Val Loss=3.9872, Val Accuracy=8%\n",
            "Epoch 2: Train Loss=3.8698, Val Loss=3.6292, Val Accuracy=13%\n",
            "Epoch 3: Train Loss=3.6380, Val Loss=3.4890, Val Accuracy=17%\n",
            "Epoch 4: Train Loss=3.4454, Val Loss=3.1892, Val Accuracy=22%\n",
            "Epoch 5: Train Loss=3.2733, Val Loss=3.3409, Val Accuracy=21%\n",
            "Epoch 6: Train Loss=3.1134, Val Loss=3.6036, Val Accuracy=20%\n",
            "Epoch 7: Train Loss=2.9863, Val Loss=3.0851, Val Accuracy=24%\n",
            "Epoch 8: Train Loss=2.8732, Val Loss=2.7636, Val Accuracy=31%\n",
            "Epoch 9: Train Loss=2.7709, Val Loss=2.6222, Val Accuracy=31%\n",
            "Epoch 10: Train Loss=2.6987, Val Loss=2.6265, Val Accuracy=33%\n",
            "Epoch 11: Train Loss=2.6312, Val Loss=2.6454, Val Accuracy=33%\n",
            "Epoch 12: Train Loss=2.5826, Val Loss=2.6180, Val Accuracy=33%\n",
            "Epoch 13: Train Loss=2.5433, Val Loss=2.8578, Val Accuracy=30%\n",
            "Epoch 14: Train Loss=2.5093, Val Loss=2.5171, Val Accuracy=36%\n",
            "Epoch 15: Train Loss=2.4840, Val Loss=2.4904, Val Accuracy=37%\n",
            "Epoch 16: Train Loss=2.4701, Val Loss=2.5406, Val Accuracy=35%\n",
            "Epoch 17: Train Loss=2.4478, Val Loss=2.5869, Val Accuracy=35%\n",
            "Epoch 18: Train Loss=2.4305, Val Loss=2.5190, Val Accuracy=36%\n",
            "Learning rate reduced to 0.050000\n",
            "Epoch 19: Train Loss=2.1761, Val Loss=2.0707, Val Accuracy=45%\n",
            "Epoch 20: Train Loss=2.1438, Val Loss=2.1509, Val Accuracy=43%\n",
            "Epoch 21: Train Loss=2.1447, Val Loss=2.2178, Val Accuracy=42%\n",
            "Epoch 22: Train Loss=2.1400, Val Loss=2.0868, Val Accuracy=44%\n",
            "Learning rate reduced to 0.025000\n",
            "Epoch 23: Train Loss=1.9184, Val Loss=1.7660, Val Accuracy=51%\n",
            "Epoch 24: Train Loss=1.8956, Val Loss=1.7243, Val Accuracy=52%\n",
            "Epoch 25: Train Loss=1.8834, Val Loss=1.8175, Val Accuracy=51%\n",
            "Epoch 26: Train Loss=1.8811, Val Loss=1.7910, Val Accuracy=50%\n",
            "Epoch 27: Train Loss=1.8809, Val Loss=1.8162, Val Accuracy=50%\n",
            "Learning rate reduced to 0.012500\n",
            "Epoch 28: Train Loss=1.7127, Val Loss=1.5053, Val Accuracy=58%\n",
            "Epoch 29: Train Loss=1.6688, Val Loss=1.5363, Val Accuracy=56%\n",
            "Epoch 30: Train Loss=1.6619, Val Loss=1.5607, Val Accuracy=57%\n",
            "Epoch 31: Train Loss=1.6492, Val Loss=1.6391, Val Accuracy=55%\n",
            "Learning rate reduced to 0.006250\n",
            "Epoch 32: Train Loss=1.5430, Val Loss=1.3914, Val Accuracy=60%\n",
            "Epoch 33: Train Loss=1.5143, Val Loss=1.3916, Val Accuracy=60%\n",
            "Epoch 34: Train Loss=1.4992, Val Loss=1.3879, Val Accuracy=60%\n",
            "Epoch 35: Train Loss=1.4894, Val Loss=1.4210, Val Accuracy=60%\n",
            "Epoch 36: Train Loss=1.4839, Val Loss=1.4036, Val Accuracy=60%\n",
            "Epoch 37: Train Loss=1.4695, Val Loss=1.3992, Val Accuracy=60%\n",
            "Learning rate reduced to 0.003125\n",
            "Epoch 38: Train Loss=1.3914, Val Loss=1.3178, Val Accuracy=62%\n",
            "Epoch 39: Train Loss=1.3563, Val Loss=1.3053, Val Accuracy=62%\n",
            "Epoch 40: Train Loss=1.3600, Val Loss=1.3229, Val Accuracy=62%\n",
            "Epoch 41: Train Loss=1.3482, Val Loss=1.3187, Val Accuracy=62%\n",
            "Epoch 42: Train Loss=1.3398, Val Loss=1.3060, Val Accuracy=63%\n",
            "Learning rate reduced to 0.001563\n",
            "Epoch 43: Train Loss=1.2909, Val Loss=1.2541, Val Accuracy=64%\n",
            "Epoch 44: Train Loss=1.2732, Val Loss=1.2461, Val Accuracy=64%\n",
            "Epoch 45: Train Loss=1.2711, Val Loss=1.2507, Val Accuracy=64%\n",
            "Epoch 46: Train Loss=1.2593, Val Loss=1.2407, Val Accuracy=64%\n",
            "Epoch 47: Train Loss=1.2553, Val Loss=1.2431, Val Accuracy=64%\n",
            "Epoch 48: Train Loss=1.2544, Val Loss=1.2452, Val Accuracy=64%\n",
            "Epoch 49: Train Loss=1.2476, Val Loss=1.2494, Val Accuracy=64%\n",
            "Learning rate reduced to 0.000781\n",
            "Epoch 50: Train Loss=1.2226, Val Loss=1.2078, Val Accuracy=65%\n",
            "Epoch 51: Train Loss=1.2056, Val Loss=1.2052, Val Accuracy=65%\n",
            "Epoch 52: Train Loss=1.2063, Val Loss=1.2175, Val Accuracy=65%\n",
            "Epoch 53: Train Loss=1.2004, Val Loss=1.2121, Val Accuracy=65%\n",
            "Epoch 54: Train Loss=1.1991, Val Loss=1.2027, Val Accuracy=65%\n",
            "Epoch 55: Train Loss=1.1921, Val Loss=1.2128, Val Accuracy=65%\n",
            "Epoch 56: Train Loss=1.1857, Val Loss=1.2025, Val Accuracy=65%\n",
            "Epoch 57: Train Loss=1.1832, Val Loss=1.2051, Val Accuracy=65%\n",
            "Learning rate reduced to 0.000391\n",
            "Epoch 58: Train Loss=1.1688, Val Loss=1.1957, Val Accuracy=66%\n",
            "Epoch 59: Train Loss=1.1650, Val Loss=1.1837, Val Accuracy=66%\n",
            "Epoch 60: Train Loss=1.1493, Val Loss=1.1890, Val Accuracy=66%\n",
            "Epoch 61: Train Loss=1.1584, Val Loss=1.1968, Val Accuracy=66%\n",
            "Epoch 62: Train Loss=1.1541, Val Loss=1.1889, Val Accuracy=66%\n",
            "Learning rate reduced to 0.000195\n",
            "Epoch 63: Train Loss=1.1526, Val Loss=1.1842, Val Accuracy=66%\n",
            "Epoch 64: Train Loss=1.1437, Val Loss=1.1846, Val Accuracy=66%\n",
            "Epoch 65: Train Loss=1.1438, Val Loss=1.1901, Val Accuracy=66%\n",
            "Learning rate reduced to 0.000098\n",
            "Epoch 66: Train Loss=1.1379, Val Loss=1.1852, Val Accuracy=66%\n",
            "Epoch 67: Train Loss=1.1348, Val Loss=1.1807, Val Accuracy=66%\n",
            "Epoch 68: Train Loss=1.1340, Val Loss=1.1822, Val Accuracy=66%\n",
            "Epoch 69: Train Loss=1.1289, Val Loss=1.1848, Val Accuracy=66%\n",
            "Epoch 70: Train Loss=1.1327, Val Loss=1.1826, Val Accuracy=66%\n",
            "Learning rate reduced to 0.000049\n",
            "Epoch 71: Train Loss=1.1351, Val Loss=1.1820, Val Accuracy=66%\n",
            "Epoch 72: Train Loss=1.1216, Val Loss=1.1791, Val Accuracy=66%\n",
            "Epoch 73: Train Loss=1.1269, Val Loss=1.1796, Val Accuracy=66%\n",
            "Epoch 74: Train Loss=1.1317, Val Loss=1.1820, Val Accuracy=66%\n",
            "Epoch 75: Train Loss=1.1309, Val Loss=1.1791, Val Accuracy=66%\n",
            "Learning rate reduced to 0.000024\n",
            "Epoch 76: Train Loss=1.1279, Val Loss=1.1781, Val Accuracy=66%\n",
            "Epoch 77: Train Loss=1.1318, Val Loss=1.1856, Val Accuracy=66%\n",
            "Epoch 78: Train Loss=1.1221, Val Loss=1.1786, Val Accuracy=66%\n",
            "Learning rate reduced to 0.000012\n",
            "Epoch 79: Train Loss=1.1219, Val Loss=1.1787, Val Accuracy=66%\n"
          ]
        },
        {
          "data": {
            "image/png": "[encoded data removed]",
            "text/plain": [
              "<Figure size 640x480 with 1 Axes>"
            ]
          },
          "metadata": {},
          "output_type": "display_data"
        }
      ],
      "source": [
        "model = ResNet_drop(block=ResidualBlock_drop, num_blocks=[12, 11, 10]).to(DEVICE)\n",
        "\n",
        "optimizer = torch.optim.SGD(model.parameters(), lr=0.1, weight_decay=0.001, momentum=0.9, nesterov=True)\n",
        "scheduler_lr = torch.optim.lr_scheduler.ReduceLROnPlateau(optimizer, factor=0.5, patience=2, threshold=1e-3, verbose=True)\n",
        "\n",
        "train_losses, valid_losses, valid_accs =   fit(\n",
        "        model,\n",
        "        train_dataloader = train_dataloader,\n",
        "        optimizer = optimizer,\n",
        "        epochs = 80,\n",
        "        device = DEVICE,\n",
        "        val_dataloader = valid_dataloader,\n",
        "        scheduler_lr = scheduler_lr\n",
        "    )\n",
        "torch.save(model.state_dict(), 'resNet_dropBlock.pt')\n",
        "plot_train_val_loss(train_losses, valid_losses)"
      ]
    },
    {
      "cell_type": "markdown",
      "metadata": {
        "id": "Ipvd2lm8Pg-X"
      },
      "source": [
        "Results show actually a reduction of overfitting ad the training and validation losses are close to each other for the whole training. The accuracy howevere is slightly less (2% less than before), probably due to the bias introduced. Indeed, the training loss in this case is higher than without the dropblock.\n",
        "\n",
        "Despite that, it is interesting to see how the dropblock is effective and potentially, with a longer training time, it could lead to better results.\n",
        "\n"
      ]
    },
    {
      "cell_type": "code",
      "execution_count": null,
      "metadata": {
        "colab": {
          "base_uri": "https://localhost:8080/"
        },
        "id": "CJ-44EkLLq9n",
        "outputId": "3d4a6d9b-1ea1-47d2-87c9-49f78f71a0fd"
      },
      "outputs": [
        {
          "name": "stdout",
          "output_type": "stream",
          "text": [
            "The model has 986740 parameters\n",
            "\u001b[1m\u001b[91mAccuracy on the test set: 66.37%\u001b[0m\n"
          ]
        }
      ],
      "source": [
        "evaluate(model)"
      ]
    }
  ],
  "metadata": {
    "accelerator": "GPU",
    "colab": {
      "gpuType": "T4",
      "provenance": []
    },
    "kernelspec": {
      "display_name": "Python 3",
      "name": "python3"
    },
    "language_info": {
      "codemirror_mode": {
        "name": "ipython",
        "version": 3
      },
      "file_extension": ".py",
      "mimetype": "text/x-python",
      "name": "python",
      "nbconvert_exporter": "python",
      "pygments_lexer": "ipython3",
      "version": "3.12.1"
    }
  },
  "nbformat": 4,
  "nbformat_minor": 0
}