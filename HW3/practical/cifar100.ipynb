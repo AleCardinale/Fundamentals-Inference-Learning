{
  "cells": [
    {
      "cell_type": "markdown",
      "metadata": {
        "id": "_JjB0dTd54WG"
      },
      "source": [
        "# Homework 3: optimization of a CNN model\n",
        "The task of this homework is to optimize a CNN model for the CIFAR-100. You are free to define the architecture of the model, and the training procedure. The only contraints are:\n",
        "- It must be a `torch.nn.Module` object\n",
        "- The number of trained parameters must be less than 1 million\n",
        "- The test dataset must not be used for any step of training. It is better if don't even import it.\n",
        "- The final training notebook should run on Google Colab within a maximum 1 hour approximately.\n",
        "\n",
        "For the grading, you must use the `evaluate` function defined below. It takes a model as input, and returns the test accuracy as output.\n",
        "\n",
        "As a guideline, you are expected to **discuss** and motivate your choices regarding:\n",
        "- Model architecture\n",
        "- Hyperparameters (learning rate, batch size, etc)\n",
        "- Regularization methods\n",
        "- Optimizer\n",
        "- Validation scheme\n",
        "\n",
        "A code without any explanation of the choices will not be accepted. Test accuracy is not the only measure of success for this homework.\n",
        "\n",
        "Remember that most of the train process is randomized, store your model's weights after training and load it before the evaluation!"
      ]
    },
    {
      "cell_type": "markdown",
      "metadata": {
        "id": "GfNvNIxz54WI"
      },
      "source": [
        "## Example"
      ]
    },
    {
      "cell_type": "markdown",
      "metadata": {
        "id": "bp5Mgthn54WJ"
      },
      "source": [
        "### Loading packages and libraries"
      ]
    },
    {
      "cell_type": "code",
      "execution_count": 1,
      "metadata": {
        "colab": {
          "base_uri": "https://localhost:8080/"
        },
        "id": "uWHU_pQG54WJ",
        "outputId": "f0b1cf4c-f9a0-439d-c9cf-5ccd741e7879"
      },
      "outputs": [
        {
          "output_type": "stream",
          "name": "stdout",
          "text": [
            "Downloading https://www.cs.toronto.edu/~kriz/cifar-100-python.tar.gz to ./data/cifar-100-python.tar.gz\n"
          ]
        },
        {
          "output_type": "stream",
          "name": "stderr",
          "text": [
            "100%|██████████| 169M/169M [00:02<00:00, 57.5MB/s]\n"
          ]
        },
        {
          "output_type": "stream",
          "name": "stdout",
          "text": [
            "Extracting ./data/cifar-100-python.tar.gz to ./data\n",
            "Using device: cuda\n",
            "Files already downloaded and verified\n"
          ]
        }
      ],
      "source": [
        "import torch\n",
        "import torchvision\n",
        "from evaluate import evaluate\n",
        "\n",
        "# Import the best device available\n",
        "device = torch.device('cuda' if torch.cuda.is_available() else 'mps' if torch.mps.is_available() else 'cpu')\n",
        "print('Using device:', device)\n",
        "\n",
        "# load the data\n",
        "train_dataset = torchvision.datasets.CIFAR100(root='./data', train=True, download=True, transform=torchvision.transforms.ToTensor())"
      ]
    },
    {
      "cell_type": "markdown",
      "metadata": {
        "id": "uXBRG6qX54WL"
      },
      "source": [
        "### Example of a simple CNN model"
      ]
    },
    {
      "cell_type": "code",
      "execution_count": null,
      "metadata": {
        "colab": {
          "base_uri": "https://localhost:8080/"
        },
        "id": "u_zvq0_l54WL",
        "outputId": "01e79b5e-a6e3-4810-b2e2-37878ea3322d"
      },
      "outputs": [
        {
          "name": "stdout",
          "output_type": "stream",
          "text": [
            "Model parameters:  556708\n"
          ]
        }
      ],
      "source": [
        "class TinyNet(torch.nn.Module):\n",
        "    def __init__(self):\n",
        "        super(TinyNet, self).__init__()\n",
        "        self.conv1 = torch.nn.Conv2d(3, 32, kernel_size=3, stride=1, padding=1)\n",
        "        self.conv2 = torch.nn.Conv2d(32, 64, kernel_size=3, stride=1, padding=1)\n",
        "        self.fc1 = torch.nn.Linear(8*8*64, 128)\n",
        "        self.fc2 = torch.nn.Linear(128, 100)\n",
        "\n",
        "    def forward(self, x):\n",
        "        x = torch.nn.functional.relu(self.conv1(x))\n",
        "        x = torch.nn.functional.max_pool2d(x, 2)\n",
        "        x = torch.nn.functional.relu(self.conv2(x))\n",
        "        x = torch.nn.functional.max_pool2d(x, 2)\n",
        "        x = x.view(-1, 8*8*64)\n",
        "        x = torch.nn.functional.relu(self.fc1(x))\n",
        "        x = self.fc2(x)\n",
        "        return x\n",
        "\n",
        "print(\"Model parameters: \", sum(p.numel() for p in TinyNet().parameters()))"
      ]
    },
    {
      "cell_type": "markdown",
      "metadata": {
        "id": "72vikBOB54WL"
      },
      "source": [
        "### Example of basic training"
      ]
    },
    {
      "cell_type": "code",
      "execution_count": null,
      "metadata": {
        "colab": {
          "base_uri": "https://localhost:8080/"
        },
        "id": "owDg_SS654WL",
        "outputId": "526c5bcc-8c25-4aff-ddcf-ec46d7d08f74"
      },
      "outputs": [
        {
          "name": "stdout",
          "output_type": "stream",
          "text": [
            "Epoch [1/10], Loss: 4.5927\n",
            "Epoch [2/10], Loss: 4.5898\n",
            "Epoch [3/10], Loss: 4.5984\n",
            "Epoch [4/10], Loss: 4.5864\n",
            "Epoch [5/10], Loss: 4.5467\n",
            "Epoch [6/10], Loss: 4.5617\n",
            "Epoch [7/10], Loss: 4.4748\n",
            "Epoch [8/10], Loss: 4.2494\n",
            "Epoch [9/10], Loss: 4.2803\n",
            "Epoch [10/10], Loss: 3.9809\n"
          ]
        }
      ],
      "source": [
        "\n",
        "model = TinyNet()\n",
        "model.to(device)\n",
        "criterion = torch.nn.CrossEntropyLoss()\n",
        "optimizer = torch.optim.SGD(model.parameters())\n",
        "\n",
        "train_loader = torch.utils.data.DataLoader(train_dataset, batch_size=32, shuffle=True)\n",
        "for epoch in range(10):\n",
        "    for i, (images, labels) in enumerate(train_loader):\n",
        "        images, labels = images.to(device), labels.to(device)\n",
        "        optimizer.zero_grad()\n",
        "        outputs = model(images)\n",
        "        loss = criterion(outputs, labels)\n",
        "        loss.backward()\n",
        "        optimizer.step()\n",
        "\n",
        "    print('Epoch [{}/{}], Loss: {:.4f}'.format(epoch+1, 10, loss.item()))\n"
      ]
    },
    {
      "cell_type": "code",
      "execution_count": null,
      "metadata": {
        "colab": {
          "base_uri": "https://localhost:8080/"
        },
        "id": "kE9zuete54WM",
        "outputId": "340bf0cc-749f-43ae-e2c4-b1b29ec65e15"
      },
      "outputs": [
        {
          "name": "stdout",
          "output_type": "stream",
          "text": [
            "The model has 556708 parameters\n",
            "\u001b[1m\u001b[91mAccuracy on the test set: 6.36%\u001b[0m\n"
          ]
        }
      ],
      "source": [
        "# save the model on a file\n",
        "torch.save(model.state_dict(), 'tiny_net.pt')\n",
        "\n",
        "loaded_model = TinyNet()\n",
        "loaded_model.load_state_dict(torch.load('tiny_net.pt', weights_only=True))\n",
        "evaluate(loaded_model)"
      ]
    },
    {
      "cell_type": "markdown",
      "metadata": {
        "id": "OH6RSfuA54WM"
      },
      "source": [
        "- Res net\n",
        "- bottleneck building block for deeper nets with fast training\n",
        "- idenitity shortcut\n",
        "- scheduler for learning rate. study if a plateau is present and in case reduce the lr at plateau\n",
        "- weight initialization using kaming he initialization (works better than xavier)\n",
        "- regularization using weight decay: no dropout becauase when using BN it can be avoided\n",
        "- optimizer: sdg or adam"
      ]
    },
    {
      "cell_type": "markdown",
      "metadata": {
        "id": "ICDeUCbnFXWW"
      },
      "source": []
    },
    {
      "cell_type": "code",
      "execution_count": 2,
      "metadata": {
        "id": "ygyDOpRMFocS"
      },
      "outputs": [],
      "source": [
        "from typing import Optional\n",
        "from torch import nn\n",
        "from torch.utils.data import DataLoader\n",
        "import torchvision.transforms as transforms\n",
        "import torch.nn.functional as F\n",
        "from training_utils import *\n",
        "import numpy as np"
      ]
    },
    {
      "cell_type": "code",
      "execution_count": 3,
      "metadata": {
        "colab": {
          "base_uri": "https://localhost:8080/"
        },
        "id": "F7gT3AxaHPTf",
        "outputId": "3e2d7842-d843-4ce7-e787-76247688bc5d"
      },
      "outputs": [
        {
          "output_type": "stream",
          "name": "stdout",
          "text": [
            "cuda\n"
          ]
        }
      ],
      "source": [
        "DEVICE = None\n",
        "if torch.cuda.is_available():\n",
        "    # Requires NVIDIA GPU with CUDA installed\n",
        "    DEVICE = torch.device(\"cuda\")\n",
        "elif torch.mps.is_available():\n",
        "    # Requires Apple computer with M1 or later chip\n",
        "    DEVICE = torch.device(\"mps\")\n",
        "else:\n",
        "    # Not recommended, because it's slow. Move to Google Colab!\n",
        "    DEVICE = torch.device(\"cpu\")\n",
        "\n",
        "print(DEVICE)"
      ]
    },
    {
      "cell_type": "code",
      "execution_count": null,
      "metadata": {
        "colab": {
          "base_uri": "https://localhost:8080/"
        },
        "id": "LyManlvVSKkR",
        "outputId": "db76251c-3ab1-445a-c9de-8e1fafa51f22"
      },
      "outputs": [
        {
          "name": "stdout",
          "output_type": "stream",
          "text": [
            "Files already downloaded and verified\n"
          ]
        }
      ],
      "source": [
        "transform = torchvision.transforms.ToTensor()\n",
        "\n",
        "BATCH_SIZE = 128\n",
        "\n",
        "# load the train dataset\n",
        "train_dataset = torchvision.datasets.CIFAR100(\n",
        "    root='./data/',\n",
        "    train=True,\n",
        "    download=True,\n",
        "    transform=transform)\n",
        "\n",
        "# Split the dataset into 40k-10k samples for training-validation.\n",
        "from torch.utils.data import random_split\n",
        "train_dataset,  valid_dataset = random_split(\n",
        "    train_dataset,\n",
        "    lengths=[40000, 10000],\n",
        "    generator=torch.Generator().manual_seed(42)\n",
        ")\n",
        "\n",
        "train_dataloader = DataLoader(\n",
        "    dataset=train_dataset,\n",
        "    batch_size=BATCH_SIZE,\n",
        "    shuffle=True,\n",
        "    num_workers=2)\n",
        "\n",
        "valid_dataloader = DataLoader(\n",
        "    dataset=valid_dataset,\n",
        "    batch_size=BATCH_SIZE,\n",
        "    shuffle=False,\n",
        "    num_workers=2)"
      ]
    },
    {
      "cell_type": "markdown",
      "metadata": {
        "id": "Sso9U7UtFlAy"
      },
      "source": [
        "I define a fit function as the one used in the tp"
      ]
    },
    {
      "cell_type": "code",
      "execution_count": null,
      "metadata": {
        "id": "yC91-AavFV9g"
      },
      "outputs": [],
      "source": [
        "def fit(\n",
        "    model: nn.Module,\n",
        "    train_dataloader: DataLoader,\n",
        "    optimizer: torch.optim.Optimizer,\n",
        "    epochs: int,\n",
        "    device: torch.device,\n",
        "    scheduler_lr: Optional[torch.optim.lr_scheduler._LRScheduler] = None,\n",
        "    val_dataloader: Optional[DataLoader] = None\n",
        "):\n",
        "    \"\"\"\n",
        "    the fit method simply calls the train_epoch() method for a\n",
        "    specified number of epochs.\n",
        "    \"\"\"\n",
        "\n",
        "    # keep track of the losses in order to visualize them later\n",
        "    train_losses = []\n",
        "    val_losses = []\n",
        "    val_accuracies = []\n",
        "\n",
        "    for epoch in range(epochs):\n",
        "        # Train\n",
        "        train_loss = train_epoch(\n",
        "            model=model,\n",
        "            train_dataloader=train_dataloader,\n",
        "            optimizer=optimizer,\n",
        "            device=device,\n",
        "        )\n",
        "        train_losses.append(train_loss)\n",
        "        # Validate\n",
        "        if val_dataloader is not None:\n",
        "            val_loss, val_accuracy = predict(\n",
        "                model=model, test_dataloader=val_dataloader, device=device, verbose=False\n",
        "            )\n",
        "            val_losses.append(val_loss)\n",
        "            val_accuracies.append(val_accuracy)\n",
        "            print(\n",
        "                f\"Epoch {epoch}: Train Loss={train_loss:.4f}, Val Loss={val_loss:.4f}, Val Accuracy={val_accuracy:.0f}%\"\n",
        "            )\n",
        "        else:\n",
        "            print(f\"Epoch {epoch}: Train Loss={train_loss:.4f}\")\n",
        "        # LR scheduler\n",
        "        if scheduler_lr is not None:\n",
        "            scheduler_lr.step()\n",
        "\n",
        "    return train_losses, val_losses, val_accuracies"
      ]
    },
    {
      "cell_type": "markdown",
      "metadata": {
        "id": "0JksOCq_GkI4"
      },
      "source": [
        "The architecture I choose is a ResNet. ResNets as we have seen in class are very good network to perform image classification tasks.\n",
        "The one I choose is a residual block ResNEt with a skip connection.\n",
        " Skip connection is important because it allows to have deep networks, which offer better performance, without the problem of the vanishing gradient."
      ]
    },
    {
      "cell_type": "markdown",
      "metadata": {
        "id": "8kkDLmfeGH-U"
      },
      "source": [
        "I define the residual block of the ResNet.\n",
        "My block is a 3-layer block with a bottleneck. I choose this structure because it allows to hava e deep network but still with manageble training times.\n",
        "Each layer is made up of a convolution, a batch normalization and a ReLu used as activation function, in this order.\n",
        "The three covolutions used are the following:\n",
        "- 1x1 convolution layer to reduce dimensions\n",
        "- 3x3 (bottleneck) convolution layer on the reduced dimension\n",
        "- 1x1 convolution to restore the dimension"
      ]
    },
    {
      "cell_type": "code",
      "execution_count": 4,
      "metadata": {
        "id": "M-4bHASHHiP3"
      },
      "outputs": [],
      "source": [
        "class ResidualBlock(nn.Module):\n",
        "    def __init__(self, in_planes, planes, stride=1):\n",
        "        super().__init__()\n",
        "\n",
        "        self.conv1 = nn.Conv2d(\n",
        "            in_channels=in_planes,\n",
        "            out_channels=planes,\n",
        "            kernel_size=3,\n",
        "            stride=stride,\n",
        "            padding=1,\n",
        "            bias=False\n",
        "        )\n",
        "        self.bn1 = nn.BatchNorm2d(planes)\n",
        "\n",
        "        self.conv2 = nn.Conv2d(\n",
        "            in_channels=planes,\n",
        "            out_channels=planes,\n",
        "            kernel_size=3,\n",
        "            stride=1,\n",
        "            padding=1,\n",
        "            bias=False\n",
        "        )\n",
        "        self.bn2 = nn.BatchNorm2d(planes)\n",
        "\n",
        "        # Skip connection to match dimensions when necessary\n",
        "        self.skip = nn.Sequential()\n",
        "        if stride > 1 or in_planes != planes:\n",
        "            self.skip = nn.Sequential(\n",
        "                nn.Conv2d(\n",
        "                    in_channels=in_planes,\n",
        "                    out_channels=planes,\n",
        "                    kernel_size=1,\n",
        "                    stride=stride,\n",
        "                    bias=False\n",
        "                ),\n",
        "                nn.BatchNorm2d(planes)\n",
        "            )\n",
        "\n",
        "    def forward(self, x):\n",
        "        out = self.conv1(x)\n",
        "        out = self.bn1(out)\n",
        "        out = F.relu(out)\n",
        "\n",
        "        out = self.conv2(out)\n",
        "        out = self.bn2(out)\n",
        "        out += self.skip(x)\n",
        "        out = F.relu(out)\n",
        "        return out"
      ]
    },
    {
      "cell_type": "markdown",
      "metadata": {
        "id": "N7c-RqxJMUzc"
      },
      "source": [
        "Now I write the network."
      ]
    },
    {
      "cell_type": "code",
      "execution_count": 5,
      "metadata": {
        "colab": {
          "base_uri": "https://localhost:8080/"
        },
        "id": "FqM6MWkfMaOm",
        "outputId": "3060b491-eb2b-4400-95fc-1f04fa494bc0"
      },
      "outputs": [
        {
          "output_type": "stream",
          "name": "stdout",
          "text": [
            "Model parameters:  986740\n"
          ]
        }
      ],
      "source": [
        "class ResNet(nn.Module):\n",
        "    def __init__(self, block, num_blocks, num_classes=100):\n",
        "        super().__init__()\n",
        "        self.in_planes = 16  # Initial number of filters\n",
        "\n",
        "        # First layer: 3x3 Convolution\n",
        "        self.conv1 = nn.Conv2d(3, 16, kernel_size=3, stride=1, padding=1, bias=False)\n",
        "        self.bn1 = nn.BatchNorm2d(16)\n",
        "\n",
        "        # Residual layers\n",
        "        self.layer1 = self._make_layer(block, 16, num_blocks[0], stride=1)\n",
        "        self.layer2 = self._make_layer(block, 32, num_blocks[1], stride=2)\n",
        "        self.layer3 = self._make_layer(block, 64, num_blocks[2], stride=2)\n",
        "\n",
        "        # Global Average Pooling and Fully Connected Layer\n",
        "        self.linear = nn.Linear(self.in_planes, num_classes)\n",
        "\n",
        "        # Initialize weights\n",
        "        self._initialize_weights()\n",
        "\n",
        "    def _make_layer(self, block, planes, num_blocks, stride):\n",
        "        strides = [stride] + [1] * (num_blocks - 1)\n",
        "        layers = []\n",
        "        for stride in strides:\n",
        "            layers.append(block(self.in_planes, planes, stride))\n",
        "            self.in_planes = planes\n",
        "        return nn.Sequential(*layers)\n",
        "\n",
        "    def _initialize_weights(self):\n",
        "        for m in self.modules():\n",
        "            if isinstance(m, nn.Conv2d):\n",
        "                torch.nn.init.kaiming_normal_(m.weight, mode='fan_out', nonlinearity='relu')\n",
        "            elif isinstance(m, nn.BatchNorm2d):\n",
        "                torch.nn.init.constant_(m.weight, 1)\n",
        "                torch.nn.init.constant_(m.bias, 0)\n",
        "            elif isinstance(m, nn.Linear):\n",
        "                torch.nn.init.kaiming_normal_(m.weight, mode='fan_out', nonlinearity='relu')\n",
        "                torch.nn.init.constant_(m.bias, 0)\n",
        "\n",
        "    def forward(self, x):\n",
        "        out = F.relu(self.bn1(self.conv1(x)))\n",
        "        out = self.layer1(out)\n",
        "        out = self.layer2(out)\n",
        "        out = self.layer3(out)\n",
        "        if out.size(2) > 1 and out.size(3) > 1:\n",
        "          out = F.avg_pool2d(out, out.size(3))  # Global Average Pooling only if size is >1\n",
        "        else:\n",
        "          out = F.adaptive_avg_pool2d(out, (1, 1))  # fallback to adaptive avg pooling if size is too small\n",
        "\n",
        "        out = out.view(out.size(0), -1)\n",
        "        out = self.linear(out)\n",
        "        return out\n",
        "\n",
        "print(\"Model parameters: \", sum(p.numel() for p in ResNet(block=ResidualBlock, num_blocks=[12,11,10]).parameters()))\n",
        "\n"
      ]
    },
    {
      "cell_type": "code",
      "execution_count": null,
      "metadata": {
        "colab": {
          "base_uri": "https://localhost:8080/",
          "height": 1000
        },
        "id": "m0MkwLvkRj02",
        "outputId": "83fd38bb-b7f7-45c9-af94-af1671a9a608"
      },
      "outputs": [
        {
          "name": "stdout",
          "output_type": "stream",
          "text": [
            "env: CUDA_LAUNCH_BLOCKING=1\n",
            "ciao\n",
            "Epoch 0: Train Loss=4.3782, Val Loss=4.3132, Val Accuracy=6%\n",
            "Epoch 1: Train Loss=3.8137, Val Loss=3.6865, Val Accuracy=12%\n",
            "Epoch 2: Train Loss=3.5255, Val Loss=3.4498, Val Accuracy=18%\n",
            "Epoch 3: Train Loss=3.2766, Val Loss=3.3265, Val Accuracy=19%\n",
            "Epoch 4: Train Loss=3.0513, Val Loss=3.2310, Val Accuracy=21%\n",
            "Epoch 5: Train Loss=2.8521, Val Loss=3.0197, Val Accuracy=26%\n",
            "Epoch 6: Train Loss=2.6604, Val Loss=2.8331, Val Accuracy=28%\n",
            "Epoch 7: Train Loss=2.4892, Val Loss=2.8923, Val Accuracy=28%\n",
            "Epoch 8: Train Loss=2.3442, Val Loss=2.7516, Val Accuracy=31%\n",
            "Epoch 9: Train Loss=2.1924, Val Loss=2.7218, Val Accuracy=32%\n",
            "Epoch 10: Train Loss=2.0816, Val Loss=2.5503, Val Accuracy=35%\n",
            "Epoch 11: Train Loss=1.9625, Val Loss=2.6076, Val Accuracy=35%\n",
            "Epoch 12: Train Loss=1.8510, Val Loss=2.5149, Val Accuracy=36%\n",
            "Epoch 13: Train Loss=1.7639, Val Loss=2.4840, Val Accuracy=37%\n",
            "Epoch 14: Train Loss=1.6715, Val Loss=2.5155, Val Accuracy=36%\n",
            "Epoch 15: Train Loss=1.5934, Val Loss=2.4553, Val Accuracy=38%\n",
            "Epoch 16: Train Loss=1.5121, Val Loss=2.4974, Val Accuracy=37%\n",
            "Epoch 17: Train Loss=1.4226, Val Loss=2.7930, Val Accuracy=34%\n",
            "Epoch 18: Train Loss=1.3648, Val Loss=2.8129, Val Accuracy=36%\n",
            "Epoch 19: Train Loss=1.2966, Val Loss=2.5532, Val Accuracy=37%\n",
            "Epoch 20: Train Loss=0.8185, Val Loss=2.1313, Val Accuracy=45%\n",
            "Epoch 21: Train Loss=0.6409, Val Loss=2.1612, Val Accuracy=45%\n",
            "Epoch 22: Train Loss=0.5562, Val Loss=2.2088, Val Accuracy=45%\n",
            "Epoch 23: Train Loss=0.4982, Val Loss=2.2547, Val Accuracy=44%\n",
            "Epoch 24: Train Loss=0.4458, Val Loss=2.3091, Val Accuracy=44%\n",
            "Epoch 25: Train Loss=0.3839, Val Loss=2.3076, Val Accuracy=44%\n",
            "Epoch 26: Train Loss=0.3724, Val Loss=2.3191, Val Accuracy=44%\n",
            "Epoch 27: Train Loss=0.3685, Val Loss=2.3230, Val Accuracy=44%\n",
            "Epoch 28: Train Loss=0.3627, Val Loss=2.3243, Val Accuracy=44%\n",
            "Epoch 29: Train Loss=0.3583, Val Loss=2.3261, Val Accuracy=44%\n",
            "Epoch 30: Train Loss=0.3561, Val Loss=2.3272, Val Accuracy=44%\n",
            "Epoch 31: Train Loss=0.3570, Val Loss=2.3264, Val Accuracy=44%\n",
            "Epoch 32: Train Loss=0.3542, Val Loss=2.3308, Val Accuracy=44%\n",
            "Epoch 33: Train Loss=0.3565, Val Loss=2.3254, Val Accuracy=44%\n",
            "Epoch 34: Train Loss=0.3561, Val Loss=2.3225, Val Accuracy=44%\n",
            "Epoch 35: Train Loss=0.3553, Val Loss=2.3275, Val Accuracy=44%\n",
            "Epoch 36: Train Loss=0.3537, Val Loss=2.3236, Val Accuracy=44%\n",
            "Epoch 37: Train Loss=0.3554, Val Loss=2.3240, Val Accuracy=43%\n",
            "Epoch 38: Train Loss=0.3545, Val Loss=2.3307, Val Accuracy=44%\n"
          ]
        },
        {
          "ename": "KeyboardInterrupt",
          "evalue": "",
          "output_type": "error",
          "traceback": [
            "\u001b[0;31m---------------------------------------------------------------------------\u001b[0m",
            "\u001b[0;31mKeyboardInterrupt\u001b[0m                         Traceback (most recent call last)",
            "\u001b[0;32m<ipython-input-14-1ec95878e82c>\u001b[0m in \u001b[0;36m<cell line: 8>\u001b[0;34m()\u001b[0m\n\u001b[1;32m      6\u001b[0m \u001b[0mscheduler_lr\u001b[0m \u001b[0;34m=\u001b[0m \u001b[0mtorch\u001b[0m\u001b[0;34m.\u001b[0m\u001b[0moptim\u001b[0m\u001b[0;34m.\u001b[0m\u001b[0mlr_scheduler\u001b[0m\u001b[0;34m.\u001b[0m\u001b[0mReduceLROnPlateau\u001b[0m\u001b[0;34m(\u001b[0m\u001b[0moptimizer\u001b[0m\u001b[0;34m,\u001b[0m \u001b[0mfactor\u001b[0m\u001b[0;34m=\u001b[0m\u001b[0;36m0.1\u001b[0m\u001b[0;34m,\u001b[0m \u001b[0mpatience\u001b[0m\u001b[0;34m=\u001b[0m\u001b[0;36m3\u001b[0m\u001b[0;34m)\u001b[0m\u001b[0;34m\u001b[0m\u001b[0;34m\u001b[0m\u001b[0m\n\u001b[1;32m      7\u001b[0m \u001b[0;34m\u001b[0m\u001b[0m\n\u001b[0;32m----> 8\u001b[0;31m train_losses, valid_losses, valid_accs =   fit(\n\u001b[0m\u001b[1;32m      9\u001b[0m         \u001b[0mmodel\u001b[0m\u001b[0;34m,\u001b[0m\u001b[0;34m\u001b[0m\u001b[0;34m\u001b[0m\u001b[0m\n\u001b[1;32m     10\u001b[0m         \u001b[0mtrain_dataloader\u001b[0m \u001b[0;34m=\u001b[0m \u001b[0mtrain_dataloader\u001b[0m\u001b[0;34m,\u001b[0m\u001b[0;34m\u001b[0m\u001b[0;34m\u001b[0m\u001b[0m\n",
            "\u001b[0;32m<ipython-input-5-2ef9c0980cb8>\u001b[0m in \u001b[0;36mfit\u001b[0;34m(model, train_dataloader, optimizer, epochs, device, scheduler_lr, val_dataloader)\u001b[0m\n\u001b[1;32m     20\u001b[0m     \u001b[0;32mfor\u001b[0m \u001b[0mepoch\u001b[0m \u001b[0;32min\u001b[0m \u001b[0mrange\u001b[0m\u001b[0;34m(\u001b[0m\u001b[0mepochs\u001b[0m\u001b[0;34m)\u001b[0m\u001b[0;34m:\u001b[0m\u001b[0;34m\u001b[0m\u001b[0;34m\u001b[0m\u001b[0m\n\u001b[1;32m     21\u001b[0m         \u001b[0;31m# Train\u001b[0m\u001b[0;34m\u001b[0m\u001b[0;34m\u001b[0m\u001b[0m\n\u001b[0;32m---> 22\u001b[0;31m         train_loss = train_epoch(\n\u001b[0m\u001b[1;32m     23\u001b[0m             \u001b[0mmodel\u001b[0m\u001b[0;34m=\u001b[0m\u001b[0mmodel\u001b[0m\u001b[0;34m,\u001b[0m\u001b[0;34m\u001b[0m\u001b[0;34m\u001b[0m\u001b[0m\n\u001b[1;32m     24\u001b[0m             \u001b[0mtrain_dataloader\u001b[0m\u001b[0;34m=\u001b[0m\u001b[0mtrain_dataloader\u001b[0m\u001b[0;34m,\u001b[0m\u001b[0;34m\u001b[0m\u001b[0;34m\u001b[0m\u001b[0m\n",
            "\u001b[0;32m/content/training_utils.py\u001b[0m in \u001b[0;36mtrain_epoch\u001b[0;34m(model, train_dataloader, optimizer, device)\u001b[0m\n\u001b[1;32m     31\u001b[0m \u001b[0;34m\u001b[0m\u001b[0m\n\u001b[1;32m     32\u001b[0m         \u001b[0;31m# do the forward pass\u001b[0m\u001b[0;34m\u001b[0m\u001b[0;34m\u001b[0m\u001b[0m\n\u001b[0;32m---> 33\u001b[0;31m         \u001b[0moutput\u001b[0m \u001b[0;34m=\u001b[0m \u001b[0mmodel\u001b[0m\u001b[0;34m(\u001b[0m\u001b[0mdata\u001b[0m\u001b[0;34m)\u001b[0m\u001b[0;34m\u001b[0m\u001b[0;34m\u001b[0m\u001b[0m\n\u001b[0m\u001b[1;32m     34\u001b[0m \u001b[0;34m\u001b[0m\u001b[0m\n\u001b[1;32m     35\u001b[0m         \u001b[0;31m# compute the loss\u001b[0m\u001b[0;34m\u001b[0m\u001b[0;34m\u001b[0m\u001b[0m\n",
            "\u001b[0;32m/usr/local/lib/python3.10/dist-packages/torch/nn/modules/module.py\u001b[0m in \u001b[0;36m_wrapped_call_impl\u001b[0;34m(self, *args, **kwargs)\u001b[0m\n\u001b[1;32m   1734\u001b[0m             \u001b[0;32mreturn\u001b[0m \u001b[0mself\u001b[0m\u001b[0;34m.\u001b[0m\u001b[0m_compiled_call_impl\u001b[0m\u001b[0;34m(\u001b[0m\u001b[0;34m*\u001b[0m\u001b[0margs\u001b[0m\u001b[0;34m,\u001b[0m \u001b[0;34m**\u001b[0m\u001b[0mkwargs\u001b[0m\u001b[0;34m)\u001b[0m  \u001b[0;31m# type: ignore[misc]\u001b[0m\u001b[0;34m\u001b[0m\u001b[0;34m\u001b[0m\u001b[0m\n\u001b[1;32m   1735\u001b[0m         \u001b[0;32melse\u001b[0m\u001b[0;34m:\u001b[0m\u001b[0;34m\u001b[0m\u001b[0;34m\u001b[0m\u001b[0m\n\u001b[0;32m-> 1736\u001b[0;31m             \u001b[0;32mreturn\u001b[0m \u001b[0mself\u001b[0m\u001b[0;34m.\u001b[0m\u001b[0m_call_impl\u001b[0m\u001b[0;34m(\u001b[0m\u001b[0;34m*\u001b[0m\u001b[0margs\u001b[0m\u001b[0;34m,\u001b[0m \u001b[0;34m**\u001b[0m\u001b[0mkwargs\u001b[0m\u001b[0;34m)\u001b[0m\u001b[0;34m\u001b[0m\u001b[0;34m\u001b[0m\u001b[0m\n\u001b[0m\u001b[1;32m   1737\u001b[0m \u001b[0;34m\u001b[0m\u001b[0m\n\u001b[1;32m   1738\u001b[0m     \u001b[0;31m# torchrec tests the code consistency with the following code\u001b[0m\u001b[0;34m\u001b[0m\u001b[0;34m\u001b[0m\u001b[0m\n",
            "\u001b[0;32m/usr/local/lib/python3.10/dist-packages/torch/nn/modules/module.py\u001b[0m in \u001b[0;36m_call_impl\u001b[0;34m(self, *args, **kwargs)\u001b[0m\n\u001b[1;32m   1745\u001b[0m                 \u001b[0;32mor\u001b[0m \u001b[0m_global_backward_pre_hooks\u001b[0m \u001b[0;32mor\u001b[0m \u001b[0m_global_backward_hooks\u001b[0m\u001b[0;34m\u001b[0m\u001b[0;34m\u001b[0m\u001b[0m\n\u001b[1;32m   1746\u001b[0m                 or _global_forward_hooks or _global_forward_pre_hooks):\n\u001b[0;32m-> 1747\u001b[0;31m             \u001b[0;32mreturn\u001b[0m \u001b[0mforward_call\u001b[0m\u001b[0;34m(\u001b[0m\u001b[0;34m*\u001b[0m\u001b[0margs\u001b[0m\u001b[0;34m,\u001b[0m \u001b[0;34m**\u001b[0m\u001b[0mkwargs\u001b[0m\u001b[0;34m)\u001b[0m\u001b[0;34m\u001b[0m\u001b[0;34m\u001b[0m\u001b[0m\n\u001b[0m\u001b[1;32m   1748\u001b[0m \u001b[0;34m\u001b[0m\u001b[0m\n\u001b[1;32m   1749\u001b[0m         \u001b[0mresult\u001b[0m \u001b[0;34m=\u001b[0m \u001b[0;32mNone\u001b[0m\u001b[0;34m\u001b[0m\u001b[0;34m\u001b[0m\u001b[0m\n",
            "\u001b[0;32m<ipython-input-11-a84329ad7a4c>\u001b[0m in \u001b[0;36mforward\u001b[0;34m(self, x)\u001b[0m\n\u001b[1;32m     40\u001b[0m     \u001b[0;32mdef\u001b[0m \u001b[0mforward\u001b[0m\u001b[0;34m(\u001b[0m\u001b[0mself\u001b[0m\u001b[0;34m,\u001b[0m \u001b[0mx\u001b[0m\u001b[0;34m)\u001b[0m\u001b[0;34m:\u001b[0m\u001b[0;34m\u001b[0m\u001b[0;34m\u001b[0m\u001b[0m\n\u001b[1;32m     41\u001b[0m         \u001b[0mout\u001b[0m \u001b[0;34m=\u001b[0m \u001b[0mF\u001b[0m\u001b[0;34m.\u001b[0m\u001b[0mrelu\u001b[0m\u001b[0;34m(\u001b[0m\u001b[0mself\u001b[0m\u001b[0;34m.\u001b[0m\u001b[0mbn1\u001b[0m\u001b[0;34m(\u001b[0m\u001b[0mself\u001b[0m\u001b[0;34m.\u001b[0m\u001b[0mconv1\u001b[0m\u001b[0;34m(\u001b[0m\u001b[0mx\u001b[0m\u001b[0;34m)\u001b[0m\u001b[0;34m)\u001b[0m\u001b[0;34m)\u001b[0m\u001b[0;34m\u001b[0m\u001b[0;34m\u001b[0m\u001b[0m\n\u001b[0;32m---> 42\u001b[0;31m         \u001b[0mout\u001b[0m \u001b[0;34m=\u001b[0m \u001b[0mself\u001b[0m\u001b[0;34m.\u001b[0m\u001b[0mlayer1\u001b[0m\u001b[0;34m(\u001b[0m\u001b[0mout\u001b[0m\u001b[0;34m)\u001b[0m\u001b[0;34m\u001b[0m\u001b[0;34m\u001b[0m\u001b[0m\n\u001b[0m\u001b[1;32m     43\u001b[0m         \u001b[0mout\u001b[0m \u001b[0;34m=\u001b[0m \u001b[0mself\u001b[0m\u001b[0;34m.\u001b[0m\u001b[0mlayer2\u001b[0m\u001b[0;34m(\u001b[0m\u001b[0mout\u001b[0m\u001b[0;34m)\u001b[0m\u001b[0;34m\u001b[0m\u001b[0;34m\u001b[0m\u001b[0m\n\u001b[1;32m     44\u001b[0m         \u001b[0mout\u001b[0m \u001b[0;34m=\u001b[0m \u001b[0mself\u001b[0m\u001b[0;34m.\u001b[0m\u001b[0mlayer3\u001b[0m\u001b[0;34m(\u001b[0m\u001b[0mout\u001b[0m\u001b[0;34m)\u001b[0m\u001b[0;34m\u001b[0m\u001b[0;34m\u001b[0m\u001b[0m\n",
            "\u001b[0;32m/usr/local/lib/python3.10/dist-packages/torch/nn/modules/module.py\u001b[0m in \u001b[0;36m_wrapped_call_impl\u001b[0;34m(self, *args, **kwargs)\u001b[0m\n\u001b[1;32m   1734\u001b[0m             \u001b[0;32mreturn\u001b[0m \u001b[0mself\u001b[0m\u001b[0;34m.\u001b[0m\u001b[0m_compiled_call_impl\u001b[0m\u001b[0;34m(\u001b[0m\u001b[0;34m*\u001b[0m\u001b[0margs\u001b[0m\u001b[0;34m,\u001b[0m \u001b[0;34m**\u001b[0m\u001b[0mkwargs\u001b[0m\u001b[0;34m)\u001b[0m  \u001b[0;31m# type: ignore[misc]\u001b[0m\u001b[0;34m\u001b[0m\u001b[0;34m\u001b[0m\u001b[0m\n\u001b[1;32m   1735\u001b[0m         \u001b[0;32melse\u001b[0m\u001b[0;34m:\u001b[0m\u001b[0;34m\u001b[0m\u001b[0;34m\u001b[0m\u001b[0m\n\u001b[0;32m-> 1736\u001b[0;31m             \u001b[0;32mreturn\u001b[0m \u001b[0mself\u001b[0m\u001b[0;34m.\u001b[0m\u001b[0m_call_impl\u001b[0m\u001b[0;34m(\u001b[0m\u001b[0;34m*\u001b[0m\u001b[0margs\u001b[0m\u001b[0;34m,\u001b[0m \u001b[0;34m**\u001b[0m\u001b[0mkwargs\u001b[0m\u001b[0;34m)\u001b[0m\u001b[0;34m\u001b[0m\u001b[0;34m\u001b[0m\u001b[0m\n\u001b[0m\u001b[1;32m   1737\u001b[0m \u001b[0;34m\u001b[0m\u001b[0m\n\u001b[1;32m   1738\u001b[0m     \u001b[0;31m# torchrec tests the code consistency with the following code\u001b[0m\u001b[0;34m\u001b[0m\u001b[0;34m\u001b[0m\u001b[0m\n",
            "\u001b[0;32m/usr/local/lib/python3.10/dist-packages/torch/nn/modules/module.py\u001b[0m in \u001b[0;36m_call_impl\u001b[0;34m(self, *args, **kwargs)\u001b[0m\n\u001b[1;32m   1745\u001b[0m                 \u001b[0;32mor\u001b[0m \u001b[0m_global_backward_pre_hooks\u001b[0m \u001b[0;32mor\u001b[0m \u001b[0m_global_backward_hooks\u001b[0m\u001b[0;34m\u001b[0m\u001b[0;34m\u001b[0m\u001b[0m\n\u001b[1;32m   1746\u001b[0m                 or _global_forward_hooks or _global_forward_pre_hooks):\n\u001b[0;32m-> 1747\u001b[0;31m             \u001b[0;32mreturn\u001b[0m \u001b[0mforward_call\u001b[0m\u001b[0;34m(\u001b[0m\u001b[0;34m*\u001b[0m\u001b[0margs\u001b[0m\u001b[0;34m,\u001b[0m \u001b[0;34m**\u001b[0m\u001b[0mkwargs\u001b[0m\u001b[0;34m)\u001b[0m\u001b[0;34m\u001b[0m\u001b[0;34m\u001b[0m\u001b[0m\n\u001b[0m\u001b[1;32m   1748\u001b[0m \u001b[0;34m\u001b[0m\u001b[0m\n\u001b[1;32m   1749\u001b[0m         \u001b[0mresult\u001b[0m \u001b[0;34m=\u001b[0m \u001b[0;32mNone\u001b[0m\u001b[0;34m\u001b[0m\u001b[0;34m\u001b[0m\u001b[0m\n",
            "\u001b[0;32m/usr/local/lib/python3.10/dist-packages/torch/nn/modules/container.py\u001b[0m in \u001b[0;36mforward\u001b[0;34m(self, input)\u001b[0m\n\u001b[1;32m    248\u001b[0m     \u001b[0;32mdef\u001b[0m \u001b[0mforward\u001b[0m\u001b[0;34m(\u001b[0m\u001b[0mself\u001b[0m\u001b[0;34m,\u001b[0m \u001b[0minput\u001b[0m\u001b[0;34m)\u001b[0m\u001b[0;34m:\u001b[0m\u001b[0;34m\u001b[0m\u001b[0;34m\u001b[0m\u001b[0m\n\u001b[1;32m    249\u001b[0m         \u001b[0;32mfor\u001b[0m \u001b[0mmodule\u001b[0m \u001b[0;32min\u001b[0m \u001b[0mself\u001b[0m\u001b[0;34m:\u001b[0m\u001b[0;34m\u001b[0m\u001b[0;34m\u001b[0m\u001b[0m\n\u001b[0;32m--> 250\u001b[0;31m             \u001b[0minput\u001b[0m \u001b[0;34m=\u001b[0m \u001b[0mmodule\u001b[0m\u001b[0;34m(\u001b[0m\u001b[0minput\u001b[0m\u001b[0;34m)\u001b[0m\u001b[0;34m\u001b[0m\u001b[0;34m\u001b[0m\u001b[0m\n\u001b[0m\u001b[1;32m    251\u001b[0m         \u001b[0;32mreturn\u001b[0m \u001b[0minput\u001b[0m\u001b[0;34m\u001b[0m\u001b[0;34m\u001b[0m\u001b[0m\n\u001b[1;32m    252\u001b[0m \u001b[0;34m\u001b[0m\u001b[0m\n",
            "\u001b[0;32m/usr/local/lib/python3.10/dist-packages/torch/nn/modules/module.py\u001b[0m in \u001b[0;36m_wrapped_call_impl\u001b[0;34m(self, *args, **kwargs)\u001b[0m\n\u001b[1;32m   1734\u001b[0m             \u001b[0;32mreturn\u001b[0m \u001b[0mself\u001b[0m\u001b[0;34m.\u001b[0m\u001b[0m_compiled_call_impl\u001b[0m\u001b[0;34m(\u001b[0m\u001b[0;34m*\u001b[0m\u001b[0margs\u001b[0m\u001b[0;34m,\u001b[0m \u001b[0;34m**\u001b[0m\u001b[0mkwargs\u001b[0m\u001b[0;34m)\u001b[0m  \u001b[0;31m# type: ignore[misc]\u001b[0m\u001b[0;34m\u001b[0m\u001b[0;34m\u001b[0m\u001b[0m\n\u001b[1;32m   1735\u001b[0m         \u001b[0;32melse\u001b[0m\u001b[0;34m:\u001b[0m\u001b[0;34m\u001b[0m\u001b[0;34m\u001b[0m\u001b[0m\n\u001b[0;32m-> 1736\u001b[0;31m             \u001b[0;32mreturn\u001b[0m \u001b[0mself\u001b[0m\u001b[0;34m.\u001b[0m\u001b[0m_call_impl\u001b[0m\u001b[0;34m(\u001b[0m\u001b[0;34m*\u001b[0m\u001b[0margs\u001b[0m\u001b[0;34m,\u001b[0m \u001b[0;34m**\u001b[0m\u001b[0mkwargs\u001b[0m\u001b[0;34m)\u001b[0m\u001b[0;34m\u001b[0m\u001b[0;34m\u001b[0m\u001b[0m\n\u001b[0m\u001b[1;32m   1737\u001b[0m \u001b[0;34m\u001b[0m\u001b[0m\n\u001b[1;32m   1738\u001b[0m     \u001b[0;31m# torchrec tests the code consistency with the following code\u001b[0m\u001b[0;34m\u001b[0m\u001b[0;34m\u001b[0m\u001b[0m\n",
            "\u001b[0;32m/usr/local/lib/python3.10/dist-packages/torch/nn/modules/module.py\u001b[0m in \u001b[0;36m_call_impl\u001b[0;34m(self, *args, **kwargs)\u001b[0m\n\u001b[1;32m   1745\u001b[0m                 \u001b[0;32mor\u001b[0m \u001b[0m_global_backward_pre_hooks\u001b[0m \u001b[0;32mor\u001b[0m \u001b[0m_global_backward_hooks\u001b[0m\u001b[0;34m\u001b[0m\u001b[0;34m\u001b[0m\u001b[0m\n\u001b[1;32m   1746\u001b[0m                 or _global_forward_hooks or _global_forward_pre_hooks):\n\u001b[0;32m-> 1747\u001b[0;31m             \u001b[0;32mreturn\u001b[0m \u001b[0mforward_call\u001b[0m\u001b[0;34m(\u001b[0m\u001b[0;34m*\u001b[0m\u001b[0margs\u001b[0m\u001b[0;34m,\u001b[0m \u001b[0;34m**\u001b[0m\u001b[0mkwargs\u001b[0m\u001b[0;34m)\u001b[0m\u001b[0;34m\u001b[0m\u001b[0;34m\u001b[0m\u001b[0m\n\u001b[0m\u001b[1;32m   1748\u001b[0m \u001b[0;34m\u001b[0m\u001b[0m\n\u001b[1;32m   1749\u001b[0m         \u001b[0mresult\u001b[0m \u001b[0;34m=\u001b[0m \u001b[0;32mNone\u001b[0m\u001b[0;34m\u001b[0m\u001b[0;34m\u001b[0m\u001b[0m\n",
            "\u001b[0;32m<ipython-input-6-b5da113db4bb>\u001b[0m in \u001b[0;36mforward\u001b[0;34m(self, x)\u001b[0m\n\u001b[1;32m     43\u001b[0m \u001b[0;34m\u001b[0m\u001b[0m\n\u001b[1;32m     44\u001b[0m         \u001b[0mout\u001b[0m \u001b[0;34m=\u001b[0m \u001b[0mself\u001b[0m\u001b[0;34m.\u001b[0m\u001b[0mconv2\u001b[0m\u001b[0;34m(\u001b[0m\u001b[0mout\u001b[0m\u001b[0;34m)\u001b[0m\u001b[0;34m\u001b[0m\u001b[0;34m\u001b[0m\u001b[0m\n\u001b[0;32m---> 45\u001b[0;31m         \u001b[0mout\u001b[0m \u001b[0;34m=\u001b[0m \u001b[0mself\u001b[0m\u001b[0;34m.\u001b[0m\u001b[0mbn2\u001b[0m\u001b[0;34m(\u001b[0m\u001b[0mout\u001b[0m\u001b[0;34m)\u001b[0m\u001b[0;34m\u001b[0m\u001b[0;34m\u001b[0m\u001b[0m\n\u001b[0m\u001b[1;32m     46\u001b[0m         \u001b[0mout\u001b[0m \u001b[0;34m+=\u001b[0m \u001b[0mself\u001b[0m\u001b[0;34m.\u001b[0m\u001b[0mskip\u001b[0m\u001b[0;34m(\u001b[0m\u001b[0mx\u001b[0m\u001b[0;34m)\u001b[0m\u001b[0;34m\u001b[0m\u001b[0;34m\u001b[0m\u001b[0m\n\u001b[1;32m     47\u001b[0m         \u001b[0mout\u001b[0m \u001b[0;34m=\u001b[0m \u001b[0mF\u001b[0m\u001b[0;34m.\u001b[0m\u001b[0mrelu\u001b[0m\u001b[0;34m(\u001b[0m\u001b[0mout\u001b[0m\u001b[0;34m)\u001b[0m\u001b[0;34m\u001b[0m\u001b[0;34m\u001b[0m\u001b[0m\n",
            "\u001b[0;32m/usr/local/lib/python3.10/dist-packages/torch/nn/modules/module.py\u001b[0m in \u001b[0;36m_wrapped_call_impl\u001b[0;34m(self, *args, **kwargs)\u001b[0m\n\u001b[1;32m   1734\u001b[0m             \u001b[0;32mreturn\u001b[0m \u001b[0mself\u001b[0m\u001b[0;34m.\u001b[0m\u001b[0m_compiled_call_impl\u001b[0m\u001b[0;34m(\u001b[0m\u001b[0;34m*\u001b[0m\u001b[0margs\u001b[0m\u001b[0;34m,\u001b[0m \u001b[0;34m**\u001b[0m\u001b[0mkwargs\u001b[0m\u001b[0;34m)\u001b[0m  \u001b[0;31m# type: ignore[misc]\u001b[0m\u001b[0;34m\u001b[0m\u001b[0;34m\u001b[0m\u001b[0m\n\u001b[1;32m   1735\u001b[0m         \u001b[0;32melse\u001b[0m\u001b[0;34m:\u001b[0m\u001b[0;34m\u001b[0m\u001b[0;34m\u001b[0m\u001b[0m\n\u001b[0;32m-> 1736\u001b[0;31m             \u001b[0;32mreturn\u001b[0m \u001b[0mself\u001b[0m\u001b[0;34m.\u001b[0m\u001b[0m_call_impl\u001b[0m\u001b[0;34m(\u001b[0m\u001b[0;34m*\u001b[0m\u001b[0margs\u001b[0m\u001b[0;34m,\u001b[0m \u001b[0;34m**\u001b[0m\u001b[0mkwargs\u001b[0m\u001b[0;34m)\u001b[0m\u001b[0;34m\u001b[0m\u001b[0;34m\u001b[0m\u001b[0m\n\u001b[0m\u001b[1;32m   1737\u001b[0m \u001b[0;34m\u001b[0m\u001b[0m\n\u001b[1;32m   1738\u001b[0m     \u001b[0;31m# torchrec tests the code consistency with the following code\u001b[0m\u001b[0;34m\u001b[0m\u001b[0;34m\u001b[0m\u001b[0m\n",
            "\u001b[0;32m/usr/local/lib/python3.10/dist-packages/torch/nn/modules/module.py\u001b[0m in \u001b[0;36m_call_impl\u001b[0;34m(self, *args, **kwargs)\u001b[0m\n\u001b[1;32m   1745\u001b[0m                 \u001b[0;32mor\u001b[0m \u001b[0m_global_backward_pre_hooks\u001b[0m \u001b[0;32mor\u001b[0m \u001b[0m_global_backward_hooks\u001b[0m\u001b[0;34m\u001b[0m\u001b[0;34m\u001b[0m\u001b[0m\n\u001b[1;32m   1746\u001b[0m                 or _global_forward_hooks or _global_forward_pre_hooks):\n\u001b[0;32m-> 1747\u001b[0;31m             \u001b[0;32mreturn\u001b[0m \u001b[0mforward_call\u001b[0m\u001b[0;34m(\u001b[0m\u001b[0;34m*\u001b[0m\u001b[0margs\u001b[0m\u001b[0;34m,\u001b[0m \u001b[0;34m**\u001b[0m\u001b[0mkwargs\u001b[0m\u001b[0;34m)\u001b[0m\u001b[0;34m\u001b[0m\u001b[0;34m\u001b[0m\u001b[0m\n\u001b[0m\u001b[1;32m   1748\u001b[0m \u001b[0;34m\u001b[0m\u001b[0m\n\u001b[1;32m   1749\u001b[0m         \u001b[0mresult\u001b[0m \u001b[0;34m=\u001b[0m \u001b[0;32mNone\u001b[0m\u001b[0;34m\u001b[0m\u001b[0;34m\u001b[0m\u001b[0m\n",
            "\u001b[0;32m/usr/local/lib/python3.10/dist-packages/torch/nn/modules/batchnorm.py\u001b[0m in \u001b[0;36mforward\u001b[0;34m(self, input)\u001b[0m\n\u001b[1;32m    191\u001b[0m         \u001b[0mused\u001b[0m \u001b[0;32mfor\u001b[0m \u001b[0mnormalization\u001b[0m \u001b[0;34m(\u001b[0m\u001b[0mi\u001b[0m\u001b[0;34m.\u001b[0m\u001b[0me\u001b[0m\u001b[0;34m.\u001b[0m \u001b[0;32min\u001b[0m \u001b[0meval\u001b[0m \u001b[0mmode\u001b[0m \u001b[0mwhen\u001b[0m \u001b[0mbuffers\u001b[0m \u001b[0mare\u001b[0m \u001b[0;32mnot\u001b[0m \u001b[0;32mNone\u001b[0m\u001b[0;34m)\u001b[0m\u001b[0;34m.\u001b[0m\u001b[0;34m\u001b[0m\u001b[0;34m\u001b[0m\u001b[0m\n\u001b[1;32m    192\u001b[0m         \"\"\"\n\u001b[0;32m--> 193\u001b[0;31m         return F.batch_norm(\n\u001b[0m\u001b[1;32m    194\u001b[0m             \u001b[0minput\u001b[0m\u001b[0;34m,\u001b[0m\u001b[0;34m\u001b[0m\u001b[0;34m\u001b[0m\u001b[0m\n\u001b[1;32m    195\u001b[0m             \u001b[0;31m# If buffers are not to be tracked, ensure that they won't be updated\u001b[0m\u001b[0;34m\u001b[0m\u001b[0;34m\u001b[0m\u001b[0m\n",
            "\u001b[0;32m/usr/local/lib/python3.10/dist-packages/torch/nn/functional.py\u001b[0m in \u001b[0;36mbatch_norm\u001b[0;34m(input, running_mean, running_var, weight, bias, training, momentum, eps)\u001b[0m\n\u001b[1;32m   2810\u001b[0m         \u001b[0m_verify_batch_size\u001b[0m\u001b[0;34m(\u001b[0m\u001b[0minput\u001b[0m\u001b[0;34m.\u001b[0m\u001b[0msize\u001b[0m\u001b[0;34m(\u001b[0m\u001b[0;34m)\u001b[0m\u001b[0;34m)\u001b[0m\u001b[0;34m\u001b[0m\u001b[0;34m\u001b[0m\u001b[0m\n\u001b[1;32m   2811\u001b[0m \u001b[0;34m\u001b[0m\u001b[0m\n\u001b[0;32m-> 2812\u001b[0;31m     return torch.batch_norm(\n\u001b[0m\u001b[1;32m   2813\u001b[0m         \u001b[0minput\u001b[0m\u001b[0;34m,\u001b[0m\u001b[0;34m\u001b[0m\u001b[0;34m\u001b[0m\u001b[0m\n\u001b[1;32m   2814\u001b[0m         \u001b[0mweight\u001b[0m\u001b[0;34m,\u001b[0m\u001b[0;34m\u001b[0m\u001b[0;34m\u001b[0m\u001b[0m\n",
            "\u001b[0;31mKeyboardInterrupt\u001b[0m: "
          ]
        }
      ],
      "source": [
        "%env CUDA_LAUNCH_BLOCKING=1\n",
        "\n",
        "model = ResNet(block=ResidualBlock, num_blocks=[12, 11, 10]).to(DEVICE)\n",
        "\n",
        "optimizer = torch.optim.SGD(model.parameters(), lr=0.01, weight_decay=0.001, momentum=0.9)\n",
        "scheduler_lr = torch.optim.lr_scheduler.ReduceLROnPlateau(optimizer, factor=0.1, patience=3)\n",
        "\n",
        "train_losses, valid_losses, valid_accs =   fit(\n",
        "        model,\n",
        "        train_dataloader = train_dataloader,\n",
        "        optimizer = optimizer,\n",
        "        epochs = 50,\n",
        "        device = DEVICE,\n",
        "        val_dataloader = valid_dataloader,\n",
        "        scheduler_lr = scheduler_lr\n",
        "    )\n",
        "plot_loss( train_losses )\n"
      ]
    },
    {
      "cell_type": "code",
      "execution_count": 6,
      "metadata": {
        "colab": {
          "base_uri": "https://localhost:8080/"
        },
        "id": "4Gigyapp7sG-",
        "outputId": "5dc5dc8a-68f0-46c7-af30-37a39687d203"
      },
      "outputs": [
        {
          "output_type": "stream",
          "name": "stdout",
          "text": [
            "Files already downloaded and verified\n",
            "Files already downloaded and verified\n"
          ]
        }
      ],
      "source": [
        "# Perform per pixel noramlization\n",
        "\n",
        "mean = [0.5071, 0.4865, 0.4409]\n",
        "std =  [0.2673, 0.2564, 0.2762]\n",
        "\n",
        "# Define a new transform with data augmentation for training\n",
        "train_transform = transforms.Compose([\n",
        "    transforms.RandomCrop(32, padding=4),  # Random crop with padding\n",
        "    transforms.RandomHorizontalFlip(),    # Randomly flip images horizontally\n",
        "    transforms.RandomRotation(15),       # Randomly rotate images\n",
        "    transforms.ColorJitter(brightness=0.2, contrast=0.2, saturation=0.2, hue=0.1),  # Color augmentation\n",
        "    transforms.ToTensor()\n",
        "])\n",
        "\n",
        "# No data augmentation for validation\n",
        "val_transform = transforms.Compose([\n",
        "    transforms.ToTensor()\n",
        "])\n",
        "\n",
        "# Fetch data and apply the new transformer\n",
        "BATCH_SIZE = 128\n",
        "\n",
        "# load the train dataset\n",
        "augmented_dataset = torchvision.datasets.CIFAR100(\n",
        "    root='./data/',\n",
        "    train=True,\n",
        "    download=True,\n",
        "    transform=train_transform)\n",
        "\n",
        "base_dataset = torchvision.datasets.CIFAR100(\n",
        "    root='./data/',\n",
        "    train=True,\n",
        "    download=True,\n",
        "    transform=val_transform)\n",
        "\n",
        "# Split both the augmented and not augmented dataset,\n",
        "# but take the training from the augmented and the validation from the not augmented\n",
        "\n",
        "from torch.utils.data import random_split\n",
        "train_dataset, _ = random_split(\n",
        "    augmented_dataset,\n",
        "    lengths=[40000, 10000],\n",
        "    generator=torch.Generator().manual_seed(42)\n",
        ")\n",
        "\n",
        "_, valid_dataset = random_split(\n",
        "    base_dataset,\n",
        "    lengths=[40000, 10000],\n",
        "    generator=torch.Generator().manual_seed(42)\n",
        ")\n",
        "\n",
        "train_dataloader = DataLoader(\n",
        "    dataset=train_dataset,\n",
        "    batch_size=BATCH_SIZE,\n",
        "    shuffle=True,\n",
        "    num_workers=2)\n",
        "\n",
        "valid_dataloader = DataLoader(\n",
        "    dataset=valid_dataset,\n",
        "    batch_size=BATCH_SIZE,\n",
        "    shuffle=False,\n",
        "    num_workers=2)\n"
      ]
    },
    {
      "cell_type": "code",
      "execution_count": null,
      "metadata": {
        "colab": {
          "base_uri": "https://localhost:8080/",
          "height": 1000
        },
        "id": "dmwXVod_AIvP",
        "outputId": "6bda312d-5271-4846-f988-3329d1be360a"
      },
      "outputs": [
        {
          "name": "stdout",
          "output_type": "stream",
          "text": [
            "Epoch 0: Train Loss=4.5341, Val Loss=4.2371, Val Accuracy=5%\n",
            "Epoch 1: Train Loss=4.1085, Val Loss=3.9244, Val Accuracy=9%\n",
            "Epoch 2: Train Loss=3.8339, Val Loss=3.6200, Val Accuracy=15%\n",
            "Epoch 3: Train Loss=3.6370, Val Loss=3.5371, Val Accuracy=15%\n",
            "Epoch 4: Train Loss=3.4863, Val Loss=3.3330, Val Accuracy=19%\n",
            "Epoch 5: Train Loss=3.3254, Val Loss=3.2018, Val Accuracy=22%\n",
            "Epoch 6: Train Loss=3.1787, Val Loss=3.2045, Val Accuracy=23%\n",
            "Epoch 7: Train Loss=3.0417, Val Loss=3.0458, Val Accuracy=24%\n",
            "Epoch 8: Train Loss=2.9036, Val Loss=2.8522, Val Accuracy=28%\n",
            "Epoch 9: Train Loss=2.7661, Val Loss=2.8008, Val Accuracy=29%\n",
            "Epoch 10: Train Loss=2.6613, Val Loss=2.8536, Val Accuracy=30%\n",
            "Epoch 11: Train Loss=2.5652, Val Loss=2.7345, Val Accuracy=31%\n",
            "Epoch 12: Train Loss=2.4693, Val Loss=2.5015, Val Accuracy=36%\n",
            "Epoch 13: Train Loss=2.3911, Val Loss=2.4936, Val Accuracy=35%\n",
            "Epoch 14: Train Loss=2.3186, Val Loss=2.4978, Val Accuracy=35%\n",
            "Epoch 15: Train Loss=2.2581, Val Loss=2.2105, Val Accuracy=41%\n",
            "Epoch 16: Train Loss=2.1825, Val Loss=2.3928, Val Accuracy=38%\n",
            "Epoch 17: Train Loss=2.1296, Val Loss=2.4000, Val Accuracy=38%\n",
            "Epoch 18: Train Loss=2.0812, Val Loss=2.1856, Val Accuracy=42%\n",
            "Epoch 19: Train Loss=2.0197, Val Loss=2.2045, Val Accuracy=42%\n",
            "Epoch 20: Train Loss=1.9764, Val Loss=2.1478, Val Accuracy=44%\n",
            "Epoch 21: Train Loss=1.9439, Val Loss=2.2091, Val Accuracy=42%\n",
            "Epoch 22: Train Loss=1.8941, Val Loss=2.0348, Val Accuracy=45%\n",
            "Epoch 23: Train Loss=1.8656, Val Loss=1.9422, Val Accuracy=48%\n",
            "Epoch 24: Train Loss=1.8199, Val Loss=2.2458, Val Accuracy=43%\n",
            "Epoch 25: Train Loss=1.7904, Val Loss=1.9659, Val Accuracy=47%\n",
            "Epoch 26: Train Loss=1.7599, Val Loss=1.8692, Val Accuracy=49%\n",
            "Epoch 27: Train Loss=1.7336, Val Loss=1.9715, Val Accuracy=48%\n",
            "Epoch 28: Train Loss=1.7062, Val Loss=2.1263, Val Accuracy=45%\n",
            "Epoch 29: Train Loss=1.6761, Val Loss=1.8912, Val Accuracy=49%\n",
            "Epoch 30: Train Loss=1.6668, Val Loss=1.9080, Val Accuracy=49%\n",
            "Epoch 31: Train Loss=1.4132, Val Loss=1.4754, Val Accuracy=58%\n",
            "Epoch 32: Train Loss=1.3400, Val Loss=1.4425, Val Accuracy=59%\n",
            "Epoch 33: Train Loss=1.3185, Val Loss=1.4279, Val Accuracy=60%\n",
            "Epoch 34: Train Loss=1.2974, Val Loss=1.4282, Val Accuracy=60%\n",
            "Epoch 35: Train Loss=1.2784, Val Loss=1.4364, Val Accuracy=60%\n",
            "Epoch 36: Train Loss=1.2651, Val Loss=1.4263, Val Accuracy=60%\n",
            "Epoch 37: Train Loss=1.2536, Val Loss=1.4170, Val Accuracy=60%\n",
            "Epoch 38: Train Loss=1.2422, Val Loss=1.4246, Val Accuracy=60%\n",
            "Epoch 39: Train Loss=1.2339, Val Loss=1.4230, Val Accuracy=60%\n",
            "Epoch 40: Train Loss=1.2258, Val Loss=1.4152, Val Accuracy=60%\n",
            "Epoch 41: Train Loss=1.2199, Val Loss=1.4138, Val Accuracy=61%\n",
            "Epoch 42: Train Loss=1.2131, Val Loss=1.4162, Val Accuracy=60%\n",
            "Epoch 43: Train Loss=1.2050, Val Loss=1.4154, Val Accuracy=61%\n",
            "Epoch 44: Train Loss=1.1867, Val Loss=1.4041, Val Accuracy=60%\n",
            "Epoch 45: Train Loss=1.1832, Val Loss=1.4188, Val Accuracy=60%\n",
            "Epoch 46: Train Loss=1.1793, Val Loss=1.4081, Val Accuracy=60%\n",
            "Epoch 47: Train Loss=1.1740, Val Loss=1.4166, Val Accuracy=60%\n",
            "Epoch 48: Train Loss=1.1521, Val Loss=1.4212, Val Accuracy=60%\n",
            "Epoch 49: Train Loss=1.1255, Val Loss=1.3867, Val Accuracy=61%\n",
            "Epoch 50: Train Loss=1.1138, Val Loss=1.3775, Val Accuracy=61%\n",
            "Epoch 51: Train Loss=1.1091, Val Loss=1.3809, Val Accuracy=61%\n",
            "Epoch 52: Train Loss=1.1082, Val Loss=1.3781, Val Accuracy=61%\n",
            "Epoch 53: Train Loss=1.1039, Val Loss=1.3750, Val Accuracy=61%\n",
            "Epoch 54: Train Loss=1.1093, Val Loss=1.3743, Val Accuracy=61%\n",
            "Epoch 55: Train Loss=1.1007, Val Loss=1.3751, Val Accuracy=62%\n",
            "Epoch 56: Train Loss=1.1025, Val Loss=1.3760, Val Accuracy=62%\n",
            "Epoch 57: Train Loss=1.0967, Val Loss=1.3747, Val Accuracy=61%\n",
            "Epoch 58: Train Loss=1.0962, Val Loss=1.3727, Val Accuracy=61%\n",
            "Epoch 59: Train Loss=1.0932, Val Loss=1.3735, Val Accuracy=61%\n",
            "Epoch 60: Train Loss=1.0950, Val Loss=1.3797, Val Accuracy=61%\n",
            "Epoch 61: Train Loss=1.0875, Val Loss=1.3764, Val Accuracy=61%\n",
            "Epoch 62: Train Loss=1.0873, Val Loss=1.3714, Val Accuracy=62%\n",
            "Epoch 63: Train Loss=1.0915, Val Loss=1.3709, Val Accuracy=61%\n",
            "Epoch 64: Train Loss=1.0864, Val Loss=1.3702, Val Accuracy=61%\n",
            "Epoch 65: Train Loss=1.0871, Val Loss=1.3736, Val Accuracy=61%\n",
            "Epoch 66: Train Loss=1.0858, Val Loss=1.3702, Val Accuracy=62%\n",
            "Epoch 67: Train Loss=1.0888, Val Loss=1.3683, Val Accuracy=62%\n",
            "Epoch 68: Train Loss=1.0780, Val Loss=1.3719, Val Accuracy=62%\n",
            "Epoch 69: Train Loss=1.0841, Val Loss=1.3700, Val Accuracy=62%\n"
          ]
        },
        {
          "data": {
            "image/png": "[encoded data removed]",
            "text/plain": [
              "<Figure size 640x480 with 1 Axes>"
            ]
          },
          "metadata": {},
          "output_type": "display_data"
        }
      ],
      "source": [
        "\n",
        "model = ResNet(block=ResidualBlock, num_blocks=[12, 11, 10]).to(DEVICE)\n",
        "\n",
        "optimizer = torch.optim.SGD(model.parameters(), lr=0.01, weight_decay=0.001, momentum=0.9)\n",
        "scheduler_lr = torch.optim.lr_scheduler.ReduceLROnPlateau(optimizer, factor=0.1, patience=3)\n",
        "\n",
        "train_losses, valid_losses, valid_accs =   fit(\n",
        "        model,\n",
        "        train_dataloader = train_dataloader,\n",
        "        optimizer = optimizer,\n",
        "        epochs = 70,\n",
        "        device = DEVICE,\n",
        "        val_dataloader = valid_dataloader,\n",
        "        scheduler_lr = scheduler_lr\n",
        "    )\n",
        "plot_loss( train_losses )"
      ]
    },
    {
      "cell_type": "code",
      "execution_count": null,
      "metadata": {
        "id": "ENQ2sfK58Bdg"
      },
      "outputs": [],
      "source": [
        "torch.save(model.state_dict(), 'resNet_dataAug_SGD.pt')\n"
      ]
    },
    {
      "cell_type": "code",
      "execution_count": 7,
      "metadata": {
        "id": "_tcfxFkl_vmv"
      },
      "outputs": [],
      "source": [
        "import matplotlib.pyplot as plt\n",
        "def plot_train_val_loss(train_losses, val_losses, ylim=None, loscale=False):\n",
        "    plt.plot(train_losses, color='red', label='Training Loss')\n",
        "    plt.plot(val_losses, color='blue', label='Validation Loss')\n",
        "    plt.xlabel(\"Epochs\")\n",
        "    plt.ylabel(\"Loss\")\n",
        "    plt.ylim(ylim)\n",
        "    plt.grid()\n",
        "    plt.legend()\n",
        "    if loscale:\n",
        "        plt.yscale(\"log\")\n",
        "    plt.title(\"Loss progression across epochs\")"
      ]
    },
    {
      "cell_type": "code",
      "execution_count": null,
      "metadata": {
        "colab": {
          "base_uri": "https://localhost:8080/",
          "height": 472
        },
        "id": "DhEC254tATJJ",
        "outputId": "851c99fd-2bcf-41ff-b78f-590e65e84696"
      },
      "outputs": [
        {
          "data": {
            "image/png": "[encoded data removed]",
            "text/plain": [
              "<Figure size 640x480 with 1 Axes>"
            ]
          },
          "metadata": {},
          "output_type": "display_data"
        }
      ],
      "source": [
        "plot_train_val_loss(train_losses, valid_losses)"
      ]
    },
    {
      "cell_type": "code",
      "execution_count": 22,
      "metadata": {
        "id": "k8nhDI2zVT8g"
      },
      "outputs": [],
      "source": [
        "def custom_lr_scheduler(current_lr, new_lr, current_accucary, prev_accuracy,\n",
        "                        num_lr_reductions, patience_reductions):\n",
        "\n",
        "    print(f\"Learning rate reduced to {new_lr:.6f} (Reduction #{num_lr_reductions})\")\n",
        "    if current_accucary - prev_accuracy <= 2:   # Stagnant condition\n",
        "        num_lr_reductions += 1\n",
        "        if num_lr_reductions == patience_reductions:\n",
        "            new_lr = new_lr * 100\n",
        "            num_lr_reductions = 0\n",
        "            print(f\"Learning rate reverted to {new_lr:.6f} after {patience_reductions} reductions\")\n",
        "    else:\n",
        "        num_lr_reductions = 0\n",
        "    return new_lr, num_lr_reductions\n",
        "\n",
        "def train_epoch_noise(model: nn.Module,\n",
        "    train_dataloader: DataLoader,\n",
        "    optimizer: torch.optim.Optimizer,\n",
        "    device: torch.device,\n",
        "    gradient_threshold: float = 1e-6,\n",
        "    noNoiseEpoch_threshold: int = 5,\n",
        "    noNoiseEpoch: list = [0],\n",
        "    noise_std: float = 0.01\n",
        "):\n",
        "    running_loss = 0.0\n",
        "    model = model.to(device)\n",
        "    model.train()\n",
        "    for batch_idx, (data, target) in enumerate(train_dataloader):\n",
        "        # move data and target to device\n",
        "        data, target = data.to(device), target.to(device)\n",
        "\n",
        "        # zero the parameter gradients\n",
        "        optimizer.zero_grad()\n",
        "\n",
        "        # do the forward pass\n",
        "        output = model(data)\n",
        "\n",
        "        # compute the loss\n",
        "        loss = F.cross_entropy(output, target)\n",
        "\n",
        "        # compute the gradients\n",
        "        loss.backward()\n",
        "\n",
        "        # Add noise component to gradient\n",
        "        gradient_norm = sum(param.grad.norm().item() for param in model.parameters()) / sum(p.numel() for p in model.parameters())\n",
        "        perturb_condtion1 = gradient_norm <= gradient_threshold\n",
        "        perturb_codition2 = noNoiseEpoch[0] >= noNoiseEpoch_threshold\n",
        "\n",
        "        if perturb_condtion1 and perturb_codition2:\n",
        "            with torch.no_grad():\n",
        "                for param in model.parameters():\n",
        "                    if param.grad is not None:\n",
        "                            noise = torch.randn_like(param.grad) / torch.norm(torch.randn_like(param.grad), dim=-1, keepdim=True)* noise_std\n",
        "                            param.grad.add_(noise)\n",
        "                # print(\"Noise added to gradient\")\n",
        "            noNoiseEpoch[0] = 0\n",
        "\n",
        "        # we start counting the epochs without noise only when gradient is small (stagnant condition)\n",
        "        if perturb_condtion1 and not perturb_codition2:\n",
        "             noNoiseEpoch[0] =  noNoiseEpoch[0] + 1\n",
        "\n",
        "        # If we exit from a small gradient condition, zero the count for epochs without noise\n",
        "        # if not perturb_condtion1:\n",
        "        #     noNoiseEpoch[0] = 0\n",
        "\n",
        "        # perform the gradient step\n",
        "        optimizer.step()\n",
        "\n",
        "        # print statistics\n",
        "        running_loss += loss.item()\n",
        "\n",
        "    return running_loss / len(train_dataloader), gradient_norm\n",
        "\n",
        "\n",
        "def fit(\n",
        "    model: nn.Module,\n",
        "    train_dataloader: DataLoader,\n",
        "    optimizer: torch.optim.Optimizer,\n",
        "    epochs: int,\n",
        "    device: torch.device,\n",
        "    scheduler_lr: Optional[torch.optim.lr_scheduler.ReduceLROnPlateau] = None,\n",
        "    val_dataloader: Optional[DataLoader] = None\n",
        "):\n",
        "    \"\"\"\n",
        "    Train the model and adjust learning rate dynamically using ReduceLROnPlateau.\n",
        "\n",
        "    If the validation loss stagnates for 3 reductions, revert the learning rate\n",
        "    to its original value by multiplying by 1000.\n",
        "    \"\"\"\n",
        "    # Keep track of losses for visualization\n",
        "    train_losses = []\n",
        "    val_losses = []\n",
        "    val_accuracies = []\n",
        "\n",
        "    # Tracking learning rate changes\n",
        "    num_lr_reductions = 0\n",
        "    stagnant_reduction_start_lr = None\n",
        "    accuracy_at_reduction = None\n",
        "\n",
        "    noNoise_epoch = [0]\n",
        "    for epoch in range(epochs):\n",
        "        # Train\n",
        "        train_loss = train_epoch(\n",
        "            model=model,\n",
        "            train_dataloader=train_dataloader,\n",
        "            optimizer=optimizer,\n",
        "            device=device\n",
        "        )\n",
        "        train_losses.append(train_loss)\n",
        "\n",
        "        # Validate\n",
        "        if val_dataloader is not None:\n",
        "            val_loss, val_accuracy = predict(\n",
        "                model=model, test_dataloader=val_dataloader, device=device, verbose=False\n",
        "            )\n",
        "            val_losses.append(val_loss)\n",
        "            val_accuracies.append(val_accuracy)\n",
        "            print(\n",
        "                f\"Epoch {epoch}: Train Loss={train_loss:.4f}, Val Loss={val_loss:.4f}, Val Accuracy={val_accuracy:.0f}%\"\n",
        "            )\n",
        "        else:\n",
        "            print(f\"Epoch {epoch}: Train Loss={train_loss:.4f}\")\n",
        "\n",
        "        if scheduler_lr is not None:\n",
        "            current_lr = optimizer.param_groups[0]['lr']\n",
        "            scheduler_lr.step(metrics=val_loss)\n",
        "            new_lr = optimizer.param_groups[0]['lr']\n",
        "            if new_lr < current_lr:\n",
        "              print(f\"Learning rate reduced to {new_lr:.6f}\")\n",
        "\n",
        "    return train_losses, val_losses, val_accuracies"
      ]
    },
    {
      "cell_type": "code",
      "execution_count": 14,
      "metadata": {
        "colab": {
          "base_uri": "https://localhost:8080/",
          "height": 1000
        },
        "id": "MOXzQqmHZSnc",
        "outputId": "95235d20-ca7d-4491-b8b6-e6c792150487"
      },
      "outputs": [
        {
          "output_type": "stream",
          "name": "stderr",
          "text": [
            "/usr/local/lib/python3.10/dist-packages/torch/optim/lr_scheduler.py:62: UserWarning: The verbose parameter is deprecated. Please use get_last_lr() to access the learning rate.\n",
            "  warnings.warn(\n"
          ]
        },
        {
          "output_type": "stream",
          "name": "stdout",
          "text": [
            "Gradien Norm: 24.553634233307093\n",
            "Epoch 0: Train Loss=4.4412, Val Loss=4.1814, Val Accuracy=6%\n",
            "Gradien Norm: 32.26240393705666\n",
            "Epoch 1: Train Loss=4.0260, Val Loss=3.8791, Val Accuracy=10%\n",
            "Gradien Norm: 37.83619228191674\n",
            "Epoch 2: Train Loss=3.8143, Val Loss=3.6994, Val Accuracy=13%\n",
            "Gradien Norm: 39.625462325289845\n",
            "Epoch 3: Train Loss=3.6332, Val Loss=3.5481, Val Accuracy=16%\n",
            "Gradien Norm: 35.893998426385224\n",
            "Epoch 4: Train Loss=3.4715, Val Loss=3.3637, Val Accuracy=19%\n",
            "Gradien Norm: 43.02030966989696\n",
            "Epoch 5: Train Loss=3.3231, Val Loss=3.1701, Val Accuracy=22%\n",
            "Gradien Norm: 38.67332382686436\n",
            "Epoch 6: Train Loss=3.1820, Val Loss=3.3029, Val Accuracy=21%\n",
            "Gradien Norm: 38.40576772112399\n",
            "Epoch 7: Train Loss=3.0443, Val Loss=3.1670, Val Accuracy=23%\n",
            "Gradien Norm: 43.256425350904465\n",
            "Epoch 8: Train Loss=2.9100, Val Loss=2.8819, Val Accuracy=28%\n",
            "Gradien Norm: 48.00921353884041\n",
            "Epoch 9: Train Loss=2.7770, Val Loss=2.8160, Val Accuracy=28%\n",
            "Gradien Norm: 44.30502455867827\n",
            "Epoch 10: Train Loss=2.6757, Val Loss=2.5916, Val Accuracy=33%\n",
            "Gradien Norm: 49.84392175450921\n",
            "Epoch 11: Train Loss=2.5768, Val Loss=2.7179, Val Accuracy=31%\n",
            "Gradien Norm: 47.09093219973147\n",
            "Epoch 12: Train Loss=2.4722, Val Loss=2.6776, Val Accuracy=32%\n",
            "Gradien Norm: 44.694573026150465\n",
            "Epoch 13: Train Loss=2.3973, Val Loss=2.6003, Val Accuracy=33%\n",
            "Gradien Norm: 50.50625817384571\n",
            "Epoch 14: Train Loss=2.3211, Val Loss=2.4488, Val Accuracy=36%\n",
            "Gradien Norm: 47.67824571020901\n",
            "Epoch 15: Train Loss=2.2536, Val Loss=2.3922, Val Accuracy=39%\n",
            "Gradien Norm: 46.318450981751084\n",
            "Epoch 16: Train Loss=2.1895, Val Loss=2.3410, Val Accuracy=40%\n",
            "Gradien Norm: 44.31398802995682\n",
            "Epoch 17: Train Loss=2.1251, Val Loss=2.2695, Val Accuracy=41%\n",
            "Gradien Norm: 44.79203682951629\n",
            "Epoch 18: Train Loss=2.0785, Val Loss=2.3142, Val Accuracy=41%\n",
            "Gradien Norm: 52.63929056562483\n",
            "Epoch 19: Train Loss=2.0302, Val Loss=2.0374, Val Accuracy=45%\n",
            "Gradien Norm: 53.70737851038575\n",
            "Epoch 20: Train Loss=1.9850, Val Loss=2.0988, Val Accuracy=44%\n",
            "Gradien Norm: 49.91879947390407\n",
            "Epoch 21: Train Loss=1.9443, Val Loss=2.1794, Val Accuracy=43%\n",
            "Gradien Norm: 50.89822874683887\n",
            "Epoch 22: Train Loss=1.9148, Val Loss=1.9964, Val Accuracy=46%\n",
            "Gradien Norm: 43.77205321379006\n",
            "Epoch 23: Train Loss=1.8614, Val Loss=1.9927, Val Accuracy=47%\n",
            "Gradien Norm: 56.57498609647155\n",
            "Epoch 24: Train Loss=1.8407, Val Loss=2.2953, Val Accuracy=43%\n",
            "Gradien Norm: 49.28306988812983\n",
            "Epoch 25: Train Loss=1.7929, Val Loss=2.0725, Val Accuracy=46%\n",
            "Gradien Norm: 57.376611549407244\n",
            "Epoch 26: Train Loss=1.7742, Val Loss=1.9896, Val Accuracy=48%\n",
            "Gradien Norm: 51.26442810706794\n",
            "Epoch 27: Train Loss=1.7353, Val Loss=1.8863, Val Accuracy=49%\n",
            "Gradien Norm: 54.04359930753708\n",
            "Epoch 28: Train Loss=1.7146, Val Loss=1.9411, Val Accuracy=49%\n",
            "Gradien Norm: 46.49589214287698\n",
            "Epoch 29: Train Loss=1.6922, Val Loss=2.0348, Val Accuracy=46%\n",
            "Gradien Norm: 52.13257039710879\n",
            "Epoch 30: Train Loss=1.6701, Val Loss=1.8318, Val Accuracy=51%\n",
            "Gradien Norm: 59.42801497131586\n",
            "Epoch 31: Train Loss=1.6368, Val Loss=1.9355, Val Accuracy=49%\n",
            "Gradien Norm: 61.813213327899575\n",
            "Epoch 32: Train Loss=1.6226, Val Loss=1.9326, Val Accuracy=49%\n",
            "Gradien Norm: 56.36976830102503\n",
            "Epoch 33: Train Loss=1.5985, Val Loss=1.8368, Val Accuracy=50%\n",
            "Gradien Norm: 60.09277828037739\n",
            "Epoch 34: Train Loss=1.5901, Val Loss=1.8480, Val Accuracy=51%\n",
            "Learning rate reduced to 0.001000\n",
            "Gradien Norm: 55.38563300296664\n",
            "Epoch 35: Train Loss=1.3420, Val Loss=1.4228, Val Accuracy=60%\n",
            "Gradien Norm: 55.78502332791686\n",
            "Epoch 36: Train Loss=1.2634, Val Loss=1.4072, Val Accuracy=60%\n",
            "Gradien Norm: 58.71095043234527\n",
            "Epoch 37: Train Loss=1.2410, Val Loss=1.4121, Val Accuracy=60%\n",
            "Gradien Norm: 60.080683866515756\n",
            "Epoch 38: Train Loss=1.2218, Val Loss=1.3867, Val Accuracy=61%\n",
            "Gradien Norm: 60.93928770534694\n",
            "Epoch 39: Train Loss=1.2042, Val Loss=1.3844, Val Accuracy=61%\n",
            "Gradien Norm: 66.25822282396257\n",
            "Epoch 40: Train Loss=1.1955, Val Loss=1.3800, Val Accuracy=61%\n",
            "Gradien Norm: 60.45239292830229\n",
            "Epoch 41: Train Loss=1.1792, Val Loss=1.3920, Val Accuracy=61%\n",
            "Gradien Norm: 68.75799790397286\n",
            "Epoch 42: Train Loss=1.1662, Val Loss=1.3850, Val Accuracy=62%\n",
            "Gradien Norm: 63.56434737890959\n",
            "Epoch 43: Train Loss=1.1543, Val Loss=1.3787, Val Accuracy=62%\n",
            "Gradien Norm: 66.1497313156724\n",
            "Epoch 44: Train Loss=1.1538, Val Loss=1.3764, Val Accuracy=62%\n",
            "Gradien Norm: 67.34029808081686\n",
            "Epoch 45: Train Loss=1.1404, Val Loss=1.3807, Val Accuracy=61%\n",
            "Gradien Norm: 64.09127335809171\n",
            "Epoch 46: Train Loss=1.1302, Val Loss=1.3841, Val Accuracy=61%\n",
            "Gradien Norm: 64.7155477758497\n",
            "Epoch 47: Train Loss=1.1279, Val Loss=1.3729, Val Accuracy=62%\n",
            "Gradien Norm: 71.5050999224186\n",
            "Epoch 48: Train Loss=1.1147, Val Loss=1.3766, Val Accuracy=62%\n",
            "Gradien Norm: 73.15701322630048\n",
            "Epoch 49: Train Loss=1.1083, Val Loss=1.3653, Val Accuracy=62%\n",
            "Gradien Norm: 70.34006262011826\n",
            "Epoch 50: Train Loss=1.1043, Val Loss=1.3761, Val Accuracy=62%\n",
            "Gradien Norm: 63.882163314148784\n",
            "Epoch 51: Train Loss=1.1030, Val Loss=1.3722, Val Accuracy=62%\n",
            "Gradien Norm: 63.326997416093946\n",
            "Epoch 52: Train Loss=1.0884, Val Loss=1.3706, Val Accuracy=62%\n",
            "Gradien Norm: 72.70700529776514\n",
            "Epoch 53: Train Loss=1.0729, Val Loss=1.3673, Val Accuracy=62%\n",
            "Learning rate reduced to 0.000100\n",
            "Gradien Norm: 76.33130385354161\n",
            "Epoch 54: Train Loss=1.0380, Val Loss=1.3416, Val Accuracy=62%\n",
            "Gradien Norm: 62.06357885338366\n",
            "Epoch 55: Train Loss=1.0289, Val Loss=1.3401, Val Accuracy=63%\n",
            "Gradien Norm: 76.21156414598227\n",
            "Epoch 56: Train Loss=1.0271, Val Loss=1.3360, Val Accuracy=63%\n",
            "Gradien Norm: 65.44079069793224\n",
            "Epoch 57: Train Loss=1.0268, Val Loss=1.3377, Val Accuracy=63%\n",
            "Gradien Norm: 73.70095212943852\n",
            "Epoch 58: Train Loss=1.0196, Val Loss=1.3373, Val Accuracy=63%\n",
            "Gradien Norm: 71.22960321977735\n",
            "Epoch 59: Train Loss=1.0177, Val Loss=1.3368, Val Accuracy=63%\n",
            "Gradien Norm: 80.5191891156137\n",
            "Epoch 60: Train Loss=1.0160, Val Loss=1.3394, Val Accuracy=63%\n",
            "Learning rate reduced to 0.000010\n",
            "Gradien Norm: 72.53806478902698\n",
            "Epoch 61: Train Loss=1.0161, Val Loss=1.3390, Val Accuracy=63%\n",
            "Gradien Norm: 59.016957841813564\n",
            "Epoch 62: Train Loss=1.0175, Val Loss=1.3363, Val Accuracy=62%\n",
            "Gradien Norm: 75.13715676032007\n",
            "Epoch 63: Train Loss=1.0118, Val Loss=1.3425, Val Accuracy=62%\n",
            "Gradien Norm: 62.68009695224464\n",
            "Epoch 64: Train Loss=1.0144, Val Loss=1.3332, Val Accuracy=63%\n",
            "Gradien Norm: 78.33638682961464\n",
            "Epoch 65: Train Loss=1.0142, Val Loss=1.3352, Val Accuracy=63%\n",
            "Gradien Norm: 81.29248072579503\n",
            "Epoch 66: Train Loss=1.0164, Val Loss=1.3381, Val Accuracy=63%\n",
            "Gradien Norm: 58.36553751863539\n",
            "Epoch 67: Train Loss=1.0163, Val Loss=1.3370, Val Accuracy=63%\n",
            "Gradien Norm: 70.71003201045096\n",
            "Epoch 68: Train Loss=1.0176, Val Loss=1.3372, Val Accuracy=63%\n",
            "Learning rate reduced to 0.000001\n",
            "Gradien Norm: 66.7237038332969\n",
            "Epoch 69: Train Loss=1.0173, Val Loss=1.3381, Val Accuracy=63%\n"
          ]
        },
        {
          "output_type": "display_data",
          "data": {
            "text/plain": [
              "<Figure size 640x480 with 1 Axes>"
            ],
            "image/png": "[encoded data removed]"
          },
          "metadata": {}
        }
      ],
      "source": [
        "model = ResNet(block=ResidualBlock, num_blocks=[12, 11, 10]).to(DEVICE)\n",
        "\n",
        "optimizer = torch.optim.SGD(model.parameters(), lr=0.01, weight_decay=0.001, momentum=0.9)\n",
        "scheduler_lr = torch.optim.lr_scheduler.ReduceLROnPlateau(optimizer, factor=0.1, patience=3, threshold=1e-3, verbose=True)\n",
        "\n",
        "train_losses, valid_losses, valid_accs =   fit(\n",
        "        model,\n",
        "        train_dataloader = train_dataloader,\n",
        "        optimizer = optimizer,\n",
        "        epochs = 70,\n",
        "        device = DEVICE,\n",
        "        val_dataloader = valid_dataloader,\n",
        "        scheduler_lr = scheduler_lr,\n",
        "        gradient_threshold= 1e-4,\n",
        "        noNoiseEpochs_threshold= 3,\n",
        "        std_noise= 0.01\n",
        "    )\n",
        "torch.save(model.state_dict(), 'resNet_dataAug_noiseSDG.pt')\n",
        "plot_train_val_loss(train_losses, valid_losses)"
      ]
    },
    {
      "cell_type": "code",
      "source": [
        "model = ResNet(block=ResidualBlock, num_blocks=[12, 11, 10]).to(DEVICE)\n",
        "\n",
        "optimizer = torch.optim.SGD(model.parameters(), lr=0.1, weight_decay=0.001, momentum=0.9)\n",
        "scheduler_lr = torch.optim.lr_scheduler.ReduceLROnPlateau(optimizer, factor=0.1, patience=3, threshold=1e-3, verbose=True)\n",
        "\n",
        "train_losses, valid_losses, valid_accs =   fit(\n",
        "        model,\n",
        "        train_dataloader = train_dataloader,\n",
        "        optimizer = optimizer,\n",
        "        epochs = 70,\n",
        "        device = DEVICE,\n",
        "        val_dataloader = valid_dataloader,\n",
        "        scheduler_lr = scheduler_lr\n",
        "    )\n",
        "torch.save(model.state_dict(), 'resNet_dataAug_noiseSDG.pt')\n",
        "plot_train_val_loss(train_losses, valid_losses)"
      ],
      "metadata": {
        "colab": {
          "base_uri": "https://localhost:8080/",
          "height": 1000
        },
        "id": "qTMFfWx7amNK",
        "outputId": "0569d9e4-828c-406c-8d1e-e722656e40ee"
      },
      "execution_count": 24,
      "outputs": [
        {
          "output_type": "stream",
          "name": "stdout",
          "text": [
            "Epoch 0: Train Loss=4.6907, Val Loss=4.5988, Val Accuracy=1%\n",
            "Epoch 1: Train Loss=4.5746, Val Loss=4.5216, Val Accuracy=2%\n",
            "Epoch 2: Train Loss=4.2283, Val Loss=4.1162, Val Accuracy=6%\n",
            "Epoch 3: Train Loss=3.9316, Val Loss=3.8302, Val Accuracy=10%\n",
            "Epoch 4: Train Loss=3.6728, Val Loss=3.7518, Val Accuracy=13%\n",
            "Epoch 5: Train Loss=3.4671, Val Loss=3.4054, Val Accuracy=18%\n",
            "Epoch 6: Train Loss=3.2693, Val Loss=3.4713, Val Accuracy=18%\n",
            "Epoch 7: Train Loss=3.0985, Val Loss=3.3117, Val Accuracy=20%\n",
            "Epoch 8: Train Loss=2.9601, Val Loss=3.2858, Val Accuracy=22%\n",
            "Epoch 9: Train Loss=2.8630, Val Loss=2.8824, Val Accuracy=28%\n",
            "Epoch 10: Train Loss=2.7774, Val Loss=2.8851, Val Accuracy=28%\n",
            "Epoch 11: Train Loss=2.7258, Val Loss=3.1945, Val Accuracy=25%\n",
            "Epoch 12: Train Loss=2.6786, Val Loss=2.7952, Val Accuracy=30%\n",
            "Epoch 13: Train Loss=2.6261, Val Loss=2.7978, Val Accuracy=31%\n",
            "Epoch 14: Train Loss=2.5856, Val Loss=2.7322, Val Accuracy=32%\n",
            "Epoch 15: Train Loss=2.5386, Val Loss=2.8670, Val Accuracy=30%\n",
            "Epoch 16: Train Loss=2.5024, Val Loss=2.9313, Val Accuracy=30%\n",
            "Epoch 17: Train Loss=2.4705, Val Loss=2.5540, Val Accuracy=35%\n",
            "Epoch 18: Train Loss=2.4431, Val Loss=2.9046, Val Accuracy=29%\n",
            "Epoch 19: Train Loss=2.4049, Val Loss=2.9695, Val Accuracy=29%\n",
            "Epoch 20: Train Loss=2.3971, Val Loss=2.4722, Val Accuracy=36%\n",
            "Epoch 21: Train Loss=2.3703, Val Loss=2.8181, Val Accuracy=30%\n",
            "Epoch 22: Train Loss=2.3437, Val Loss=3.5957, Val Accuracy=25%\n",
            "Epoch 23: Train Loss=2.3256, Val Loss=2.5910, Val Accuracy=36%\n",
            "Epoch 24: Train Loss=2.3094, Val Loss=2.5346, Val Accuracy=36%\n",
            "Learning rate reduced to 0.010000\n",
            "Epoch 25: Train Loss=1.8237, Val Loss=1.6607, Val Accuracy=54%\n",
            "Epoch 26: Train Loss=1.6746, Val Loss=1.6420, Val Accuracy=54%\n",
            "Epoch 27: Train Loss=1.6157, Val Loss=1.6507, Val Accuracy=54%\n",
            "Epoch 28: Train Loss=1.5721, Val Loss=1.5805, Val Accuracy=56%\n",
            "Epoch 29: Train Loss=1.5435, Val Loss=1.5989, Val Accuracy=55%\n",
            "Epoch 30: Train Loss=1.5071, Val Loss=1.5969, Val Accuracy=55%\n",
            "Epoch 31: Train Loss=1.4936, Val Loss=1.5658, Val Accuracy=56%\n",
            "Epoch 32: Train Loss=1.4667, Val Loss=1.6051, Val Accuracy=56%\n",
            "Epoch 33: Train Loss=1.4620, Val Loss=1.5682, Val Accuracy=56%\n",
            "Epoch 34: Train Loss=1.4515, Val Loss=1.6406, Val Accuracy=54%\n",
            "Epoch 35: Train Loss=1.4212, Val Loss=1.5991, Val Accuracy=56%\n",
            "Learning rate reduced to 0.001000\n",
            "Epoch 36: Train Loss=1.2866, Val Loss=1.3698, Val Accuracy=61%\n",
            "Epoch 37: Train Loss=1.2257, Val Loss=1.3547, Val Accuracy=61%\n",
            "Epoch 38: Train Loss=1.2175, Val Loss=1.3507, Val Accuracy=62%\n",
            "Epoch 39: Train Loss=1.1967, Val Loss=1.3505, Val Accuracy=61%\n",
            "Epoch 40: Train Loss=1.1848, Val Loss=1.3429, Val Accuracy=62%\n",
            "Epoch 41: Train Loss=1.1722, Val Loss=1.3389, Val Accuracy=62%\n",
            "Epoch 42: Train Loss=1.1611, Val Loss=1.3341, Val Accuracy=62%\n",
            "Epoch 43: Train Loss=1.1605, Val Loss=1.3323, Val Accuracy=62%\n",
            "Epoch 44: Train Loss=1.1510, Val Loss=1.3281, Val Accuracy=62%\n",
            "Epoch 45: Train Loss=1.1472, Val Loss=1.3343, Val Accuracy=62%\n",
            "Epoch 46: Train Loss=1.1332, Val Loss=1.3311, Val Accuracy=62%\n",
            "Epoch 47: Train Loss=1.1236, Val Loss=1.3293, Val Accuracy=62%\n",
            "Epoch 48: Train Loss=1.1220, Val Loss=1.3498, Val Accuracy=62%\n",
            "Learning rate reduced to 0.000100\n",
            "Epoch 49: Train Loss=1.0940, Val Loss=1.3212, Val Accuracy=62%\n",
            "Epoch 50: Train Loss=1.0848, Val Loss=1.3157, Val Accuracy=63%\n",
            "Epoch 51: Train Loss=1.0878, Val Loss=1.3167, Val Accuracy=62%\n",
            "Epoch 52: Train Loss=1.0836, Val Loss=1.3166, Val Accuracy=63%\n",
            "Epoch 53: Train Loss=1.0866, Val Loss=1.3165, Val Accuracy=63%\n",
            "Epoch 54: Train Loss=1.0879, Val Loss=1.3124, Val Accuracy=63%\n",
            "Epoch 55: Train Loss=1.0808, Val Loss=1.3130, Val Accuracy=63%\n",
            "Epoch 56: Train Loss=1.0809, Val Loss=1.3141, Val Accuracy=62%\n",
            "Epoch 57: Train Loss=1.0792, Val Loss=1.3158, Val Accuracy=63%\n",
            "Epoch 58: Train Loss=1.0828, Val Loss=1.3113, Val Accuracy=63%\n",
            "Learning rate reduced to 0.000010\n",
            "Epoch 59: Train Loss=1.0795, Val Loss=1.3096, Val Accuracy=63%\n",
            "Epoch 60: Train Loss=1.0758, Val Loss=1.3144, Val Accuracy=63%\n",
            "Epoch 61: Train Loss=1.0753, Val Loss=1.3138, Val Accuracy=63%\n",
            "Epoch 62: Train Loss=1.0704, Val Loss=1.3124, Val Accuracy=63%\n",
            "Epoch 63: Train Loss=1.0707, Val Loss=1.3112, Val Accuracy=63%\n",
            "Learning rate reduced to 0.000001\n",
            "Epoch 64: Train Loss=1.0713, Val Loss=1.3123, Val Accuracy=63%\n",
            "Epoch 65: Train Loss=1.0697, Val Loss=1.3164, Val Accuracy=63%\n",
            "Epoch 66: Train Loss=1.0681, Val Loss=1.3108, Val Accuracy=63%\n",
            "Epoch 67: Train Loss=1.0791, Val Loss=1.3083, Val Accuracy=63%\n",
            "Epoch 68: Train Loss=1.0721, Val Loss=1.3136, Val Accuracy=63%\n",
            "Epoch 69: Train Loss=1.0794, Val Loss=1.3113, Val Accuracy=63%\n"
          ]
        },
        {
          "output_type": "display_data",
          "data": {
            "text/plain": [
              "<Figure size 640x480 with 1 Axes>"
            ],
            "image/png": "[encoded data removed]"
          },
          "metadata": {}
        }
      ]
    },
    {
      "cell_type": "code",
      "source": [
        "model = ResNet(block=ResidualBlock, num_blocks=[12, 11, 10]).to(DEVICE)\n",
        "\n",
        "optimizer = torch.optim.SGD(model.parameters(), lr=0.1, weight_decay=0.001, momentum=0.9, nesterov=True)\n",
        "scheduler_lr = torch.optim.lr_scheduler.ReduceLROnPlateau(optimizer, factor=0.5, patience=3, threshold=1e-3, verbose=True)\n",
        "\n",
        "train_losses, valid_losses, valid_accs =   fit(\n",
        "        model,\n",
        "        train_dataloader = train_dataloader,\n",
        "        optimizer = optimizer,\n",
        "        epochs = 70,\n",
        "        device = DEVICE,\n",
        "        val_dataloader = valid_dataloader,\n",
        "        scheduler_lr = scheduler_lr\n",
        "    )\n",
        "torch.save(model.state_dict(), 'resNet_dataAug_nesterov_0p5SchedulerFactor.pt')\n",
        "plot_train_val_loss(train_losses, valid_losses)"
      ],
      "metadata": {
        "colab": {
          "base_uri": "https://localhost:8080/"
        },
        "id": "VYhftoQf5yLI",
        "outputId": "82e6217f-6f82-4586-cb29-93aab3bff08a"
      },
      "execution_count": null,
      "outputs": [
        {
          "output_type": "stream",
          "name": "stderr",
          "text": [
            "/usr/local/lib/python3.10/dist-packages/torch/optim/lr_scheduler.py:62: UserWarning: The verbose parameter is deprecated. Please use get_last_lr() to access the learning rate.\n",
            "  warnings.warn(\n"
          ]
        },
        {
          "output_type": "stream",
          "name": "stdout",
          "text": [
            "Epoch 0: Train Loss=4.4510, Val Loss=4.1382, Val Accuracy=5%\n",
            "Epoch 1: Train Loss=3.9764, Val Loss=3.8233, Val Accuracy=11%\n",
            "Epoch 2: Train Loss=3.6573, Val Loss=3.5676, Val Accuracy=15%\n",
            "Epoch 3: Train Loss=3.3296, Val Loss=3.5266, Val Accuracy=19%\n",
            "Epoch 4: Train Loss=3.0506, Val Loss=3.4102, Val Accuracy=21%\n",
            "Epoch 5: Train Loss=2.8271, Val Loss=3.2591, Val Accuracy=23%\n",
            "Epoch 6: Train Loss=2.6607, Val Loss=3.2051, Val Accuracy=26%\n",
            "Epoch 7: Train Loss=2.5509, Val Loss=2.6076, Val Accuracy=33%\n",
            "Epoch 8: Train Loss=2.4656, Val Loss=3.2850, Val Accuracy=25%\n",
            "Epoch 9: Train Loss=2.3907, Val Loss=2.8603, Val Accuracy=29%\n",
            "Epoch 10: Train Loss=2.3485, Val Loss=3.1880, Val Accuracy=26%\n",
            "Epoch 11: Train Loss=2.3056, Val Loss=2.6365, Val Accuracy=34%\n",
            "Learning rate reduced to 0.050000\n",
            "Epoch 12: Train Loss=2.0066, Val Loss=2.0772, Val Accuracy=45%\n",
            "Epoch 13: Train Loss=1.9696, Val Loss=2.7886, Val Accuracy=36%\n",
            "Epoch 14: Train Loss=1.9585, Val Loss=2.1597, Val Accuracy=43%\n",
            "Epoch 15: Train Loss=1.9402, Val Loss=2.1871, Val Accuracy=42%\n",
            "Epoch 16: Train Loss=1.9138, Val Loss=2.2034, Val Accuracy=43%\n",
            "Learning rate reduced to 0.025000\n",
            "Epoch 17: Train Loss=1.6862, Val Loss=1.7333, Val Accuracy=53%\n",
            "Epoch 18: Train Loss=1.6396, Val Loss=1.9613, Val Accuracy=49%\n",
            "Epoch 19: Train Loss=1.6246, Val Loss=2.0318, Val Accuracy=48%\n",
            "Epoch 20: Train Loss=1.6148, Val Loss=1.7961, Val Accuracy=52%\n",
            "Epoch 21: Train Loss=1.6076, Val Loss=1.7781, Val Accuracy=52%\n",
            "Learning rate reduced to 0.012500\n",
            "Epoch 22: Train Loss=1.4083, Val Loss=1.5021, Val Accuracy=58%\n",
            "Epoch 23: Train Loss=1.3591, Val Loss=1.5645, Val Accuracy=57%\n",
            "Epoch 24: Train Loss=1.3597, Val Loss=1.5155, Val Accuracy=58%\n",
            "Epoch 25: Train Loss=1.3442, Val Loss=1.5694, Val Accuracy=57%\n",
            "Epoch 26: Train Loss=1.3315, Val Loss=1.5462, Val Accuracy=58%\n",
            "Learning rate reduced to 0.006250\n",
            "Epoch 27: Train Loss=1.1872, Val Loss=1.3247, Val Accuracy=63%\n",
            "Epoch 28: Train Loss=1.1538, Val Loss=1.3519, Val Accuracy=62%\n",
            "Epoch 29: Train Loss=1.1339, Val Loss=1.3905, Val Accuracy=62%\n",
            "Epoch 30: Train Loss=1.1209, Val Loss=1.3226, Val Accuracy=63%\n",
            "Epoch 31: Train Loss=1.1135, Val Loss=1.3978, Val Accuracy=61%\n",
            "Epoch 32: Train Loss=1.1069, Val Loss=1.3248, Val Accuracy=63%\n",
            "Epoch 33: Train Loss=1.1025, Val Loss=1.3936, Val Accuracy=61%\n",
            "Epoch 34: Train Loss=1.0970, Val Loss=1.3700, Val Accuracy=62%\n",
            "Learning rate reduced to 0.003125\n",
            "Epoch 35: Train Loss=0.9824, Val Loss=1.2423, Val Accuracy=64%\n",
            "Epoch 36: Train Loss=0.9474, Val Loss=1.2648, Val Accuracy=65%\n",
            "Epoch 37: Train Loss=0.9335, Val Loss=1.2764, Val Accuracy=65%\n",
            "Epoch 38: Train Loss=0.9306, Val Loss=1.2857, Val Accuracy=65%\n",
            "Epoch 39: Train Loss=0.9136, Val Loss=1.2720, Val Accuracy=65%\n",
            "Learning rate reduced to 0.001563\n",
            "Epoch 40: Train Loss=0.8435, Val Loss=1.2026, Val Accuracy=66%\n",
            "Epoch 41: Train Loss=0.8171, Val Loss=1.2185, Val Accuracy=66%\n",
            "Epoch 42: Train Loss=0.8157, Val Loss=1.2101, Val Accuracy=66%\n"
          ]
        }
      ]
    },
    {
      "cell_type": "markdown",
      "metadata": {
        "id": "uZsY5DQ-A7XL"
      },
      "source": [
        "- Try to change regularization parameter\n",
        "- Try SGD optmizier with momentum\n",
        "- Remove the per pixel mean before feeding the images into the network\n",
        "- Retry the bottleneck architecture."
      ]
    },
    {
      "cell_type": "code",
      "execution_count": null,
      "metadata": {
        "colab": {
          "base_uri": "https://localhost:8080/"
        },
        "id": "A-or-AFo-uyF",
        "outputId": "349a8082-39f3-42c4-ad82-c2085bb8c8c1"
      },
      "outputs": [
        {
          "name": "stdout",
          "output_type": "stream",
          "text": [
            "Files already downloaded and verified\n"
          ]
        }
      ],
      "source": [
        "device = torch.device('cuda' if torch.cuda.is_available() else 'mps' if torch.mps.is_available() else 'cpu')\n",
        "test_dataset = torchvision.datasets.CIFAR100(root='./data', train=False, download=True, transform=val_transform)\n",
        "\n",
        "def evaluate(model):\n",
        "    params_count = sum(p.numel() for p in model.parameters())\n",
        "    print('The model has {} parameters'.format(params_count))\n",
        "\n",
        "    if params_count > int(1e6):\n",
        "        print('The model has too many parameters! Not allowed to evaluate.')\n",
        "        return\n",
        "\n",
        "    model = model.to(device)\n",
        "    model.eval()\n",
        "    correct = 0\n",
        "    total = 0\n",
        "\n",
        "    test_loader = torch.utils.data.DataLoader(test_dataset, batch_size=32, shuffle=False)\n",
        "    for images, labels in test_loader:\n",
        "        images, labels = images.to(device), labels.to(device)\n",
        "        outputs = model(images)\n",
        "        _, predicted = torch.max(outputs.data, 1)\n",
        "        total += labels.size(0)\n",
        "        correct += (predicted == labels).sum().item()\n",
        "\n",
        "\n",
        "    # print in bold red in a notebook\n",
        "    print('\\033[1m\\033[91mAccuracy on the test set: {}%\\033[0m'.format(100 * correct / total))\n"
      ]
    },
    {
      "cell_type": "code",
      "execution_count": null,
      "metadata": {
        "colab": {
          "base_uri": "https://localhost:8080/"
        },
        "id": "xJ8Mvuom_Y7p",
        "outputId": "a3d1252f-5a8e-45b0-fd67-d264b5841e89"
      },
      "outputs": [
        {
          "name": "stdout",
          "output_type": "stream",
          "text": [
            "The model has 986740 parameters\n",
            "\u001b[1m\u001b[91mAccuracy on the test set: 61.8%\u001b[0m\n"
          ]
        }
      ],
      "source": [
        "evaluate(loaded_model)"
      ]
    }
  ],
  "metadata": {
    "accelerator": "GPU",
    "colab": {
      "gpuType": "T4",
      "provenance": []
    },
    "kernelspec": {
      "display_name": "Python 3",
      "name": "python3"
    },
    "language_info": {
      "codemirror_mode": {
        "name": "ipython",
        "version": 3
      },
      "file_extension": ".py",
      "mimetype": "text/x-python",
      "name": "python",
      "nbconvert_exporter": "python",
      "pygments_lexer": "ipython3",
      "version": "3.12.1"
    }
  },
  "nbformat": 4,
  "nbformat_minor": 0
}